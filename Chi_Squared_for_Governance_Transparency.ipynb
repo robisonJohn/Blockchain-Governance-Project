{
  "nbformat": 4,
  "nbformat_minor": 0,
  "metadata": {
    "colab": {
      "name": "Chi Squared for Governance Transparency.ipynb",
      "provenance": [],
      "authorship_tag": "ABX9TyOyL3FyWjo2i4dz+qxxfgKM",
      "include_colab_link": true
    },
    "kernelspec": {
      "name": "python3",
      "display_name": "Python 3"
    },
    "language_info": {
      "name": "python"
    }
  },
  "cells": [
    {
      "cell_type": "markdown",
      "metadata": {
        "id": "view-in-github",
        "colab_type": "text"
      },
      "source": [
        "<a href=\"https://colab.research.google.com/github/robisonJohn/Blockchain-Governance-Project/blob/main/Chi_Squared_for_Governance_Transparency.ipynb\" target=\"_parent\"><img src=\"https://colab.research.google.com/assets/colab-badge.svg\" alt=\"Open In Colab\"/></a>"
      ]
    },
    {
      "cell_type": "code",
      "metadata": {
        "id": "TpkMbtuY6-Pu"
      },
      "source": [
        "import pandas as pd\n",
        "from scipy.stats import chi2_contingency\n",
        "import numpy as np"
      ],
      "execution_count": 1,
      "outputs": []
    },
    {
      "cell_type": "code",
      "metadata": {
        "id": "C45qbYG07LfQ"
      },
      "source": [
        "govTransparency = pd.DataFrame(\n",
        "    [\n",
        "     [27,1,13,9],\n",
        "     [11,2,15,9]\n",
        "    ],\n",
        "    index=[\"Low Transparency\", \"High Transparency\"],\n",
        "    columns=['Low Value',\"Moderate Value\",\"High Value\",\"Extremely High Value\"]\n",
        ")"
      ],
      "execution_count": 4,
      "outputs": []
    },
    {
      "cell_type": "code",
      "metadata": {
        "colab": {
          "base_uri": "https://localhost:8080/",
          "height": 111
        },
        "id": "WIclNRLL7kza",
        "outputId": "9c511379-3bc0-43bf-ea59-a20344001a3f"
      },
      "source": [
        "govTransparency"
      ],
      "execution_count": 5,
      "outputs": [
        {
          "output_type": "execute_result",
          "data": {
            "text/html": [
              "<div>\n",
              "<style scoped>\n",
              "    .dataframe tbody tr th:only-of-type {\n",
              "        vertical-align: middle;\n",
              "    }\n",
              "\n",
              "    .dataframe tbody tr th {\n",
              "        vertical-align: top;\n",
              "    }\n",
              "\n",
              "    .dataframe thead th {\n",
              "        text-align: right;\n",
              "    }\n",
              "</style>\n",
              "<table border=\"1\" class=\"dataframe\">\n",
              "  <thead>\n",
              "    <tr style=\"text-align: right;\">\n",
              "      <th></th>\n",
              "      <th>Low Value</th>\n",
              "      <th>Moderate Value</th>\n",
              "      <th>High Value</th>\n",
              "      <th>Extremely High Value</th>\n",
              "    </tr>\n",
              "  </thead>\n",
              "  <tbody>\n",
              "    <tr>\n",
              "      <th>Low Transparency</th>\n",
              "      <td>27</td>\n",
              "      <td>1</td>\n",
              "      <td>13</td>\n",
              "      <td>9</td>\n",
              "    </tr>\n",
              "    <tr>\n",
              "      <th>High Transparency</th>\n",
              "      <td>11</td>\n",
              "      <td>2</td>\n",
              "      <td>15</td>\n",
              "      <td>9</td>\n",
              "    </tr>\n",
              "  </tbody>\n",
              "</table>\n",
              "</div>"
            ],
            "text/plain": [
              "                   Low Value  Moderate Value  High Value  Extremely High Value\n",
              "Low Transparency          27               1          13                     9\n",
              "High Transparency         11               2          15                     9"
            ]
          },
          "metadata": {
            "tags": []
          },
          "execution_count": 5
        }
      ]
    },
    {
      "cell_type": "code",
      "metadata": {
        "colab": {
          "base_uri": "https://localhost:8080/"
        },
        "id": "Z9k0_4fb7lxp",
        "outputId": "ca3b2412-82b9-4d8e-f233-95ae2f385069"
      },
      "source": [
        "chi2_contingency(govTransparency)"
      ],
      "execution_count": 6,
      "outputs": [
        {
          "output_type": "execute_result",
          "data": {
            "text/plain": [
              "(5.39087075797602,\n",
              " 0.14531342127930644,\n",
              " 3,\n",
              " array([[21.83908046,  1.72413793, 16.09195402, 10.34482759],\n",
              "        [16.16091954,  1.27586207, 11.90804598,  7.65517241]]))"
            ]
          },
          "metadata": {
            "tags": []
          },
          "execution_count": 6
        }
      ]
    },
    {
      "cell_type": "code",
      "metadata": {
        "colab": {
          "base_uri": "https://localhost:8080/",
          "height": 111
        },
        "id": "YO_5iwpw74h-",
        "outputId": "fca066c0-095e-40eb-b629-c7a15b6f2a82"
      },
      "source": [
        "df=chi2_contingency(govTransparency)[3]\n",
        "\n",
        "pd.DataFrame(\n",
        "    data=df[:,:],\n",
        "    index=[\"Low Transparency\", \"High Transparency\"],\n",
        "    columns=['Low Value',\"Moderate Value\",\"High Value\",\"Extremely High Value\"]\n",
        ").round(2)"
      ],
      "execution_count": 7,
      "outputs": [
        {
          "output_type": "execute_result",
          "data": {
            "text/html": [
              "<div>\n",
              "<style scoped>\n",
              "    .dataframe tbody tr th:only-of-type {\n",
              "        vertical-align: middle;\n",
              "    }\n",
              "\n",
              "    .dataframe tbody tr th {\n",
              "        vertical-align: top;\n",
              "    }\n",
              "\n",
              "    .dataframe thead th {\n",
              "        text-align: right;\n",
              "    }\n",
              "</style>\n",
              "<table border=\"1\" class=\"dataframe\">\n",
              "  <thead>\n",
              "    <tr style=\"text-align: right;\">\n",
              "      <th></th>\n",
              "      <th>Low Value</th>\n",
              "      <th>Moderate Value</th>\n",
              "      <th>High Value</th>\n",
              "      <th>Extremely High Value</th>\n",
              "    </tr>\n",
              "  </thead>\n",
              "  <tbody>\n",
              "    <tr>\n",
              "      <th>Low Transparency</th>\n",
              "      <td>21.84</td>\n",
              "      <td>1.72</td>\n",
              "      <td>16.09</td>\n",
              "      <td>10.34</td>\n",
              "    </tr>\n",
              "    <tr>\n",
              "      <th>High Transparency</th>\n",
              "      <td>16.16</td>\n",
              "      <td>1.28</td>\n",
              "      <td>11.91</td>\n",
              "      <td>7.66</td>\n",
              "    </tr>\n",
              "  </tbody>\n",
              "</table>\n",
              "</div>"
            ],
            "text/plain": [
              "                   Low Value  Moderate Value  High Value  Extremely High Value\n",
              "Low Transparency       21.84            1.72       16.09                 10.34\n",
              "High Transparency      16.16            1.28       11.91                  7.66"
            ]
          },
          "metadata": {
            "tags": []
          },
          "execution_count": 7
        }
      ]
    },
    {
      "cell_type": "code",
      "metadata": {
        "colab": {
          "base_uri": "https://localhost:8080/"
        },
        "id": "A5ZIjS5H8Ejt",
        "outputId": "caf9bff9-812a-4161-db80-eeae51ab025c"
      },
      "source": [
        "pvalue = chi2_contingency(govTransparency)[1]\n",
        "if pvalue < 0.05:\n",
        "  print('The result is statistically significant, so we reject the null hypothesis')\n",
        "else:\n",
        "  print('The result is not statistically significant, so we fail to reject the hypothesis')"
      ],
      "execution_count": 8,
      "outputs": [
        {
          "output_type": "stream",
          "text": [
            "The result is not statistically significant, so we fail to reject the hypothesis\n"
          ],
          "name": "stdout"
        }
      ]
    },
    {
      "cell_type": "code",
      "metadata": {
        "id": "kYtzf_Rf8NMT"
      },
      "source": [
        ""
      ],
      "execution_count": null,
      "outputs": []
    }
  ]
}