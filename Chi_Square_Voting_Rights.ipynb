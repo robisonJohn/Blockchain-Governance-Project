{
  "nbformat": 4,
  "nbformat_minor": 0,
  "metadata": {
    "colab": {
      "name": "Chi Square Voting Rights.ipynb",
      "provenance": [],
      "authorship_tag": "ABX9TyObSgbYHj6HZuFNTNgJDHyP",
      "include_colab_link": true
    },
    "kernelspec": {
      "name": "python3",
      "display_name": "Python 3"
    },
    "language_info": {
      "name": "python"
    }
  },
  "cells": [
    {
      "cell_type": "markdown",
      "metadata": {
        "id": "view-in-github",
        "colab_type": "text"
      },
      "source": [
        "<a href=\"https://colab.research.google.com/github/robisonJohn/Blockchain-Governance-Project/blob/main/Chi_Square_Voting_Rights.ipynb\" target=\"_parent\"><img src=\"https://colab.research.google.com/assets/colab-badge.svg\" alt=\"Open In Colab\"/></a>"
      ]
    },
    {
      "cell_type": "code",
      "metadata": {
        "id": "uyT5we53v9C_"
      },
      "source": [
        "import pandas as pd\n",
        "from scipy.stats import chi2_contingency\n",
        "import numpy as np\n",
        "\n",
        "url = 'https://raw.githubusercontent.com/robisonJohn/Blockchain-Governance-Project/main/governance.csv';\n",
        "\n",
        "data = pd.read_csv(url);"
      ],
      "execution_count": 1,
      "outputs": []
    },
    {
      "cell_type": "code",
      "metadata": {
        "colab": {
          "base_uri": "https://localhost:8080/",
          "height": 204
        },
        "id": "2Xu648O0wRr1",
        "outputId": "6aa4a722-6400-44ac-ee64-c1603ac710e1"
      },
      "source": [
        "listOne = list(data['ValueCreationNorm'])\n",
        "listTwo = list(data['Decision/voting rights'])\n",
        "\n",
        "listThree = []\n",
        "\n",
        "i = 0\n",
        "for i in range(len(listOne)):\n",
        "  if type(listTwo[i]) == str:\n",
        "    listThree.append((listOne[i], listTwo[i]))\n",
        "\n",
        "dictionary = {\n",
        "    ('1', 'None'): 0,\n",
        "    ('1', 'Proportional'): 0,\n",
        "    ('1', 'Tiered'): 0,\n",
        "     ('1', 'Quadratic'): 0,\n",
        "     ('1', 'Other'): 0,\n",
        "    ('2', 'None'): 0,\n",
        "    ('2', 'Proportional'): 0,\n",
        "    ('2', 'Tiered'): 0,\n",
        "     ('2', 'Quadratic'): 0,\n",
        "     ('2', 'Other'): 0,\n",
        "    ('3', 'None'): 0,\n",
        "    ('3', 'Proportional'): 0,\n",
        "    ('3', 'Tiered'): 0,\n",
        "     ('3', 'Quadratic'): 0,\n",
        "     ('3', 'Other'): 0,\n",
        "    ('4', 'None'): 0,\n",
        "    ('4', 'Proportional'): 0,\n",
        "    ('4', 'Tiered'): 0,\n",
        "     ('4', 'Quadratic'): 0,\n",
        "     ('4', 'Other'): 0,\n",
        "\n",
        "}\n",
        "\n",
        "for item in listThree:\n",
        "  if item in dictionary:\n",
        "    dictionary[item] += 1\n",
        "\n",
        "rights = pd.DataFrame(\n",
        "    [\n",
        "     [28,1,12,7],\n",
        "     [10,2,10,10],\n",
        "     [0,0,4,0],\n",
        "     [0,0,0,1],\n",
        "     [1,0,2,3]\n",
        "    ],\n",
        "    index=[\n",
        "           'None',\n",
        "           'Proportional',\n",
        "           'Tiered',\n",
        "           'Quadratic',\n",
        "           'Other'\n",
        "           ],\n",
        "    columns = [\n",
        "               'Low Value',\n",
        "               \"Moderate Value\",\n",
        "               \"High Value\",\n",
        "               \"Extremely High Value\"\n",
        "               ]\n",
        ")\n",
        "rights"
      ],
      "execution_count": 4,
      "outputs": [
        {
          "output_type": "execute_result",
          "data": {
            "text/html": [
              "<div>\n",
              "<style scoped>\n",
              "    .dataframe tbody tr th:only-of-type {\n",
              "        vertical-align: middle;\n",
              "    }\n",
              "\n",
              "    .dataframe tbody tr th {\n",
              "        vertical-align: top;\n",
              "    }\n",
              "\n",
              "    .dataframe thead th {\n",
              "        text-align: right;\n",
              "    }\n",
              "</style>\n",
              "<table border=\"1\" class=\"dataframe\">\n",
              "  <thead>\n",
              "    <tr style=\"text-align: right;\">\n",
              "      <th></th>\n",
              "      <th>Low Value</th>\n",
              "      <th>Moderate Value</th>\n",
              "      <th>High Value</th>\n",
              "      <th>Extremely High Value</th>\n",
              "    </tr>\n",
              "  </thead>\n",
              "  <tbody>\n",
              "    <tr>\n",
              "      <th>None</th>\n",
              "      <td>28</td>\n",
              "      <td>1</td>\n",
              "      <td>12</td>\n",
              "      <td>7</td>\n",
              "    </tr>\n",
              "    <tr>\n",
              "      <th>Proportional</th>\n",
              "      <td>10</td>\n",
              "      <td>2</td>\n",
              "      <td>10</td>\n",
              "      <td>10</td>\n",
              "    </tr>\n",
              "    <tr>\n",
              "      <th>Tiered</th>\n",
              "      <td>0</td>\n",
              "      <td>0</td>\n",
              "      <td>4</td>\n",
              "      <td>0</td>\n",
              "    </tr>\n",
              "    <tr>\n",
              "      <th>Quadratic</th>\n",
              "      <td>0</td>\n",
              "      <td>0</td>\n",
              "      <td>0</td>\n",
              "      <td>1</td>\n",
              "    </tr>\n",
              "    <tr>\n",
              "      <th>Other</th>\n",
              "      <td>1</td>\n",
              "      <td>0</td>\n",
              "      <td>2</td>\n",
              "      <td>3</td>\n",
              "    </tr>\n",
              "  </tbody>\n",
              "</table>\n",
              "</div>"
            ],
            "text/plain": [
              "              Low Value  Moderate Value  High Value  Extremely High Value\n",
              "None                 28               1          12                     7\n",
              "Proportional         10               2          10                    10\n",
              "Tiered                0               0           4                     0\n",
              "Quadratic             0               0           0                     1\n",
              "Other                 1               0           2                     3"
            ]
          },
          "metadata": {
            "tags": []
          },
          "execution_count": 4
        }
      ]
    },
    {
      "cell_type": "code",
      "metadata": {
        "colab": {
          "base_uri": "https://localhost:8080/",
          "height": 204
        },
        "id": "WUgVtyoMxYOw",
        "outputId": "cdc60b66-7b24-4ff5-b0f3-72f49cc5b965"
      },
      "source": [
        "# Expected values \n",
        "df = chi2_contingency(rights)[3]\n",
        "\n",
        "pd.DataFrame(\n",
        "    data=df[:,:],\n",
        "    index=[\n",
        "           'None',\n",
        "           'Proportional',\n",
        "           'Tiered',\n",
        "           'Quadratic',\n",
        "           'Other'\n",
        "    ],\n",
        "    columns=[\n",
        "             'Low Value',\n",
        "              \"Moderate Value\",\n",
        "              \"High Value\",\n",
        "              \"Extremely High Value\"\n",
        "    ]\n",
        ").round(2)"
      ],
      "execution_count": 5,
      "outputs": [
        {
          "output_type": "execute_result",
          "data": {
            "text/html": [
              "<div>\n",
              "<style scoped>\n",
              "    .dataframe tbody tr th:only-of-type {\n",
              "        vertical-align: middle;\n",
              "    }\n",
              "\n",
              "    .dataframe tbody tr th {\n",
              "        vertical-align: top;\n",
              "    }\n",
              "\n",
              "    .dataframe thead th {\n",
              "        text-align: right;\n",
              "    }\n",
              "</style>\n",
              "<table border=\"1\" class=\"dataframe\">\n",
              "  <thead>\n",
              "    <tr style=\"text-align: right;\">\n",
              "      <th></th>\n",
              "      <th>Low Value</th>\n",
              "      <th>Moderate Value</th>\n",
              "      <th>High Value</th>\n",
              "      <th>Extremely High Value</th>\n",
              "    </tr>\n",
              "  </thead>\n",
              "  <tbody>\n",
              "    <tr>\n",
              "      <th>None</th>\n",
              "      <td>20.57</td>\n",
              "      <td>1.58</td>\n",
              "      <td>14.77</td>\n",
              "      <td>11.08</td>\n",
              "    </tr>\n",
              "    <tr>\n",
              "      <th>Proportional</th>\n",
              "      <td>13.71</td>\n",
              "      <td>1.05</td>\n",
              "      <td>9.85</td>\n",
              "      <td>7.38</td>\n",
              "    </tr>\n",
              "    <tr>\n",
              "      <th>Tiered</th>\n",
              "      <td>1.71</td>\n",
              "      <td>0.13</td>\n",
              "      <td>1.23</td>\n",
              "      <td>0.92</td>\n",
              "    </tr>\n",
              "    <tr>\n",
              "      <th>Quadratic</th>\n",
              "      <td>0.43</td>\n",
              "      <td>0.03</td>\n",
              "      <td>0.31</td>\n",
              "      <td>0.23</td>\n",
              "    </tr>\n",
              "    <tr>\n",
              "      <th>Other</th>\n",
              "      <td>2.57</td>\n",
              "      <td>0.20</td>\n",
              "      <td>1.85</td>\n",
              "      <td>1.38</td>\n",
              "    </tr>\n",
              "  </tbody>\n",
              "</table>\n",
              "</div>"
            ],
            "text/plain": [
              "              Low Value  Moderate Value  High Value  Extremely High Value\n",
              "None              20.57            1.58       14.77                 11.08\n",
              "Proportional      13.71            1.05        9.85                  7.38\n",
              "Tiered             1.71            0.13        1.23                  0.92\n",
              "Quadratic          0.43            0.03        0.31                  0.23\n",
              "Other              2.57            0.20        1.85                  1.38"
            ]
          },
          "metadata": {
            "tags": []
          },
          "execution_count": 5
        }
      ]
    },
    {
      "cell_type": "code",
      "metadata": {
        "colab": {
          "base_uri": "https://localhost:8080/"
        },
        "id": "Y5BUMuEjy28B",
        "outputId": "3915a745-25e6-4a68-e07a-095d97890c59"
      },
      "source": [
        "pvalue = chi2_contingency(rights)[1]\n",
        "if pvalue < 0.05:\n",
        "  print('The result is statistically significant, so we reject the null hypothesis')\n",
        "else:\n",
        "  print('The result is not statistically significant, so we fail to reject the hypothesis')"
      ],
      "execution_count": 6,
      "outputs": [
        {
          "output_type": "stream",
          "text": [
            "The result is statistically significant, so we reject the null hypothesis\n"
          ],
          "name": "stdout"
        }
      ]
    },
    {
      "cell_type": "code",
      "metadata": {
        "id": "bvw5-67jy7Fw"
      },
      "source": [
        "successGivenNone = (rights['Extremely High Value'][0] + rights['High Value'][0]) / (rights['Low Value'][0] + rights['Moderate Value'][0] + rights['High Value'][0] + rights['Extremely High Value'][0])"
      ],
      "execution_count": 7,
      "outputs": []
    },
    {
      "cell_type": "code",
      "metadata": {
        "id": "PJv2B0BozRb8"
      },
      "source": [
        "successGivenProportional = (rights['Extremely High Value'][1] + rights['High Value'][1]) / (rights['Low Value'][1] + rights['Moderate Value'][1] + rights['High Value'][1] + rights['Extremely High Value'][1])"
      ],
      "execution_count": 8,
      "outputs": []
    },
    {
      "cell_type": "code",
      "metadata": {
        "id": "odke6pH3zaUr"
      },
      "source": [
        "successGivenTiered = (rights['Extremely High Value'][2] + rights['High Value'][2]) / (rights['Low Value'][2] + rights['Moderate Value'][2] + rights['High Value'][2] + rights['Extremely High Value'][2])"
      ],
      "execution_count": 9,
      "outputs": []
    },
    {
      "cell_type": "code",
      "metadata": {
        "id": "YVjmiNCKzb9X"
      },
      "source": [
        "successGivenQuadratic = (rights['Extremely High Value'][3] + rights['High Value'][3]) / (rights['Low Value'][3] + rights['Moderate Value'][3] + rights['High Value'][3] + rights['Extremely High Value'][3])"
      ],
      "execution_count": 10,
      "outputs": []
    },
    {
      "cell_type": "code",
      "metadata": {
        "id": "A7Hft7xVzd_L"
      },
      "source": [
        "successGivenOther = (rights['Extremely High Value'][4] + rights['High Value'][4]) / (rights['Low Value'][4] + rights['Moderate Value'][4] + rights['High Value'][4] + rights['Extremely High Value'][4])"
      ],
      "execution_count": 11,
      "outputs": []
    },
    {
      "cell_type": "code",
      "metadata": {
        "colab": {
          "base_uri": "https://localhost:8080/"
        },
        "id": "DkM-Ytr6zxff",
        "outputId": "6e27cb3a-bb79-4fc9-93fe-e4b93afd584c"
      },
      "source": [
        "max([successGivenNone,successGivenOther,successGivenProportional,successGivenQuadratic,successGivenTiered])"
      ],
      "execution_count": 12,
      "outputs": [
        {
          "output_type": "execute_result",
          "data": {
            "text/plain": [
              "1.0"
            ]
          },
          "metadata": {
            "tags": []
          },
          "execution_count": 12
        }
      ]
    },
    {
      "cell_type": "code",
      "metadata": {
        "colab": {
          "base_uri": "https://localhost:8080/"
        },
        "id": "BBd3B2Xiz_1W",
        "outputId": "8864fd38-289e-41f2-ccd4-a41214ff9ab1"
      },
      "source": [
        "successGivenNone * (rights['Low Value'][0] + rights['Moderate Value'][0] + rights['High Value'][0] + rights['Extremely High Value'][0])"
      ],
      "execution_count": 19,
      "outputs": [
        {
          "output_type": "execute_result",
          "data": {
            "text/plain": [
              "19.0"
            ]
          },
          "metadata": {
            "tags": []
          },
          "execution_count": 19
        }
      ]
    },
    {
      "cell_type": "code",
      "metadata": {
        "colab": {
          "base_uri": "https://localhost:8080/"
        },
        "id": "aHvDHw1v0FeE",
        "outputId": "9ce81eb8-fca1-4f36-b5d2-161bc7d84104"
      },
      "source": [
        "successGivenProportional * (rights['Low Value'][1] + rights['Moderate Value'][1] + rights['High Value'][1] + rights['Extremely High Value'][1])"
      ],
      "execution_count": 20,
      "outputs": [
        {
          "output_type": "execute_result",
          "data": {
            "text/plain": [
              "20.0"
            ]
          },
          "metadata": {
            "tags": []
          },
          "execution_count": 20
        }
      ]
    },
    {
      "cell_type": "code",
      "metadata": {
        "colab": {
          "base_uri": "https://localhost:8080/"
        },
        "id": "op6pPt8G0HAD",
        "outputId": "92ec32bf-f0ce-453c-f78c-89a8eb3dcd92"
      },
      "source": [
        "successGivenTiered *  (rights['Low Value'][2] + rights['Moderate Value'][2] + rights['High Value'][2] + rights['Extremely High Value'][2])"
      ],
      "execution_count": 21,
      "outputs": [
        {
          "output_type": "execute_result",
          "data": {
            "text/plain": [
              "4.0"
            ]
          },
          "metadata": {
            "tags": []
          },
          "execution_count": 21
        }
      ]
    },
    {
      "cell_type": "code",
      "metadata": {
        "colab": {
          "base_uri": "https://localhost:8080/"
        },
        "id": "nF7Gkf580h-g",
        "outputId": "94f1740b-6240-4347-d0b0-dbbcbe5c3900"
      },
      "source": [
        "successGivenQuadratic * (rights['Low Value'][3] + rights['Moderate Value'][3] + rights['High Value'][3] + rights['Extremely High Value'][3])"
      ],
      "execution_count": 24,
      "outputs": [
        {
          "output_type": "execute_result",
          "data": {
            "text/plain": [
              "1.0"
            ]
          },
          "metadata": {
            "tags": []
          },
          "execution_count": 24
        }
      ]
    },
    {
      "cell_type": "code",
      "metadata": {
        "colab": {
          "base_uri": "https://localhost:8080/"
        },
        "id": "U5p2K9HM01v0",
        "outputId": "60cd1788-5cc8-4bc9-9ffe-861a566ad601"
      },
      "source": [
        "successGivenOther * (rights['Low Value'][3] + rights['Moderate Value'][3] + rights['High Value'][3] + rights['Extremely High Value'][3])"
      ],
      "execution_count": 25,
      "outputs": [
        {
          "output_type": "execute_result",
          "data": {
            "text/plain": [
              "0.8333333333333334"
            ]
          },
          "metadata": {
            "tags": []
          },
          "execution_count": 25
        }
      ]
    },
    {
      "cell_type": "code",
      "metadata": {
        "id": "8Zkhc8PN1BJS"
      },
      "source": [
        ""
      ],
      "execution_count": null,
      "outputs": []
    }
  ]
}