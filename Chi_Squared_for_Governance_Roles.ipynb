{
  "nbformat": 4,
  "nbformat_minor": 0,
  "metadata": {
    "colab": {
      "name": "Chi Squared for Governance Roles.ipynb",
      "provenance": [],
      "authorship_tag": "ABX9TyOuqlsbUexseEWhECYtFqf/",
      "include_colab_link": true
    },
    "kernelspec": {
      "name": "python3",
      "display_name": "Python 3"
    },
    "language_info": {
      "name": "python"
    }
  },
  "cells": [
    {
      "cell_type": "markdown",
      "metadata": {
        "id": "view-in-github",
        "colab_type": "text"
      },
      "source": [
        "<a href=\"https://colab.research.google.com/github/robisonJohn/Blockchain-Governance-Project/blob/main/Chi_Squared_for_Governance_Roles.ipynb\" target=\"_parent\"><img src=\"https://colab.research.google.com/assets/colab-badge.svg\" alt=\"Open In Colab\"/></a>"
      ]
    },
    {
      "cell_type": "code",
      "metadata": {
        "id": "asqgB87oydAr"
      },
      "source": [
        "import pandas as pd\n",
        "from scipy.stats import chi2_contingency\n",
        "import numpy as np"
      ],
      "execution_count": 1,
      "outputs": []
    },
    {
      "cell_type": "code",
      "metadata": {
        "id": "5s4jeJlGzuh3"
      },
      "source": [
        "govRoles = pd.DataFrame(\n",
        "    [\n",
        "     [5,2,6,11],\n",
        "     [34,1,23,10]\n",
        "    ],\n",
        "    index=[\"Specific Governance Roles\", \"No Specific Governance Roles\"],\n",
        "    columns=['Low Value',\"Moderate Value\",\"High Value\",\"Extremely High Value\"]\n",
        ")"
      ],
      "execution_count": 2,
      "outputs": []
    },
    {
      "cell_type": "code",
      "metadata": {
        "colab": {
          "base_uri": "https://localhost:8080/",
          "height": 111
        },
        "id": "s7GTYZC-0ApJ",
        "outputId": "d8d92531-a6c7-4ee9-d4e9-93494befbe4b"
      },
      "source": [
        "govRoles"
      ],
      "execution_count": 3,
      "outputs": [
        {
          "output_type": "execute_result",
          "data": {
            "text/html": [
              "<div>\n",
              "<style scoped>\n",
              "    .dataframe tbody tr th:only-of-type {\n",
              "        vertical-align: middle;\n",
              "    }\n",
              "\n",
              "    .dataframe tbody tr th {\n",
              "        vertical-align: top;\n",
              "    }\n",
              "\n",
              "    .dataframe thead th {\n",
              "        text-align: right;\n",
              "    }\n",
              "</style>\n",
              "<table border=\"1\" class=\"dataframe\">\n",
              "  <thead>\n",
              "    <tr style=\"text-align: right;\">\n",
              "      <th></th>\n",
              "      <th>Low Value</th>\n",
              "      <th>Moderate Value</th>\n",
              "      <th>High Value</th>\n",
              "      <th>Extremely High Value</th>\n",
              "    </tr>\n",
              "  </thead>\n",
              "  <tbody>\n",
              "    <tr>\n",
              "      <th>Specific Governance Roles</th>\n",
              "      <td>5</td>\n",
              "      <td>2</td>\n",
              "      <td>6</td>\n",
              "      <td>11</td>\n",
              "    </tr>\n",
              "    <tr>\n",
              "      <th>No Specific Governance Roles</th>\n",
              "      <td>34</td>\n",
              "      <td>1</td>\n",
              "      <td>23</td>\n",
              "      <td>10</td>\n",
              "    </tr>\n",
              "  </tbody>\n",
              "</table>\n",
              "</div>"
            ],
            "text/plain": [
              "                              Low Value  ...  Extremely High Value\n",
              "Specific Governance Roles             5  ...                    11\n",
              "No Specific Governance Roles         34  ...                    10\n",
              "\n",
              "[2 rows x 4 columns]"
            ]
          },
          "metadata": {
            "tags": []
          },
          "execution_count": 3
        }
      ]
    },
    {
      "cell_type": "markdown",
      "metadata": {
        "id": "FYnNlpo41_GU"
      },
      "source": [
        "# Chi-Squared"
      ]
    },
    {
      "cell_type": "code",
      "metadata": {
        "colab": {
          "base_uri": "https://localhost:8080/"
        },
        "id": "tvoLIK0y0Bjo",
        "outputId": "a70b6ec2-c5df-4316-ae22-152521240905"
      },
      "source": [
        "chi2_contingency(govRoles)"
      ],
      "execution_count": 4,
      "outputs": [
        {
          "output_type": "execute_result",
          "data": {
            "text/plain": [
              "(14.089933055450297,\n",
              " 0.0027852593868150028,\n",
              " 3,\n",
              " array([[10.17391304,  0.7826087 ,  7.56521739,  5.47826087],\n",
              "        [28.82608696,  2.2173913 , 21.43478261, 15.52173913]]))"
            ]
          },
          "metadata": {
            "tags": []
          },
          "execution_count": 4
        }
      ]
    },
    {
      "cell_type": "markdown",
      "metadata": {
        "id": "BN33T8cP2WGr"
      },
      "source": [
        "## Expected Values"
      ]
    },
    {
      "cell_type": "code",
      "metadata": {
        "colab": {
          "base_uri": "https://localhost:8080/",
          "height": 111
        },
        "id": "TDD-KzCg1f_q",
        "outputId": "6c8d1347-dad6-48f5-b239-1f963faaa6b1"
      },
      "source": [
        "df=chi2_contingency(govRoles)[3]\n",
        "\n",
        "pd.DataFrame(\n",
        "    data=df[:,:],\n",
        "    index=[\"Specific Governance Roles\", \"No Specific Governance Roles\"],\n",
        "    columns=['Low Value',\"Moderate Value\",\"High Value\",\"Extremely High Value\"]\n",
        ").round(2)"
      ],
      "execution_count": 5,
      "outputs": [
        {
          "output_type": "execute_result",
          "data": {
            "text/html": [
              "<div>\n",
              "<style scoped>\n",
              "    .dataframe tbody tr th:only-of-type {\n",
              "        vertical-align: middle;\n",
              "    }\n",
              "\n",
              "    .dataframe tbody tr th {\n",
              "        vertical-align: top;\n",
              "    }\n",
              "\n",
              "    .dataframe thead th {\n",
              "        text-align: right;\n",
              "    }\n",
              "</style>\n",
              "<table border=\"1\" class=\"dataframe\">\n",
              "  <thead>\n",
              "    <tr style=\"text-align: right;\">\n",
              "      <th></th>\n",
              "      <th>Low Value</th>\n",
              "      <th>Moderate Value</th>\n",
              "      <th>High Value</th>\n",
              "      <th>Extremely High Value</th>\n",
              "    </tr>\n",
              "  </thead>\n",
              "  <tbody>\n",
              "    <tr>\n",
              "      <th>Specific Governance Roles</th>\n",
              "      <td>10.17</td>\n",
              "      <td>0.78</td>\n",
              "      <td>7.57</td>\n",
              "      <td>5.48</td>\n",
              "    </tr>\n",
              "    <tr>\n",
              "      <th>No Specific Governance Roles</th>\n",
              "      <td>28.83</td>\n",
              "      <td>2.22</td>\n",
              "      <td>21.43</td>\n",
              "      <td>15.52</td>\n",
              "    </tr>\n",
              "  </tbody>\n",
              "</table>\n",
              "</div>"
            ],
            "text/plain": [
              "                              Low Value  ...  Extremely High Value\n",
              "Specific Governance Roles         10.17  ...                  5.48\n",
              "No Specific Governance Roles      28.83  ...                 15.52\n",
              "\n",
              "[2 rows x 4 columns]"
            ]
          },
          "metadata": {
            "tags": []
          },
          "execution_count": 5
        }
      ]
    },
    {
      "cell_type": "markdown",
      "metadata": {
        "id": "BBHzm2qu2dpr"
      },
      "source": [
        "## p-value"
      ]
    },
    {
      "cell_type": "code",
      "metadata": {
        "colab": {
          "base_uri": "https://localhost:8080/"
        },
        "id": "lHvWTn7U2TkD",
        "outputId": "5a6f69c6-3a8b-4d2d-fcc5-16df52df4083"
      },
      "source": [
        "pvalue = chi2_contingency(govRoles)[1]\n",
        "if pvalue < 0.05:\n",
        "  print('The result is statistically significant, so we reject the null hypothesis')\n",
        "else:\n",
        "  print('The result is not statistically significant, so we fail to reject the hypothesis')"
      ],
      "execution_count": 6,
      "outputs": [
        {
          "output_type": "stream",
          "text": [
            "The result is statistically significant, so we reject the null hypothesis\n"
          ],
          "name": "stdout"
        }
      ]
    },
    {
      "cell_type": "code",
      "metadata": {
        "id": "5rpszpCaBXJl",
        "outputId": "eccdb5fc-f3b7-4754-b7d6-f94bdbcd707b",
        "colab": {
          "base_uri": "https://localhost:8080/"
        }
      },
      "source": [
        "pvalue"
      ],
      "execution_count": 7,
      "outputs": [
        {
          "output_type": "execute_result",
          "data": {
            "text/plain": [
              "0.0027852593868150028"
            ]
          },
          "metadata": {
            "tags": []
          },
          "execution_count": 7
        }
      ]
    },
    {
      "cell_type": "markdown",
      "metadata": {
        "id": "YXunG-2R4AtR"
      },
      "source": [
        "If the chi-squared is significant, we can then compare the probability of getting high or very high value across the two sets to determine the orientation of significance."
      ]
    },
    {
      "cell_type": "code",
      "metadata": {
        "id": "a33JwWxo2rTf"
      },
      "source": [
        "successGivenNoRoles = govRoles['Extremely High Value'][0] / (govRoles['Low Value'][0] + govRoles['Moderate Value'][0] + govRoles['High Value'][0] + govRoles['Extremely High Value'][0])"
      ],
      "execution_count": null,
      "outputs": []
    },
    {
      "cell_type": "code",
      "metadata": {
        "id": "jjGUTMkE4SbM"
      },
      "source": [
        "successGivenRoles = govRoles['Extremely High Value'][1] / (govRoles['Low Value'][1] + govRoles['Moderate Value'][1] + govRoles['High Value'][1] + govRoles['Extremely High Value'][1])"
      ],
      "execution_count": null,
      "outputs": []
    },
    {
      "cell_type": "code",
      "metadata": {
        "colab": {
          "base_uri": "https://localhost:8080/"
        },
        "id": "j0Y3IvAO5H1z",
        "outputId": "960a05f3-d80f-4514-b8c0-417bc54293d4"
      },
      "source": [
        "if successGivenRoles > successGivenNoRoles:\n",
        "  print('Specific governance roles have a positive impact')\n",
        "else:\n",
        "  print('Specific governance roles have a negative impact')"
      ],
      "execution_count": null,
      "outputs": [
        {
          "output_type": "stream",
          "text": [
            "Specific governance roles have a negative impact\n"
          ],
          "name": "stdout"
        }
      ]
    },
    {
      "cell_type": "code",
      "metadata": {
        "id": "Zitovu1Z5c5Y"
      },
      "source": [
        ""
      ],
      "execution_count": null,
      "outputs": []
    }
  ]
}