{
  "nbformat": 4,
  "nbformat_minor": 0,
  "metadata": {
    "colab": {
      "name": "Chi Square Voting Eligibility.ipynb",
      "provenance": [],
      "authorship_tag": "ABX9TyP7diFJa7PQMIkGEwxARECn",
      "include_colab_link": true
    },
    "kernelspec": {
      "name": "python3",
      "display_name": "Python 3"
    },
    "language_info": {
      "name": "python"
    }
  },
  "cells": [
    {
      "cell_type": "markdown",
      "metadata": {
        "id": "view-in-github",
        "colab_type": "text"
      },
      "source": [
        "<a href=\"https://colab.research.google.com/github/robisonJohn/Blockchain-Governance-Project/blob/main/Chi_Square_Voting_Eligibility.ipynb\" target=\"_parent\"><img src=\"https://colab.research.google.com/assets/colab-badge.svg\" alt=\"Open In Colab\"/></a>"
      ]
    },
    {
      "cell_type": "code",
      "metadata": {
        "id": "iDGYmHznpFee"
      },
      "source": [
        "import pandas as pd\n",
        "from scipy.stats import chi2_contingency\n",
        "import numpy as np"
      ],
      "execution_count": 1,
      "outputs": []
    },
    {
      "cell_type": "code",
      "metadata": {
        "id": "cNEeOzgjpuGC"
      },
      "source": [
        "url = 'https://raw.githubusercontent.com/robisonJohn/Blockchain-Governance-Project/main/governance.csv';"
      ],
      "execution_count": 2,
      "outputs": []
    },
    {
      "cell_type": "code",
      "metadata": {
        "id": "DShCf-svp3iW"
      },
      "source": [
        "data = pd.read_csv(url);"
      ],
      "execution_count": 3,
      "outputs": []
    },
    {
      "cell_type": "code",
      "metadata": {
        "colab": {
          "base_uri": "https://localhost:8080/",
          "height": 847
        },
        "id": "Kzg8H2x2qEhi",
        "outputId": "060c0758-6bf3-4375-ff93-36dee7c6af62"
      },
      "source": [
        "data"
      ],
      "execution_count": 4,
      "outputs": [
        {
          "output_type": "execute_result",
          "data": {
            "text/html": [
              "<div>\n",
              "<style scoped>\n",
              "    .dataframe tbody tr th:only-of-type {\n",
              "        vertical-align: middle;\n",
              "    }\n",
              "\n",
              "    .dataframe tbody tr th {\n",
              "        vertical-align: top;\n",
              "    }\n",
              "\n",
              "    .dataframe thead th {\n",
              "        text-align: right;\n",
              "    }\n",
              "</style>\n",
              "<table border=\"1\" class=\"dataframe\">\n",
              "  <thead>\n",
              "    <tr style=\"text-align: right;\">\n",
              "      <th></th>\n",
              "      <th></th>\n",
              "      <th>Auditor</th>\n",
              "      <th>Close Date</th>\n",
              "      <th>ICO Size ($mn)</th>\n",
              "      <th>Cumulative ICO Funding ($mn)</th>\n",
              "      <th>coinmarketcap URL</th>\n",
              "      <th>Symbol</th>\n",
              "      <th>Current market capitalization (fully diluted) in USD</th>\n",
              "      <th>Trading volume (24hrs)</th>\n",
              "      <th>website link (URL)</th>\n",
              "      <th>whitepaper link (URL)</th>\n",
              "      <th>Date</th>\n",
              "      <th>NOTES</th>\n",
              "      <th>Other links</th>\n",
              "      <th>DeadCoin Listing</th>\n",
              "      <th>Coinopsy Failure Reason</th>\n",
              "      <th>Value Creation % (less than 100% is value destruction)</th>\n",
              "      <th>Volume as % of Raise</th>\n",
              "      <th>Volume as % of Market Cap</th>\n",
              "      <th>Unnamed: 19</th>\n",
              "      <th>Other research</th>\n",
              "      <th>ValueCreationNorm</th>\n",
              "      <th>Governance Transparency</th>\n",
              "      <th>Voting Eligibility</th>\n",
              "      <th>Decision/voting rights</th>\n",
              "      <th>Decision-making mechanism</th>\n",
              "      <th>Voting delegation</th>\n",
              "      <th>Specific governance roles</th>\n",
              "      <th>Internal on-chain audit</th>\n",
              "      <th>Execution quality KPI accountablity</th>\n",
              "      <th>Community co-creation of projects</th>\n",
              "      <th>Interface for centralized systems</th>\n",
              "    </tr>\n",
              "  </thead>\n",
              "  <tbody>\n",
              "    <tr>\n",
              "      <th>0</th>\n",
              "      <td>AdBank (ADB)</td>\n",
              "      <td>Alan</td>\n",
              "      <td>1/14/2018</td>\n",
              "      <td>$ 14.00</td>\n",
              "      <td>$ 14.00</td>\n",
              "      <td>https://coinmarketcap.com/currencies/adbank/</td>\n",
              "      <td>ADB</td>\n",
              "      <td>2,569,335</td>\n",
              "      <td>20,445</td>\n",
              "      <td>https://adbank.network/</td>\n",
              "      <td>https://www.adbank.network/Whitepaper_AdBank20...</td>\n",
              "      <td>06/06/2021</td>\n",
              "      <td>Appeared to start out as ad network. CPMs fell...</td>\n",
              "      <td>NaN</td>\n",
              "      <td>NaN</td>\n",
              "      <td>NaN</td>\n",
              "      <td>18.35%</td>\n",
              "      <td>0.15%</td>\n",
              "      <td>0.80%</td>\n",
              "      <td>Market CAP and Trading volume different</td>\n",
              "      <td>NaN</td>\n",
              "      <td>1</td>\n",
              "      <td>LOW</td>\n",
              "      <td>None</td>\n",
              "      <td>None</td>\n",
              "      <td>Centralized</td>\n",
              "      <td>None</td>\n",
              "      <td>No</td>\n",
              "      <td>No</td>\n",
              "      <td>No</td>\n",
              "      <td>No</td>\n",
              "      <td>Yes</td>\n",
              "    </tr>\n",
              "    <tr>\n",
              "      <th>1</th>\n",
              "      <td>AIRBLOC Protocol</td>\n",
              "      <td>Alan</td>\n",
              "      <td>6/19/2018</td>\n",
              "      <td>$ 10.43</td>\n",
              "      <td>$ 24.43</td>\n",
              "      <td>https://coinmarketcap.com/currencies/airbloc/</td>\n",
              "      <td>ABL</td>\n",
              "      <td>14,230,777.18</td>\n",
              "      <td>108,991.90</td>\n",
              "      <td>https://www.airbloc.org/</td>\n",
              "      <td>https://docs.google.com/document/d/1wcF6vwZN6T...</td>\n",
              "      <td>04/06/2021</td>\n",
              "      <td>CEO announced that they created a sister compa...</td>\n",
              "      <td>NaN</td>\n",
              "      <td>NaN</td>\n",
              "      <td>NaN</td>\n",
              "      <td>136.44%</td>\n",
              "      <td>1.04%</td>\n",
              "      <td>0.77%</td>\n",
              "      <td>Market CAP and Trading volume different</td>\n",
              "      <td>NaN</td>\n",
              "      <td>3</td>\n",
              "      <td>LOW</td>\n",
              "      <td>None</td>\n",
              "      <td>None</td>\n",
              "      <td>Centralized</td>\n",
              "      <td>None</td>\n",
              "      <td>No</td>\n",
              "      <td>No</td>\n",
              "      <td>No</td>\n",
              "      <td>No</td>\n",
              "      <td>No</td>\n",
              "    </tr>\n",
              "    <tr>\n",
              "      <th>2</th>\n",
              "      <td>Airswap (AIG)</td>\n",
              "      <td>Alan</td>\n",
              "      <td>10/11/2017</td>\n",
              "      <td>$ 24.55</td>\n",
              "      <td>$ 48.98</td>\n",
              "      <td>https://coinmarketcap.com/currencies/airswap/</td>\n",
              "      <td>AST</td>\n",
              "      <td>90,190,388</td>\n",
              "      <td>1,011,954</td>\n",
              "      <td>https://www.airswap.io/</td>\n",
              "      <td>https://docs.airswap.io/</td>\n",
              "      <td>06/06/2021</td>\n",
              "      <td>Appears to be a number of efforts that help en...</td>\n",
              "      <td>NaN</td>\n",
              "      <td>NaN</td>\n",
              "      <td>NaN</td>\n",
              "      <td>367.37%</td>\n",
              "      <td>4.12%</td>\n",
              "      <td>1.12%</td>\n",
              "      <td>Market CAP and Trading volume different</td>\n",
              "      <td>NaN</td>\n",
              "      <td>3</td>\n",
              "      <td>HIGH</td>\n",
              "      <td>Over x amount of tokens</td>\n",
              "      <td>Tiered</td>\n",
              "      <td>Token amount majority</td>\n",
              "      <td>None</td>\n",
              "      <td>No</td>\n",
              "      <td>No</td>\n",
              "      <td>Yes</td>\n",
              "      <td>Yes</td>\n",
              "      <td>Yes</td>\n",
              "    </tr>\n",
              "    <tr>\n",
              "      <th>3</th>\n",
              "      <td>Aragon</td>\n",
              "      <td>Alan</td>\n",
              "      <td>5/17/2017</td>\n",
              "      <td>$ 24.75</td>\n",
              "      <td>$ 73.73</td>\n",
              "      <td>https://coinmarketcap.com/currencies/aragon/</td>\n",
              "      <td>ANT</td>\n",
              "      <td>213,548,056</td>\n",
              "      <td>89,537,013</td>\n",
              "      <td>https://aragon.org/</td>\n",
              "      <td>https://wiki.aragon.org/documentation/whitepap...</td>\n",
              "      <td>06/06/2021</td>\n",
              "      <td>This is a DAO for running DAOs and tokenholder...</td>\n",
              "      <td>NaN</td>\n",
              "      <td>NaN</td>\n",
              "      <td>NaN</td>\n",
              "      <td>862.82%</td>\n",
              "      <td>361.77%</td>\n",
              "      <td>41.93%</td>\n",
              "      <td>Market CAP and Trading volume different</td>\n",
              "      <td>NaN</td>\n",
              "      <td>3</td>\n",
              "      <td>HIGH</td>\n",
              "      <td>Whole community</td>\n",
              "      <td>Tiered</td>\n",
              "      <td>Token amount majority</td>\n",
              "      <td>None</td>\n",
              "      <td>Yes</td>\n",
              "      <td>Yes</td>\n",
              "      <td>Yes</td>\n",
              "      <td>Yes</td>\n",
              "      <td>Yes</td>\n",
              "    </tr>\n",
              "    <tr>\n",
              "      <th>4</th>\n",
              "      <td>Basic Attention Token</td>\n",
              "      <td>Alan</td>\n",
              "      <td>5/31/2017</td>\n",
              "      <td>$ 35.00</td>\n",
              "      <td>$ 108.73</td>\n",
              "      <td>https://coinmarketcap.com/currencies/basic-att...</td>\n",
              "      <td>BAT</td>\n",
              "      <td>1,142,346,629</td>\n",
              "      <td>208,129,360</td>\n",
              "      <td>https://basicattentiontoken.org/</td>\n",
              "      <td>https://basicattentiontoken.org/BasicAttention...</td>\n",
              "      <td>06/06/2021</td>\n",
              "      <td>NaN</td>\n",
              "      <td>NaN</td>\n",
              "      <td>NaN</td>\n",
              "      <td>NaN</td>\n",
              "      <td>3263.85%</td>\n",
              "      <td>594.66%</td>\n",
              "      <td>18.22%</td>\n",
              "      <td>NaN</td>\n",
              "      <td>NaN</td>\n",
              "      <td>4</td>\n",
              "      <td>LOW</td>\n",
              "      <td>None</td>\n",
              "      <td>None</td>\n",
              "      <td>Centralized</td>\n",
              "      <td>None</td>\n",
              "      <td>No</td>\n",
              "      <td>No</td>\n",
              "      <td>Yes</td>\n",
              "      <td>No</td>\n",
              "      <td>Yes</td>\n",
              "    </tr>\n",
              "    <tr>\n",
              "      <th>...</th>\n",
              "      <td>...</td>\n",
              "      <td>...</td>\n",
              "      <td>...</td>\n",
              "      <td>...</td>\n",
              "      <td>...</td>\n",
              "      <td>...</td>\n",
              "      <td>...</td>\n",
              "      <td>...</td>\n",
              "      <td>...</td>\n",
              "      <td>...</td>\n",
              "      <td>...</td>\n",
              "      <td>...</td>\n",
              "      <td>...</td>\n",
              "      <td>...</td>\n",
              "      <td>...</td>\n",
              "      <td>...</td>\n",
              "      <td>...</td>\n",
              "      <td>...</td>\n",
              "      <td>...</td>\n",
              "      <td>...</td>\n",
              "      <td>...</td>\n",
              "      <td>...</td>\n",
              "      <td>...</td>\n",
              "      <td>...</td>\n",
              "      <td>...</td>\n",
              "      <td>...</td>\n",
              "      <td>...</td>\n",
              "      <td>...</td>\n",
              "      <td>...</td>\n",
              "      <td>...</td>\n",
              "      <td>...</td>\n",
              "      <td>...</td>\n",
              "    </tr>\n",
              "    <tr>\n",
              "      <th>855</th>\n",
              "      <td>Zipper</td>\n",
              "      <td>NaN</td>\n",
              "      <td>1/4/2018</td>\n",
              "      <td>$ 3.20</td>\n",
              "      <td>#REF!</td>\n",
              "      <td>https://coinpaprika.com/coin/zip-zipper/</td>\n",
              "      <td>ZIP</td>\n",
              "      <td>25,251,000.00</td>\n",
              "      <td>521.69</td>\n",
              "      <td>http://zipper.io/</td>\n",
              "      <td>NaN</td>\n",
              "      <td>06/06/2021</td>\n",
              "      <td>NaN</td>\n",
              "      <td>NaN</td>\n",
              "      <td>NaN</td>\n",
              "      <td>NaN</td>\n",
              "      <td>789.09%</td>\n",
              "      <td>0.02%</td>\n",
              "      <td>0.00%</td>\n",
              "      <td>NaN</td>\n",
              "      <td>NaN</td>\n",
              "      <td>3</td>\n",
              "      <td>NaN</td>\n",
              "      <td>NaN</td>\n",
              "      <td>NaN</td>\n",
              "      <td>NaN</td>\n",
              "      <td>NaN</td>\n",
              "      <td>NaN</td>\n",
              "      <td>NaN</td>\n",
              "      <td>NaN</td>\n",
              "      <td>NaN</td>\n",
              "      <td>NaN</td>\n",
              "    </tr>\n",
              "    <tr>\n",
              "      <th>856</th>\n",
              "      <td>ZPER</td>\n",
              "      <td>NaN</td>\n",
              "      <td>5/16/2018</td>\n",
              "      <td>$ 23.21</td>\n",
              "      <td>#REF!</td>\n",
              "      <td>https://coinmarketcap.com/currencies/zper/</td>\n",
              "      <td>ZPR</td>\n",
              "      <td>1,415,799</td>\n",
              "      <td>no data</td>\n",
              "      <td>https://zper.io/</td>\n",
              "      <td>https://zper.io/paper/Whitepaper_Eng.pdf</td>\n",
              "      <td>05/06/2021</td>\n",
              "      <td>NaN</td>\n",
              "      <td>NaN</td>\n",
              "      <td>NaN</td>\n",
              "      <td>NaN</td>\n",
              "      <td>6.10%</td>\n",
              "      <td>#VALUE!</td>\n",
              "      <td>#VALUE!</td>\n",
              "      <td>NaN</td>\n",
              "      <td>NaN</td>\n",
              "      <td>1</td>\n",
              "      <td>NaN</td>\n",
              "      <td>NaN</td>\n",
              "      <td>NaN</td>\n",
              "      <td>NaN</td>\n",
              "      <td>NaN</td>\n",
              "      <td>NaN</td>\n",
              "      <td>NaN</td>\n",
              "      <td>NaN</td>\n",
              "      <td>NaN</td>\n",
              "      <td>NaN</td>\n",
              "    </tr>\n",
              "    <tr>\n",
              "      <th>857</th>\n",
              "      <td>Zrcoin</td>\n",
              "      <td>NaN</td>\n",
              "      <td>6/9/2017</td>\n",
              "      <td>$ 7.01</td>\n",
              "      <td>#REF!</td>\n",
              "      <td>https://coinmarketcap.com/currencies/zrcoin/</td>\n",
              "      <td>ZRC</td>\n",
              "      <td>892,056</td>\n",
              "      <td>60,513</td>\n",
              "      <td>https://zrcoin.io/</td>\n",
              "      <td>https://zrcoin.io/files/Whitepaper_ENG.pdf</td>\n",
              "      <td>06/06/2021</td>\n",
              "      <td>NaN</td>\n",
              "      <td>NaN</td>\n",
              "      <td>NaN</td>\n",
              "      <td>NaN</td>\n",
              "      <td>12.73%</td>\n",
              "      <td>0.86%</td>\n",
              "      <td>6.78%</td>\n",
              "      <td>NaN</td>\n",
              "      <td>NaN</td>\n",
              "      <td>1</td>\n",
              "      <td>NaN</td>\n",
              "      <td>NaN</td>\n",
              "      <td>NaN</td>\n",
              "      <td>NaN</td>\n",
              "      <td>NaN</td>\n",
              "      <td>NaN</td>\n",
              "      <td>NaN</td>\n",
              "      <td>NaN</td>\n",
              "      <td>NaN</td>\n",
              "      <td>NaN</td>\n",
              "    </tr>\n",
              "    <tr>\n",
              "      <th>858</th>\n",
              "      <td>NaN</td>\n",
              "      <td>NaN</td>\n",
              "      <td>NaN</td>\n",
              "      <td>NaN</td>\n",
              "      <td>NaN</td>\n",
              "      <td>NaN</td>\n",
              "      <td>NaN</td>\n",
              "      <td>NaN</td>\n",
              "      <td>NaN</td>\n",
              "      <td>NaN</td>\n",
              "      <td>NaN</td>\n",
              "      <td>NaN</td>\n",
              "      <td>NaN</td>\n",
              "      <td>NaN</td>\n",
              "      <td>NaN</td>\n",
              "      <td>NaN</td>\n",
              "      <td>NaN</td>\n",
              "      <td>NaN</td>\n",
              "      <td>NaN</td>\n",
              "      <td>NaN</td>\n",
              "      <td>NaN</td>\n",
              "      <td>NaN</td>\n",
              "      <td>NaN</td>\n",
              "      <td>NaN</td>\n",
              "      <td>NaN</td>\n",
              "      <td>NaN</td>\n",
              "      <td>NaN</td>\n",
              "      <td>NaN</td>\n",
              "      <td>NaN</td>\n",
              "      <td>NaN</td>\n",
              "      <td>NaN</td>\n",
              "      <td>NaN</td>\n",
              "    </tr>\n",
              "    <tr>\n",
              "      <th>859</th>\n",
              "      <td>TOTALS</td>\n",
              "      <td>NaN</td>\n",
              "      <td>NaN</td>\n",
              "      <td>$20,045,445,010.83</td>\n",
              "      <td>NaN</td>\n",
              "      <td>NaN</td>\n",
              "      <td>NaN</td>\n",
              "      <td>455,805,284,590</td>\n",
              "      <td>NaN</td>\n",
              "      <td>NaN</td>\n",
              "      <td>NaN</td>\n",
              "      <td>NaN</td>\n",
              "      <td>NaN</td>\n",
              "      <td>NaN</td>\n",
              "      <td>NaN</td>\n",
              "      <td>NaN</td>\n",
              "      <td>NaN</td>\n",
              "      <td>NaN</td>\n",
              "      <td>NaN</td>\n",
              "      <td>NaN</td>\n",
              "      <td>NaN</td>\n",
              "      <td>NaN</td>\n",
              "      <td>NaN</td>\n",
              "      <td>NaN</td>\n",
              "      <td>NaN</td>\n",
              "      <td>NaN</td>\n",
              "      <td>NaN</td>\n",
              "      <td>NaN</td>\n",
              "      <td>NaN</td>\n",
              "      <td>NaN</td>\n",
              "      <td>NaN</td>\n",
              "      <td>NaN</td>\n",
              "    </tr>\n",
              "  </tbody>\n",
              "</table>\n",
              "<p>860 rows × 32 columns</p>\n",
              "</div>"
            ],
            "text/plain": [
              "                            ... Interface for centralized systems\n",
              "0             AdBank (ADB)  ...                               Yes\n",
              "1         AIRBLOC Protocol  ...                                No\n",
              "2            Airswap (AIG)  ...                               Yes\n",
              "3                   Aragon  ...                               Yes\n",
              "4    Basic Attention Token  ...                               Yes\n",
              "..                     ...  ...                               ...\n",
              "855                 Zipper  ...                               NaN\n",
              "856                   ZPER  ...                               NaN\n",
              "857                 Zrcoin  ...                               NaN\n",
              "858                    NaN  ...                               NaN\n",
              "859                 TOTALS  ...                               NaN\n",
              "\n",
              "[860 rows x 32 columns]"
            ]
          },
          "metadata": {
            "tags": []
          },
          "execution_count": 4
        }
      ]
    },
    {
      "cell_type": "code",
      "metadata": {
        "colab": {
          "base_uri": "https://localhost:8080/"
        },
        "id": "gv4aGBNsp7IN",
        "outputId": "00972027-8746-4d43-f6c1-0c9b18f5d442"
      },
      "source": [
        "listOne = list(data['ValueCreationNorm'])\n",
        "listTwo = list(data['Voting Eligibility'])\n",
        "\n",
        "listThree = []\n",
        "\n",
        "i = 0\n",
        "for i in range(len(listOne)):\n",
        "  if type(listTwo[i]) == str:\n",
        "    listThree.append((listOne[i], listTwo[i]))\n",
        "\n",
        "listThree"
      ],
      "execution_count": 5,
      "outputs": [
        {
          "output_type": "execute_result",
          "data": {
            "text/plain": [
              "[('1', 'None'),\n",
              " ('3', 'None'),\n",
              " ('3', 'Over x amount of tokens'),\n",
              " ('3', 'Whole community'),\n",
              " ('4', 'None'),\n",
              " ('4', 'All token holders'),\n",
              " ('3', 'All token holders'),\n",
              " ('3', 'None'),\n",
              " ('1', 'All token holders'),\n",
              " ('4', 'All token holders'),\n",
              " ('4', 'All token holders'),\n",
              " ('4', 'Whole community'),\n",
              " ('4', 'All token holders'),\n",
              " ('4', 'None'),\n",
              " ('3', 'None'),\n",
              " ('3', 'None'),\n",
              " ('1', 'None'),\n",
              " ('1', 'All token holders'),\n",
              " ('3', 'All token holders'),\n",
              " ('4', 'None'),\n",
              " ('1', 'None'),\n",
              " ('3', 'None'),\n",
              " ('1', 'None'),\n",
              " ('1', 'Whole community'),\n",
              " ('1', 'All token holders'),\n",
              " ('4', 'All token holders'),\n",
              " ('4', 'None'),\n",
              " ('4', 'All token holders'),\n",
              " ('1', 'None'),\n",
              " ('3', 'All token holders'),\n",
              " ('1', 'None'),\n",
              " ('4', 'All token holders'),\n",
              " ('3', 'All token holders'),\n",
              " ('4', 'All token holders'),\n",
              " ('4', 'All token holders'),\n",
              " ('4', 'None'),\n",
              " ('1', 'None'),\n",
              " ('4', 'None'),\n",
              " ('3', 'All token holders'),\n",
              " ('1', 'None'),\n",
              " ('1', 'None'),\n",
              " ('3', 'None'),\n",
              " ('3', 'None'),\n",
              " ('1', 'All token holders'),\n",
              " ('1', 'None'),\n",
              " ('1', 'All token holders'),\n",
              " ('3', 'All token holders'),\n",
              " ('3', 'All token holders'),\n",
              " ('3', 'All token holders'),\n",
              " ('1', 'None'),\n",
              " ('3', 'All token holders'),\n",
              " ('3', 'All token holders'),\n",
              " ('1', 'All token holders'),\n",
              " ('3', 'None'),\n",
              " ('3', 'All token holders'),\n",
              " ('1', 'Over x amount of tokens'),\n",
              " ('2', 'Whole community'),\n",
              " ('3', 'All token holders'),\n",
              " ('3', 'All token holders'),\n",
              " ('4', 'All token holders'),\n",
              " ('1', 'None'),\n",
              " ('1', 'None'),\n",
              " ('4', 'All token holders'),\n",
              " ('1', 'None'),\n",
              " ('3', 'All token holders'),\n",
              " ('1', 'None'),\n",
              " ('1', 'None'),\n",
              " ('4', 'All token holders'),\n",
              " ('1', 'None'),\n",
              " ('1', 'None'),\n",
              " ('1', 'None'),\n",
              " ('1', 'All token holders'),\n",
              " ('2', 'All token holders'),\n",
              " ('2', 'None'),\n",
              " ('4', 'All token holders'),\n",
              " ('1', 'All token holders'),\n",
              " ('3', 'None'),\n",
              " ('1', 'None'),\n",
              " ('1', 'None'),\n",
              " ('4', 'None'),\n",
              " ('3', 'None'),\n",
              " ('1', 'None'),\n",
              " ('1', 'None'),\n",
              " ('1', 'None'),\n",
              " ('3', 'None'),\n",
              " ('3', 'Over x amount of tokens'),\n",
              " ('1', 'All token holders'),\n",
              " ('1', 'None'),\n",
              " ('1', 'None'),\n",
              " ('3', 'None'),\n",
              " ('1', 'None'),\n",
              " ('1', 'None')]"
            ]
          },
          "metadata": {
            "tags": []
          },
          "execution_count": 5
        }
      ]
    },
    {
      "cell_type": "code",
      "metadata": {
        "id": "WAifrfkyqNTK"
      },
      "source": [
        "dictionary = {\n",
        "    ('1', 'None'): 0,\n",
        "    ('1', 'Over x amount of tokens'): 0,\n",
        "    ('1', 'All token holders'): 0,\n",
        "     ('1', 'Whole community'): 0,\n",
        "    ('2', 'None'): 0,\n",
        "    ('2', 'Over x amount of tokens'): 0,\n",
        "    ('2', 'All token holders'): 0,\n",
        "     ('2', 'Whole community'): 0,\n",
        "    ('3', 'None'): 0,\n",
        "    ('3', 'Over x amount of tokens'): 0,\n",
        "    ('3', 'All token holders'): 0,\n",
        "     ('3', 'Whole community'): 0,\n",
        "    ('4', 'None'): 0,\n",
        "    ('4', 'Over x amount of tokens'): 0,\n",
        "    ('4', 'All token holders'): 0,\n",
        "     ('4', 'Whole community'): 0,\n",
        "\n",
        "}"
      ],
      "execution_count": 16,
      "outputs": []
    },
    {
      "cell_type": "code",
      "metadata": {
        "id": "IxTDnsFGq3Pc"
      },
      "source": [
        "for item in listThree:\n",
        "  if item in dictionary:\n",
        "    dictionary[item] += 1"
      ],
      "execution_count": 17,
      "outputs": []
    },
    {
      "cell_type": "code",
      "metadata": {
        "colab": {
          "base_uri": "https://localhost:8080/"
        },
        "id": "p6lEOiXOrFMx",
        "outputId": "457e950b-8f5d-4410-97b1-21b908579a5a"
      },
      "source": [
        "dictionary"
      ],
      "execution_count": 18,
      "outputs": [
        {
          "output_type": "execute_result",
          "data": {
            "text/plain": [
              "{('1', 'All token holders'): 9,\n",
              " ('1', 'None'): 28,\n",
              " ('1', 'Over x amount of tokens'): 1,\n",
              " ('1', 'Whole community'): 1,\n",
              " ('2', 'All token holders'): 1,\n",
              " ('2', 'None'): 1,\n",
              " ('2', 'Over x amount of tokens'): 0,\n",
              " ('2', 'Whole community'): 1,\n",
              " ('3', 'All token holders'): 14,\n",
              " ('3', 'None'): 12,\n",
              " ('3', 'Over x amount of tokens'): 2,\n",
              " ('3', 'Whole community'): 1,\n",
              " ('4', 'All token holders'): 13,\n",
              " ('4', 'None'): 7,\n",
              " ('4', 'Over x amount of tokens'): 0,\n",
              " ('4', 'Whole community'): 1}"
            ]
          },
          "metadata": {
            "tags": []
          },
          "execution_count": 18
        }
      ]
    },
    {
      "cell_type": "code",
      "metadata": {
        "id": "LIDvV28CrNQY"
      },
      "source": [
        "eligibility = pd.DataFrame(\n",
        "    [\n",
        "     [28,1,12,7],\n",
        "     [9,1,14,13],\n",
        "     [1,0,2,0],\n",
        "     [1,1,1,1]\n",
        "    ],\n",
        "    index=[\n",
        "           'None',\n",
        "           'All token holders',\n",
        "           'Over x amount of tokens',\n",
        "           'Whole community'\n",
        "           ],\n",
        "    columns = [\n",
        "               'Low Value',\n",
        "               \"Moderate Value\",\n",
        "               \"High Value\",\n",
        "               \"Extremely High Value\"\n",
        "               ]\n",
        ")"
      ],
      "execution_count": 19,
      "outputs": []
    },
    {
      "cell_type": "code",
      "metadata": {
        "colab": {
          "base_uri": "https://localhost:8080/",
          "height": 173
        },
        "id": "Sb9wqqTLtPYt",
        "outputId": "0e1be9f7-15f7-4938-fc84-42b5d474fe75"
      },
      "source": [
        "eligibility"
      ],
      "execution_count": 20,
      "outputs": [
        {
          "output_type": "execute_result",
          "data": {
            "text/html": [
              "<div>\n",
              "<style scoped>\n",
              "    .dataframe tbody tr th:only-of-type {\n",
              "        vertical-align: middle;\n",
              "    }\n",
              "\n",
              "    .dataframe tbody tr th {\n",
              "        vertical-align: top;\n",
              "    }\n",
              "\n",
              "    .dataframe thead th {\n",
              "        text-align: right;\n",
              "    }\n",
              "</style>\n",
              "<table border=\"1\" class=\"dataframe\">\n",
              "  <thead>\n",
              "    <tr style=\"text-align: right;\">\n",
              "      <th></th>\n",
              "      <th>Low Value</th>\n",
              "      <th>Moderate Value</th>\n",
              "      <th>High Value</th>\n",
              "      <th>Extremely High Value</th>\n",
              "    </tr>\n",
              "  </thead>\n",
              "  <tbody>\n",
              "    <tr>\n",
              "      <th>None</th>\n",
              "      <td>28</td>\n",
              "      <td>1</td>\n",
              "      <td>12</td>\n",
              "      <td>7</td>\n",
              "    </tr>\n",
              "    <tr>\n",
              "      <th>All token holders</th>\n",
              "      <td>9</td>\n",
              "      <td>1</td>\n",
              "      <td>14</td>\n",
              "      <td>13</td>\n",
              "    </tr>\n",
              "    <tr>\n",
              "      <th>Over x amount of tokens</th>\n",
              "      <td>1</td>\n",
              "      <td>0</td>\n",
              "      <td>2</td>\n",
              "      <td>0</td>\n",
              "    </tr>\n",
              "    <tr>\n",
              "      <th>Whole community</th>\n",
              "      <td>1</td>\n",
              "      <td>1</td>\n",
              "      <td>1</td>\n",
              "      <td>1</td>\n",
              "    </tr>\n",
              "  </tbody>\n",
              "</table>\n",
              "</div>"
            ],
            "text/plain": [
              "                         Low Value  ...  Extremely High Value\n",
              "None                            28  ...                     7\n",
              "All token holders                9  ...                    13\n",
              "Over x amount of tokens          1  ...                     0\n",
              "Whole community                  1  ...                     1\n",
              "\n",
              "[4 rows x 4 columns]"
            ]
          },
          "metadata": {
            "tags": []
          },
          "execution_count": 20
        }
      ]
    },
    {
      "cell_type": "code",
      "metadata": {
        "colab": {
          "base_uri": "https://localhost:8080/",
          "height": 173
        },
        "id": "hePhj0TNtQW7",
        "outputId": "83ab81fb-132d-4dda-8e45-f919d2ef6660"
      },
      "source": [
        "# Expected values \n",
        "df = chi2_contingency(eligibility)[3]\n",
        "\n",
        "pd.DataFrame(\n",
        "    data=df[:,:],\n",
        "    index=[\n",
        "           'None',\n",
        "           'All token holders',\n",
        "           'Over x amount of tokens',\n",
        "           'Whole community'\n",
        "    ],\n",
        "    columns=[\n",
        "             'Low Value',\n",
        "              \"Moderate Value\",\n",
        "              \"High Value\",\n",
        "              \"Extremely High Value\"\n",
        "    ]\n",
        ").round(2)"
      ],
      "execution_count": 22,
      "outputs": [
        {
          "output_type": "execute_result",
          "data": {
            "text/html": [
              "<div>\n",
              "<style scoped>\n",
              "    .dataframe tbody tr th:only-of-type {\n",
              "        vertical-align: middle;\n",
              "    }\n",
              "\n",
              "    .dataframe tbody tr th {\n",
              "        vertical-align: top;\n",
              "    }\n",
              "\n",
              "    .dataframe thead th {\n",
              "        text-align: right;\n",
              "    }\n",
              "</style>\n",
              "<table border=\"1\" class=\"dataframe\">\n",
              "  <thead>\n",
              "    <tr style=\"text-align: right;\">\n",
              "      <th></th>\n",
              "      <th>Low Value</th>\n",
              "      <th>Moderate Value</th>\n",
              "      <th>High Value</th>\n",
              "      <th>Extremely High Value</th>\n",
              "    </tr>\n",
              "  </thead>\n",
              "  <tbody>\n",
              "    <tr>\n",
              "      <th>None</th>\n",
              "      <td>20.35</td>\n",
              "      <td>1.57</td>\n",
              "      <td>15.13</td>\n",
              "      <td>10.96</td>\n",
              "    </tr>\n",
              "    <tr>\n",
              "      <th>All token holders</th>\n",
              "      <td>15.68</td>\n",
              "      <td>1.21</td>\n",
              "      <td>11.66</td>\n",
              "      <td>8.45</td>\n",
              "    </tr>\n",
              "    <tr>\n",
              "      <th>Over x amount of tokens</th>\n",
              "      <td>1.27</td>\n",
              "      <td>0.10</td>\n",
              "      <td>0.95</td>\n",
              "      <td>0.68</td>\n",
              "    </tr>\n",
              "    <tr>\n",
              "      <th>Whole community</th>\n",
              "      <td>1.70</td>\n",
              "      <td>0.13</td>\n",
              "      <td>1.26</td>\n",
              "      <td>0.91</td>\n",
              "    </tr>\n",
              "  </tbody>\n",
              "</table>\n",
              "</div>"
            ],
            "text/plain": [
              "                         Low Value  ...  Extremely High Value\n",
              "None                         20.35  ...                 10.96\n",
              "All token holders            15.68  ...                  8.45\n",
              "Over x amount of tokens       1.27  ...                  0.68\n",
              "Whole community               1.70  ...                  0.91\n",
              "\n",
              "[4 rows x 4 columns]"
            ]
          },
          "metadata": {
            "tags": []
          },
          "execution_count": 22
        }
      ]
    },
    {
      "cell_type": "code",
      "metadata": {
        "colab": {
          "base_uri": "https://localhost:8080/"
        },
        "id": "MBkadqJztZJi",
        "outputId": "726427cd-82f0-4c41-b3a2-c5a510c3b2d6"
      },
      "source": [
        "pvalue = chi2_contingency(eligibility)[1]\n",
        "if pvalue < 0.05:\n",
        "  print('The result is statistically significant, so we reject the null hypothesis')\n",
        "else:\n",
        "  print('The result is not statistically significant, so we fail to reject the hypothesis')"
      ],
      "execution_count": 23,
      "outputs": [
        {
          "output_type": "stream",
          "text": [
            "The result is statistically significant, so we reject the null hypothesis\n"
          ],
          "name": "stdout"
        }
      ]
    },
    {
      "cell_type": "code",
      "metadata": {
        "id": "ltg0YLxZt97U"
      },
      "source": [
        "successGivenNone = (eligibility['Extremely High Value'][0] + eligibility['High Value'][0]) / (eligibility['Low Value'][0] + eligibility['Moderate Value'][0] + eligibility['High Value'][0] + eligibility['Extremely High Value'][0])"
      ],
      "execution_count": 36,
      "outputs": []
    },
    {
      "cell_type": "code",
      "metadata": {
        "colab": {
          "base_uri": "https://localhost:8080/"
        },
        "id": "Bh1oLaU0uRiP",
        "outputId": "d5996d63-d08e-4fd2-e691-6b85c84c74cf"
      },
      "source": [
        "successGivenNone"
      ],
      "execution_count": 37,
      "outputs": [
        {
          "output_type": "execute_result",
          "data": {
            "text/plain": [
              "0.3958333333333333"
            ]
          },
          "metadata": {
            "tags": []
          },
          "execution_count": 37
        }
      ]
    },
    {
      "cell_type": "code",
      "metadata": {
        "id": "W_W1d-cXuRr0"
      },
      "source": [
        "successGivenAll = (eligibility['Extremely High Value'][1] + eligibility['High Value'][1]) / (eligibility['Low Value'][1] + eligibility['Moderate Value'][1] + eligibility['High Value'][1] + eligibility['Extremely High Value'][1])"
      ],
      "execution_count": 38,
      "outputs": []
    },
    {
      "cell_type": "code",
      "metadata": {
        "colab": {
          "base_uri": "https://localhost:8080/"
        },
        "id": "WwTsn-YGuRyN",
        "outputId": "3f6a980f-fb00-4b94-fb91-fdc867812e26"
      },
      "source": [
        "successGivenAll"
      ],
      "execution_count": 39,
      "outputs": [
        {
          "output_type": "execute_result",
          "data": {
            "text/plain": [
              "0.7297297297297297"
            ]
          },
          "metadata": {
            "tags": []
          },
          "execution_count": 39
        }
      ]
    },
    {
      "cell_type": "code",
      "metadata": {
        "id": "ui-6uaXDu2JL"
      },
      "source": [
        "successGivenX = (eligibility['Extremely High Value'][2] + eligibility['High Value'][2]) / (eligibility['Low Value'][2] + eligibility['Moderate Value'][2] + eligibility['High Value'][2] + eligibility['Extremely High Value'][2])"
      ],
      "execution_count": 44,
      "outputs": []
    },
    {
      "cell_type": "code",
      "metadata": {
        "colab": {
          "base_uri": "https://localhost:8080/"
        },
        "id": "41WltQS6vI1Z",
        "outputId": "42f2a34e-19b1-4b1a-e6d8-381c087ec428"
      },
      "source": [
        "successGivenX"
      ],
      "execution_count": 41,
      "outputs": [
        {
          "output_type": "execute_result",
          "data": {
            "text/plain": [
              "0.6666666666666666"
            ]
          },
          "metadata": {
            "tags": []
          },
          "execution_count": 41
        }
      ]
    },
    {
      "cell_type": "code",
      "metadata": {
        "id": "wdomutHEvKTQ"
      },
      "source": [
        "successGivenWholeCommunity = (eligibility['Extremely High Value'][3] + eligibility['High Value'][3]) / (eligibility['Low Value'][3] + eligibility['Moderate Value'][3] + eligibility['High Value'][3] + eligibility['Extremely High Value'][3])"
      ],
      "execution_count": 43,
      "outputs": []
    },
    {
      "cell_type": "code",
      "metadata": {
        "colab": {
          "base_uri": "https://localhost:8080/"
        },
        "id": "Rw2T5eJ9vcl-",
        "outputId": "83f66aac-52f3-42dd-9faf-a9986ffc1a70"
      },
      "source": [
        "successGivenWholeCommunity"
      ],
      "execution_count": 45,
      "outputs": [
        {
          "output_type": "execute_result",
          "data": {
            "text/plain": [
              "0.5"
            ]
          },
          "metadata": {
            "tags": []
          },
          "execution_count": 45
        }
      ]
    },
    {
      "cell_type": "markdown",
      "metadata": {
        "id": "Hh2rRjr3vmYS"
      },
      "source": [
        "The highest probability of high or extremely high success is associated with govevrnance models that grant voting rights to all token holders."
      ]
    },
    {
      "cell_type": "code",
      "metadata": {
        "id": "DkP4D6vWviDk"
      },
      "source": [
        ""
      ],
      "execution_count": null,
      "outputs": []
    }
  ]
}