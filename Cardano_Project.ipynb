{
  "nbformat": 4,
  "nbformat_minor": 0,
  "metadata": {
    "colab": {
      "name": "Cardano Project.ipynb",
      "provenance": [],
      "authorship_tag": "ABX9TyPqztGBWjDFt5r9BOZNj2hj",
      "include_colab_link": true
    },
    "kernelspec": {
      "name": "python3",
      "display_name": "Python 3"
    },
    "language_info": {
      "name": "python"
    }
  },
  "cells": [
    {
      "cell_type": "markdown",
      "metadata": {
        "id": "view-in-github",
        "colab_type": "text"
      },
      "source": [
        "<a href=\"https://colab.research.google.com/github/robisonJohn/Blockchain-Governance-Project/blob/main/Cardano_Project.ipynb\" target=\"_parent\"><img src=\"https://colab.research.google.com/assets/colab-badge.svg\" alt=\"Open In Colab\"/></a>"
      ]
    },
    {
      "cell_type": "code",
      "metadata": {
        "id": "6EC1k92HrZJW"
      },
      "source": [
        "import pandas as pd"
      ],
      "execution_count": null,
      "outputs": []
    },
    {
      "cell_type": "markdown",
      "metadata": {
        "id": "vN6W_o55sdID"
      },
      "source": [
        "# Import Data"
      ]
    },
    {
      "cell_type": "code",
      "metadata": {
        "id": "wiOFbdIyroYO"
      },
      "source": [
        "url = 'https://raw.githubusercontent.com/robisonJohn/Blockchain-Governance-Project/main/governance.csv';"
      ],
      "execution_count": null,
      "outputs": []
    },
    {
      "cell_type": "code",
      "metadata": {
        "id": "4upLFbCZsA3R"
      },
      "source": [
        "data = pd.read_csv(url);"
      ],
      "execution_count": null,
      "outputs": []
    },
    {
      "cell_type": "code",
      "metadata": {
        "colab": {
          "base_uri": "https://localhost:8080/",
          "height": 847
        },
        "id": "DYUrCHtRsHU5",
        "outputId": "a68544b9-1604-43db-9cc5-47bd895e2e50"
      },
      "source": [
        "data"
      ],
      "execution_count": 54,
      "outputs": [
        {
          "output_type": "execute_result",
          "data": {
            "text/html": [
              "<div>\n",
              "<style scoped>\n",
              "    .dataframe tbody tr th:only-of-type {\n",
              "        vertical-align: middle;\n",
              "    }\n",
              "\n",
              "    .dataframe tbody tr th {\n",
              "        vertical-align: top;\n",
              "    }\n",
              "\n",
              "    .dataframe thead th {\n",
              "        text-align: right;\n",
              "    }\n",
              "</style>\n",
              "<table border=\"1\" class=\"dataframe\">\n",
              "  <thead>\n",
              "    <tr style=\"text-align: right;\">\n",
              "      <th></th>\n",
              "      <th></th>\n",
              "      <th>Auditor</th>\n",
              "      <th>Close Date</th>\n",
              "      <th>ICO Size ($mn)</th>\n",
              "      <th>Cumulative ICO Funding ($mn)</th>\n",
              "      <th>coinmarketcap URL</th>\n",
              "      <th>Symbol</th>\n",
              "      <th>Current market capitalization (fully diluted) in USD</th>\n",
              "      <th>Trading volume (24hrs)</th>\n",
              "      <th>website link (URL)</th>\n",
              "      <th>whitepaper link (URL)</th>\n",
              "      <th>Date</th>\n",
              "      <th>NOTES</th>\n",
              "      <th>Other links</th>\n",
              "      <th>DeadCoin Listing</th>\n",
              "      <th>Coinopsy Failure Reason</th>\n",
              "      <th>Value Creation % (less than 100% is value destruction)</th>\n",
              "      <th>Volume as % of Raise</th>\n",
              "      <th>Volume as % of Market Cap</th>\n",
              "      <th>Unnamed: 19</th>\n",
              "      <th>Other research</th>\n",
              "      <th>ValueCreationNorm</th>\n",
              "      <th>Governance Transparency</th>\n",
              "      <th>Voting Eligibility</th>\n",
              "      <th>Decision/voting rights</th>\n",
              "      <th>Decision-making mechanism</th>\n",
              "      <th>Voting delegation</th>\n",
              "      <th>Specific governance roles</th>\n",
              "      <th>Internal on-chain audit</th>\n",
              "      <th>Execution quality KPI accountablity</th>\n",
              "      <th>Community co-creation of projects</th>\n",
              "      <th>Interface for centralized systems</th>\n",
              "    </tr>\n",
              "  </thead>\n",
              "  <tbody>\n",
              "    <tr>\n",
              "      <th>0</th>\n",
              "      <td>AdBank (ADB)</td>\n",
              "      <td>Alan</td>\n",
              "      <td>1/14/2018</td>\n",
              "      <td>$ 14.00</td>\n",
              "      <td>$ 14.00</td>\n",
              "      <td>https://coinmarketcap.com/currencies/adbank/</td>\n",
              "      <td>ADB</td>\n",
              "      <td>2,569,335</td>\n",
              "      <td>20,445</td>\n",
              "      <td>https://adbank.network/</td>\n",
              "      <td>https://www.adbank.network/Whitepaper_AdBank20...</td>\n",
              "      <td>06/06/2021</td>\n",
              "      <td>Appeared to start out as ad network. CPMs fell...</td>\n",
              "      <td>NaN</td>\n",
              "      <td>NaN</td>\n",
              "      <td>NaN</td>\n",
              "      <td>18.35%</td>\n",
              "      <td>0.15%</td>\n",
              "      <td>0.80%</td>\n",
              "      <td>Market CAP and Trading volume different</td>\n",
              "      <td>NaN</td>\n",
              "      <td>1</td>\n",
              "      <td>LOW</td>\n",
              "      <td>None</td>\n",
              "      <td>None</td>\n",
              "      <td>Centralized</td>\n",
              "      <td>None</td>\n",
              "      <td>No</td>\n",
              "      <td>No</td>\n",
              "      <td>No</td>\n",
              "      <td>No</td>\n",
              "      <td>Yes</td>\n",
              "    </tr>\n",
              "    <tr>\n",
              "      <th>1</th>\n",
              "      <td>AIRBLOC Protocol</td>\n",
              "      <td>Alan</td>\n",
              "      <td>6/19/2018</td>\n",
              "      <td>$ 10.43</td>\n",
              "      <td>$ 24.43</td>\n",
              "      <td>https://coinmarketcap.com/currencies/airbloc/</td>\n",
              "      <td>ABL</td>\n",
              "      <td>14,230,777.18</td>\n",
              "      <td>108,991.90</td>\n",
              "      <td>https://www.airbloc.org/</td>\n",
              "      <td>https://docs.google.com/document/d/1wcF6vwZN6T...</td>\n",
              "      <td>04/06/2021</td>\n",
              "      <td>CEO announced that they created a sister compa...</td>\n",
              "      <td>NaN</td>\n",
              "      <td>NaN</td>\n",
              "      <td>NaN</td>\n",
              "      <td>136.44%</td>\n",
              "      <td>1.04%</td>\n",
              "      <td>0.77%</td>\n",
              "      <td>Market CAP and Trading volume different</td>\n",
              "      <td>NaN</td>\n",
              "      <td>3</td>\n",
              "      <td>LOW</td>\n",
              "      <td>None</td>\n",
              "      <td>None</td>\n",
              "      <td>Centralized</td>\n",
              "      <td>None</td>\n",
              "      <td>No</td>\n",
              "      <td>No</td>\n",
              "      <td>No</td>\n",
              "      <td>No</td>\n",
              "      <td>No</td>\n",
              "    </tr>\n",
              "    <tr>\n",
              "      <th>2</th>\n",
              "      <td>Airswap (AIG)</td>\n",
              "      <td>Alan</td>\n",
              "      <td>10/11/2017</td>\n",
              "      <td>$ 24.55</td>\n",
              "      <td>$ 48.98</td>\n",
              "      <td>https://coinmarketcap.com/currencies/airswap/</td>\n",
              "      <td>AST</td>\n",
              "      <td>90,190,388</td>\n",
              "      <td>1,011,954</td>\n",
              "      <td>https://www.airswap.io/</td>\n",
              "      <td>https://docs.airswap.io/</td>\n",
              "      <td>06/06/2021</td>\n",
              "      <td>Appears to be a number of efforts that help en...</td>\n",
              "      <td>NaN</td>\n",
              "      <td>NaN</td>\n",
              "      <td>NaN</td>\n",
              "      <td>367.37%</td>\n",
              "      <td>4.12%</td>\n",
              "      <td>1.12%</td>\n",
              "      <td>Market CAP and Trading volume different</td>\n",
              "      <td>NaN</td>\n",
              "      <td>3</td>\n",
              "      <td>HIGH</td>\n",
              "      <td>Over x amount of tokens</td>\n",
              "      <td>Tiered</td>\n",
              "      <td>Token amount majority</td>\n",
              "      <td>None</td>\n",
              "      <td>No</td>\n",
              "      <td>No</td>\n",
              "      <td>Yes</td>\n",
              "      <td>Yes</td>\n",
              "      <td>Yes</td>\n",
              "    </tr>\n",
              "    <tr>\n",
              "      <th>3</th>\n",
              "      <td>Aragon</td>\n",
              "      <td>Alan</td>\n",
              "      <td>5/17/2017</td>\n",
              "      <td>$ 24.75</td>\n",
              "      <td>$ 73.73</td>\n",
              "      <td>https://coinmarketcap.com/currencies/aragon/</td>\n",
              "      <td>ANT</td>\n",
              "      <td>213,548,056</td>\n",
              "      <td>89,537,013</td>\n",
              "      <td>https://aragon.org/</td>\n",
              "      <td>https://wiki.aragon.org/documentation/whitepap...</td>\n",
              "      <td>06/06/2021</td>\n",
              "      <td>This is a DAO for running DAOs and tokenholder...</td>\n",
              "      <td>NaN</td>\n",
              "      <td>NaN</td>\n",
              "      <td>NaN</td>\n",
              "      <td>862.82%</td>\n",
              "      <td>361.77%</td>\n",
              "      <td>41.93%</td>\n",
              "      <td>Market CAP and Trading volume different</td>\n",
              "      <td>NaN</td>\n",
              "      <td>3</td>\n",
              "      <td>HIGH</td>\n",
              "      <td>Whole community</td>\n",
              "      <td>Tiered</td>\n",
              "      <td>Token amount majority</td>\n",
              "      <td>None</td>\n",
              "      <td>Yes</td>\n",
              "      <td>Yes</td>\n",
              "      <td>Yes</td>\n",
              "      <td>Yes</td>\n",
              "      <td>Yes</td>\n",
              "    </tr>\n",
              "    <tr>\n",
              "      <th>4</th>\n",
              "      <td>Basic Attention Token</td>\n",
              "      <td>Alan</td>\n",
              "      <td>5/31/2017</td>\n",
              "      <td>$ 35.00</td>\n",
              "      <td>$ 108.73</td>\n",
              "      <td>https://coinmarketcap.com/currencies/basic-att...</td>\n",
              "      <td>BAT</td>\n",
              "      <td>1,142,346,629</td>\n",
              "      <td>208,129,360</td>\n",
              "      <td>https://basicattentiontoken.org/</td>\n",
              "      <td>https://basicattentiontoken.org/BasicAttention...</td>\n",
              "      <td>06/06/2021</td>\n",
              "      <td>NaN</td>\n",
              "      <td>NaN</td>\n",
              "      <td>NaN</td>\n",
              "      <td>NaN</td>\n",
              "      <td>3263.85%</td>\n",
              "      <td>594.66%</td>\n",
              "      <td>18.22%</td>\n",
              "      <td>NaN</td>\n",
              "      <td>NaN</td>\n",
              "      <td>4</td>\n",
              "      <td>LOW</td>\n",
              "      <td>None</td>\n",
              "      <td>None</td>\n",
              "      <td>Centralized</td>\n",
              "      <td>None</td>\n",
              "      <td>No</td>\n",
              "      <td>No</td>\n",
              "      <td>Yes</td>\n",
              "      <td>No</td>\n",
              "      <td>Yes</td>\n",
              "    </tr>\n",
              "    <tr>\n",
              "      <th>...</th>\n",
              "      <td>...</td>\n",
              "      <td>...</td>\n",
              "      <td>...</td>\n",
              "      <td>...</td>\n",
              "      <td>...</td>\n",
              "      <td>...</td>\n",
              "      <td>...</td>\n",
              "      <td>...</td>\n",
              "      <td>...</td>\n",
              "      <td>...</td>\n",
              "      <td>...</td>\n",
              "      <td>...</td>\n",
              "      <td>...</td>\n",
              "      <td>...</td>\n",
              "      <td>...</td>\n",
              "      <td>...</td>\n",
              "      <td>...</td>\n",
              "      <td>...</td>\n",
              "      <td>...</td>\n",
              "      <td>...</td>\n",
              "      <td>...</td>\n",
              "      <td>...</td>\n",
              "      <td>...</td>\n",
              "      <td>...</td>\n",
              "      <td>...</td>\n",
              "      <td>...</td>\n",
              "      <td>...</td>\n",
              "      <td>...</td>\n",
              "      <td>...</td>\n",
              "      <td>...</td>\n",
              "      <td>...</td>\n",
              "      <td>...</td>\n",
              "    </tr>\n",
              "    <tr>\n",
              "      <th>855</th>\n",
              "      <td>Zipper</td>\n",
              "      <td>NaN</td>\n",
              "      <td>1/4/2018</td>\n",
              "      <td>$ 3.20</td>\n",
              "      <td>#REF!</td>\n",
              "      <td>https://coinpaprika.com/coin/zip-zipper/</td>\n",
              "      <td>ZIP</td>\n",
              "      <td>25,251,000.00</td>\n",
              "      <td>521.69</td>\n",
              "      <td>http://zipper.io/</td>\n",
              "      <td>NaN</td>\n",
              "      <td>06/06/2021</td>\n",
              "      <td>NaN</td>\n",
              "      <td>NaN</td>\n",
              "      <td>NaN</td>\n",
              "      <td>NaN</td>\n",
              "      <td>789.09%</td>\n",
              "      <td>0.02%</td>\n",
              "      <td>0.00%</td>\n",
              "      <td>NaN</td>\n",
              "      <td>NaN</td>\n",
              "      <td>3</td>\n",
              "      <td>NaN</td>\n",
              "      <td>NaN</td>\n",
              "      <td>NaN</td>\n",
              "      <td>NaN</td>\n",
              "      <td>NaN</td>\n",
              "      <td>NaN</td>\n",
              "      <td>NaN</td>\n",
              "      <td>NaN</td>\n",
              "      <td>NaN</td>\n",
              "      <td>NaN</td>\n",
              "    </tr>\n",
              "    <tr>\n",
              "      <th>856</th>\n",
              "      <td>ZPER</td>\n",
              "      <td>NaN</td>\n",
              "      <td>5/16/2018</td>\n",
              "      <td>$ 23.21</td>\n",
              "      <td>#REF!</td>\n",
              "      <td>https://coinmarketcap.com/currencies/zper/</td>\n",
              "      <td>ZPR</td>\n",
              "      <td>1,415,799</td>\n",
              "      <td>no data</td>\n",
              "      <td>https://zper.io/</td>\n",
              "      <td>https://zper.io/paper/Whitepaper_Eng.pdf</td>\n",
              "      <td>05/06/2021</td>\n",
              "      <td>NaN</td>\n",
              "      <td>NaN</td>\n",
              "      <td>NaN</td>\n",
              "      <td>NaN</td>\n",
              "      <td>6.10%</td>\n",
              "      <td>#VALUE!</td>\n",
              "      <td>#VALUE!</td>\n",
              "      <td>NaN</td>\n",
              "      <td>NaN</td>\n",
              "      <td>1</td>\n",
              "      <td>NaN</td>\n",
              "      <td>NaN</td>\n",
              "      <td>NaN</td>\n",
              "      <td>NaN</td>\n",
              "      <td>NaN</td>\n",
              "      <td>NaN</td>\n",
              "      <td>NaN</td>\n",
              "      <td>NaN</td>\n",
              "      <td>NaN</td>\n",
              "      <td>NaN</td>\n",
              "    </tr>\n",
              "    <tr>\n",
              "      <th>857</th>\n",
              "      <td>Zrcoin</td>\n",
              "      <td>NaN</td>\n",
              "      <td>6/9/2017</td>\n",
              "      <td>$ 7.01</td>\n",
              "      <td>#REF!</td>\n",
              "      <td>https://coinmarketcap.com/currencies/zrcoin/</td>\n",
              "      <td>ZRC</td>\n",
              "      <td>892,056</td>\n",
              "      <td>60,513</td>\n",
              "      <td>https://zrcoin.io/</td>\n",
              "      <td>https://zrcoin.io/files/Whitepaper_ENG.pdf</td>\n",
              "      <td>06/06/2021</td>\n",
              "      <td>NaN</td>\n",
              "      <td>NaN</td>\n",
              "      <td>NaN</td>\n",
              "      <td>NaN</td>\n",
              "      <td>12.73%</td>\n",
              "      <td>0.86%</td>\n",
              "      <td>6.78%</td>\n",
              "      <td>NaN</td>\n",
              "      <td>NaN</td>\n",
              "      <td>1</td>\n",
              "      <td>NaN</td>\n",
              "      <td>NaN</td>\n",
              "      <td>NaN</td>\n",
              "      <td>NaN</td>\n",
              "      <td>NaN</td>\n",
              "      <td>NaN</td>\n",
              "      <td>NaN</td>\n",
              "      <td>NaN</td>\n",
              "      <td>NaN</td>\n",
              "      <td>NaN</td>\n",
              "    </tr>\n",
              "    <tr>\n",
              "      <th>858</th>\n",
              "      <td>NaN</td>\n",
              "      <td>NaN</td>\n",
              "      <td>NaN</td>\n",
              "      <td>NaN</td>\n",
              "      <td>NaN</td>\n",
              "      <td>NaN</td>\n",
              "      <td>NaN</td>\n",
              "      <td>NaN</td>\n",
              "      <td>NaN</td>\n",
              "      <td>NaN</td>\n",
              "      <td>NaN</td>\n",
              "      <td>NaN</td>\n",
              "      <td>NaN</td>\n",
              "      <td>NaN</td>\n",
              "      <td>NaN</td>\n",
              "      <td>NaN</td>\n",
              "      <td>NaN</td>\n",
              "      <td>NaN</td>\n",
              "      <td>NaN</td>\n",
              "      <td>NaN</td>\n",
              "      <td>NaN</td>\n",
              "      <td>NaN</td>\n",
              "      <td>NaN</td>\n",
              "      <td>NaN</td>\n",
              "      <td>NaN</td>\n",
              "      <td>NaN</td>\n",
              "      <td>NaN</td>\n",
              "      <td>NaN</td>\n",
              "      <td>NaN</td>\n",
              "      <td>NaN</td>\n",
              "      <td>NaN</td>\n",
              "      <td>NaN</td>\n",
              "    </tr>\n",
              "    <tr>\n",
              "      <th>859</th>\n",
              "      <td>TOTALS</td>\n",
              "      <td>NaN</td>\n",
              "      <td>NaN</td>\n",
              "      <td>$20,045,445,010.83</td>\n",
              "      <td>NaN</td>\n",
              "      <td>NaN</td>\n",
              "      <td>NaN</td>\n",
              "      <td>455,805,284,590</td>\n",
              "      <td>NaN</td>\n",
              "      <td>NaN</td>\n",
              "      <td>NaN</td>\n",
              "      <td>NaN</td>\n",
              "      <td>NaN</td>\n",
              "      <td>NaN</td>\n",
              "      <td>NaN</td>\n",
              "      <td>NaN</td>\n",
              "      <td>NaN</td>\n",
              "      <td>NaN</td>\n",
              "      <td>NaN</td>\n",
              "      <td>NaN</td>\n",
              "      <td>NaN</td>\n",
              "      <td>NaN</td>\n",
              "      <td>NaN</td>\n",
              "      <td>NaN</td>\n",
              "      <td>NaN</td>\n",
              "      <td>NaN</td>\n",
              "      <td>NaN</td>\n",
              "      <td>NaN</td>\n",
              "      <td>NaN</td>\n",
              "      <td>NaN</td>\n",
              "      <td>NaN</td>\n",
              "      <td>NaN</td>\n",
              "    </tr>\n",
              "  </tbody>\n",
              "</table>\n",
              "<p>860 rows × 32 columns</p>\n",
              "</div>"
            ],
            "text/plain": [
              "                            ... Interface for centralized systems\n",
              "0             AdBank (ADB)  ...                               Yes\n",
              "1         AIRBLOC Protocol  ...                                No\n",
              "2            Airswap (AIG)  ...                               Yes\n",
              "3                   Aragon  ...                               Yes\n",
              "4    Basic Attention Token  ...                               Yes\n",
              "..                     ...  ...                               ...\n",
              "855                 Zipper  ...                               NaN\n",
              "856                   ZPER  ...                               NaN\n",
              "857                 Zrcoin  ...                               NaN\n",
              "858                    NaN  ...                               NaN\n",
              "859                 TOTALS  ...                               NaN\n",
              "\n",
              "[860 rows x 32 columns]"
            ]
          },
          "metadata": {
            "tags": []
          },
          "execution_count": 54
        }
      ]
    },
    {
      "cell_type": "markdown",
      "metadata": {
        "id": "aJvbkrX67KkF"
      },
      "source": [
        "# Modify Data"
      ]
    },
    {
      "cell_type": "markdown",
      "metadata": {
        "id": "E93q22cO7N4l"
      },
      "source": [
        "Our next task will be to modify data so that we create a dataframe with one column listing the governance variable inputs, the right column listing the counts, and the next four columns listing the counts associated with each value's corresponding value creation."
      ]
    },
    {
      "cell_type": "markdown",
      "metadata": {
        "id": "E3znLxX1Bhn9"
      },
      "source": [
        "### Governance Transparency"
      ]
    },
    {
      "cell_type": "code",
      "metadata": {
        "colab": {
          "base_uri": "https://localhost:8080/",
          "height": 111
        },
        "id": "DvZvG6eZ7NUV",
        "outputId": "f7322522-c760-4f18-da72-47c0da2da420"
      },
      "source": [
        "'''\n",
        "Our process should look as follows:\n",
        "1. Take a governance variable\n",
        "2. Find the counts of each corresponding entry\n",
        "3. Display the results as a table\n",
        "'''\n",
        "\n",
        "# we will start with governance transparency\n",
        "dummyList = list(data['Governance Transparency'])\n",
        "govList = []\n",
        "for item in dummyList:\n",
        "  if (type(item) == str):\n",
        "    govList.append(item)\n",
        "\n",
        "low = 0\n",
        "high = 0\n",
        "\n",
        "for item in govList:\n",
        "  if item == 'LOW':\n",
        "    low += 1\n",
        "  else:\n",
        "    high += 1\n",
        "\n",
        "# print(low, high)\n",
        "\n",
        "govData = {'Governance Transparency': ['Low', 'High'], 'Count': [low, high]}\n",
        "\n",
        "govDf = pd.DataFrame(data=govData)\n",
        "\n",
        "govDf"
      ],
      "execution_count": null,
      "outputs": [
        {
          "output_type": "execute_result",
          "data": {
            "text/html": [
              "<div>\n",
              "<style scoped>\n",
              "    .dataframe tbody tr th:only-of-type {\n",
              "        vertical-align: middle;\n",
              "    }\n",
              "\n",
              "    .dataframe tbody tr th {\n",
              "        vertical-align: top;\n",
              "    }\n",
              "\n",
              "    .dataframe thead th {\n",
              "        text-align: right;\n",
              "    }\n",
              "</style>\n",
              "<table border=\"1\" class=\"dataframe\">\n",
              "  <thead>\n",
              "    <tr style=\"text-align: right;\">\n",
              "      <th></th>\n",
              "      <th>Governance Transparency</th>\n",
              "      <th>Count</th>\n",
              "    </tr>\n",
              "  </thead>\n",
              "  <tbody>\n",
              "    <tr>\n",
              "      <th>0</th>\n",
              "      <td>Low</td>\n",
              "      <td>50</td>\n",
              "    </tr>\n",
              "    <tr>\n",
              "      <th>1</th>\n",
              "      <td>High</td>\n",
              "      <td>37</td>\n",
              "    </tr>\n",
              "  </tbody>\n",
              "</table>\n",
              "</div>"
            ],
            "text/plain": [
              "  Governance Transparency  Count\n",
              "0                     Low     50\n",
              "1                    High     37"
            ]
          },
          "metadata": {
            "tags": []
          },
          "execution_count": 47
        }
      ]
    },
    {
      "cell_type": "markdown",
      "metadata": {
        "id": "472Xp_43Cc5g"
      },
      "source": [
        "### Voting Eligibility"
      ]
    },
    {
      "cell_type": "code",
      "metadata": {
        "id": "2ry29txLCiBu",
        "colab": {
          "base_uri": "https://localhost:8080/",
          "height": 173
        },
        "outputId": "ccb093c5-7c95-4e90-9c30-4796c47ae863"
      },
      "source": [
        "'''\n",
        "Our process should look as follows:\n",
        "1. Take a governance variable\n",
        "2. Find the counts of each corresponding entry\n",
        "3. Display the results as a table\n",
        "'''\n",
        "\n",
        "# we will start with governance transparency\n",
        "\n",
        "\n",
        "dummyListTwo = list(data['Voting Eligibility'])\n",
        "votingEligibility = []\n",
        "for item in dummyListTwo:\n",
        "  if (type(item) == str):\n",
        "    votingEligibility.append(item)\n",
        "\n",
        "votingEligibility\n",
        "\n",
        "none = 0\n",
        "overX = 0\n",
        "allTokens = 0\n",
        "wholeCommunity = 0\n",
        "\n",
        "for item in votingEligibility:\n",
        "  if item == 'All token holders':\n",
        "    allTokens += 1\n",
        "  else:\n",
        "    if item == 'None':\n",
        "      none += 1\n",
        "    else:\n",
        "      if item == 'Over x amount of tokens':\n",
        "        overX += 1\n",
        "      else:\n",
        "        if item == 'Whole community':\n",
        "          wholeCommunity += 1\n",
        "\n",
        "eligibilityData = {'Voting Eligibility': ['None', \n",
        "                                          'Over X Amount of Tokens',\n",
        "                                          'All Token Holders',\n",
        "                                          'Whole Community'],\n",
        "                   'Count': [none, \n",
        "                             overX,\n",
        "                             allTokens,\n",
        "                             wholeCommunity]}\n",
        "eligibilityDf = pd.DataFrame(data=eligibilityData)\n",
        "eligibilityDf\n",
        "\n"
      ],
      "execution_count": 63,
      "outputs": [
        {
          "output_type": "execute_result",
          "data": {
            "text/html": [
              "<div>\n",
              "<style scoped>\n",
              "    .dataframe tbody tr th:only-of-type {\n",
              "        vertical-align: middle;\n",
              "    }\n",
              "\n",
              "    .dataframe tbody tr th {\n",
              "        vertical-align: top;\n",
              "    }\n",
              "\n",
              "    .dataframe thead th {\n",
              "        text-align: right;\n",
              "    }\n",
              "</style>\n",
              "<table border=\"1\" class=\"dataframe\">\n",
              "  <thead>\n",
              "    <tr style=\"text-align: right;\">\n",
              "      <th></th>\n",
              "      <th>Voting Eligibility</th>\n",
              "      <th>Count</th>\n",
              "    </tr>\n",
              "  </thead>\n",
              "  <tbody>\n",
              "    <tr>\n",
              "      <th>0</th>\n",
              "      <td>None</td>\n",
              "      <td>48</td>\n",
              "    </tr>\n",
              "    <tr>\n",
              "      <th>1</th>\n",
              "      <td>Over X Amount of Tokens</td>\n",
              "      <td>3</td>\n",
              "    </tr>\n",
              "    <tr>\n",
              "      <th>2</th>\n",
              "      <td>All Token Holders</td>\n",
              "      <td>37</td>\n",
              "    </tr>\n",
              "    <tr>\n",
              "      <th>3</th>\n",
              "      <td>Whole Community</td>\n",
              "      <td>4</td>\n",
              "    </tr>\n",
              "  </tbody>\n",
              "</table>\n",
              "</div>"
            ],
            "text/plain": [
              "        Voting Eligibility  Count\n",
              "0                     None     48\n",
              "1  Over X Amount of Tokens      3\n",
              "2        All Token Holders     37\n",
              "3          Whole Community      4"
            ]
          },
          "metadata": {
            "tags": []
          },
          "execution_count": 63
        }
      ]
    },
    {
      "cell_type": "markdown",
      "metadata": {
        "id": "2P6KFYalCiWc"
      },
      "source": [
        "### Voting Rights"
      ]
    },
    {
      "cell_type": "code",
      "metadata": {
        "id": "D2VzRzU0Cl2g",
        "colab": {
          "base_uri": "https://localhost:8080/",
          "height": 204
        },
        "outputId": "1e503210-bb04-41f6-d532-bb69741493be"
      },
      "source": [
        "'''\n",
        "Our process should look as follows:\n",
        "1. Take a governance variable\n",
        "2. Find the counts of each corresponding entry\n",
        "3. Display the results as a table\n",
        "'''\n",
        "\n",
        "# we will start with governance transparency\n",
        "dummyListThree = list(data['Decision/voting rights'])\n",
        "votingRights = []\n",
        "for item in list(dummyListThree):\n",
        "  if (type(item) == str):\n",
        "    votingRights.append(item)\n",
        "\n",
        "none = 0\n",
        "proportional = 0\n",
        "tiered = 0\n",
        "quadratic = 0\n",
        "other = 0\n",
        "\n",
        "for item in votingRights:\n",
        "  if item == 'None':\n",
        "    none += 1\n",
        "  else:\n",
        "    if item == 'Proportional':\n",
        "      proportional += 1\n",
        "    else:\n",
        "      if item == 'Tiered':\n",
        "        tiered += 1\n",
        "      else:\n",
        "        if item == 'Quadratic':\n",
        "          quadratic += 1\n",
        "        else:\n",
        "          if item == 'Other':\n",
        "            other += 1\n",
        "\n",
        "rightsData = {\n",
        "    'Voting Rights': ['None',\n",
        "                      'Proportional',\n",
        "                      'Tiered',\n",
        "                      'Quadratic',\n",
        "                      'Other'],\n",
        "    'Count': [none,\n",
        "              proportional,\n",
        "              tiered,\n",
        "              quadratic,\n",
        "              other]\n",
        "}\n",
        "\n",
        "rightsDf = pd.DataFrame(data=rightsData)\n",
        "rightsDf\n",
        "    "
      ],
      "execution_count": 97,
      "outputs": [
        {
          "output_type": "execute_result",
          "data": {
            "text/html": [
              "<div>\n",
              "<style scoped>\n",
              "    .dataframe tbody tr th:only-of-type {\n",
              "        vertical-align: middle;\n",
              "    }\n",
              "\n",
              "    .dataframe tbody tr th {\n",
              "        vertical-align: top;\n",
              "    }\n",
              "\n",
              "    .dataframe thead th {\n",
              "        text-align: right;\n",
              "    }\n",
              "</style>\n",
              "<table border=\"1\" class=\"dataframe\">\n",
              "  <thead>\n",
              "    <tr style=\"text-align: right;\">\n",
              "      <th></th>\n",
              "      <th>Voting Rights</th>\n",
              "      <th>Count</th>\n",
              "    </tr>\n",
              "  </thead>\n",
              "  <tbody>\n",
              "    <tr>\n",
              "      <th>0</th>\n",
              "      <td>None</td>\n",
              "      <td>48</td>\n",
              "    </tr>\n",
              "    <tr>\n",
              "      <th>1</th>\n",
              "      <td>Proportional</td>\n",
              "      <td>32</td>\n",
              "    </tr>\n",
              "    <tr>\n",
              "      <th>2</th>\n",
              "      <td>Tiered</td>\n",
              "      <td>4</td>\n",
              "    </tr>\n",
              "    <tr>\n",
              "      <th>3</th>\n",
              "      <td>Quadratic</td>\n",
              "      <td>1</td>\n",
              "    </tr>\n",
              "    <tr>\n",
              "      <th>4</th>\n",
              "      <td>Other</td>\n",
              "      <td>6</td>\n",
              "    </tr>\n",
              "  </tbody>\n",
              "</table>\n",
              "</div>"
            ],
            "text/plain": [
              "  Voting Rights  Count\n",
              "0          None     48\n",
              "1  Proportional     32\n",
              "2        Tiered      4\n",
              "3     Quadratic      1\n",
              "4         Other      6"
            ]
          },
          "metadata": {
            "tags": []
          },
          "execution_count": 97
        }
      ]
    },
    {
      "cell_type": "markdown",
      "metadata": {
        "id": "G3zrNu-wCmNO"
      },
      "source": [
        "### Decision-Making Mechanism"
      ]
    },
    {
      "cell_type": "code",
      "metadata": {
        "id": "XDK4V7NhCpKg",
        "colab": {
          "base_uri": "https://localhost:8080/",
          "height": 173
        },
        "outputId": "6d5aae1a-263b-4681-ec1f-e54a739ee065"
      },
      "source": [
        "'''\n",
        "Our process should look as follows:\n",
        "1. Take a governance variable\n",
        "2. Find the counts of each corresponding entry\n",
        "3. Display the results as a table\n",
        "\n",
        "'''\n",
        "\n",
        "dummyListFour = list(data['Decision-making mechanism'])\n",
        "votingMechanism = []\n",
        "for item in list(dummyListFour):\n",
        "  if (type(item) == str):\n",
        "    votingMechanism.append(item)\n",
        "\n",
        "\n",
        "centralized = 0\n",
        "consortiumMajority = 0\n",
        "tokenAmountMajority = 0\n",
        "other = 0\n",
        "\n",
        "for item in votingMechanism:\n",
        "  if item == 'Centralized':\n",
        "    centralized += 1\n",
        "  else:\n",
        "    if item == 'Consortium majority':\n",
        "      consortiumMajority += 1\n",
        "    else:\n",
        "      if item == 'Token amount majority':\n",
        "        tokenAmountMajority += 1\n",
        "      else:\n",
        "        if item == 'Other':\n",
        "          other += 1\n",
        "\n",
        "majorityData = {\n",
        "    'Decision-Making Mechanism': \n",
        "                      ['Centralized',\n",
        "                      'Consortium Majority',\n",
        "                      'Token Amount Majority',\n",
        "                      'Other'],\n",
        "    'Count': [centralized,\n",
        "              consortiumMajority,\n",
        "              tokenAmountMajority,\n",
        "              other]\n",
        "}\n",
        "\n",
        "majorityDf = pd.DataFrame(data=majorityData)\n",
        "majorityDf\n",
        "\n",
        "\n"
      ],
      "execution_count": 111,
      "outputs": [
        {
          "output_type": "execute_result",
          "data": {
            "text/html": [
              "<div>\n",
              "<style scoped>\n",
              "    .dataframe tbody tr th:only-of-type {\n",
              "        vertical-align: middle;\n",
              "    }\n",
              "\n",
              "    .dataframe tbody tr th {\n",
              "        vertical-align: top;\n",
              "    }\n",
              "\n",
              "    .dataframe thead th {\n",
              "        text-align: right;\n",
              "    }\n",
              "</style>\n",
              "<table border=\"1\" class=\"dataframe\">\n",
              "  <thead>\n",
              "    <tr style=\"text-align: right;\">\n",
              "      <th></th>\n",
              "      <th>Decision-Making Mechanism</th>\n",
              "      <th>Count</th>\n",
              "    </tr>\n",
              "  </thead>\n",
              "  <tbody>\n",
              "    <tr>\n",
              "      <th>0</th>\n",
              "      <td>Centralized</td>\n",
              "      <td>51</td>\n",
              "    </tr>\n",
              "    <tr>\n",
              "      <th>1</th>\n",
              "      <td>Consortium Majority</td>\n",
              "      <td>7</td>\n",
              "    </tr>\n",
              "    <tr>\n",
              "      <th>2</th>\n",
              "      <td>Token Amount Majority</td>\n",
              "      <td>25</td>\n",
              "    </tr>\n",
              "    <tr>\n",
              "      <th>3</th>\n",
              "      <td>Other</td>\n",
              "      <td>8</td>\n",
              "    </tr>\n",
              "  </tbody>\n",
              "</table>\n",
              "</div>"
            ],
            "text/plain": [
              "  Decision-Making Mechanism  Count\n",
              "0               Centralized     51\n",
              "1       Consortium Majority      7\n",
              "2     Token Amount Majority     25\n",
              "3                     Other      8"
            ]
          },
          "metadata": {
            "tags": []
          },
          "execution_count": 111
        }
      ]
    },
    {
      "cell_type": "markdown",
      "metadata": {
        "id": "96B3xgilCwLO"
      },
      "source": [
        "### Voting Delegation"
      ]
    },
    {
      "cell_type": "code",
      "metadata": {
        "id": "ox-axzB8C4gU",
        "colab": {
          "base_uri": "https://localhost:8080/",
          "height": 142
        },
        "outputId": "e571fb77-587d-430d-ccb9-02e93e658d85"
      },
      "source": [
        "'''\n",
        "Our process should look as follows:\n",
        "1. Take a governance variable\n",
        "2. Find the counts of each corresponding entry\n",
        "3. Display the results as a table\n",
        "\n",
        "'''\n",
        "dummyListFive = list(data['Voting delegation'])\n",
        "votingDelegation = []\n",
        "for item in list(dummyListFive):\n",
        "  if (type(item) == str):\n",
        "    votingDelegation.append(item)\n",
        "\n",
        "open = 0\n",
        "none = 0\n",
        "withTerms = 0\n",
        "\n",
        "for item in votingDelegation:\n",
        "  if item == 'Open':\n",
        "    open += 1\n",
        "  else:\n",
        "    if item == 'None':\n",
        "      none += 1\n",
        "    else:\n",
        "      if item == 'With terms':\n",
        "        withTerms += 1\n",
        "\n",
        "\n",
        "delegationData = {\n",
        "    'Voting Delegation': \n",
        "                      ['Open',\n",
        "                      'None',\n",
        "                      'With terms'],\n",
        "    'Count': [open,\n",
        "              none,\n",
        "              withTerms]\n",
        "}\n",
        "\n",
        "delegationDf = pd.DataFrame(data=delegationData)\n",
        "delegationDf\n"
      ],
      "execution_count": 113,
      "outputs": [
        {
          "output_type": "execute_result",
          "data": {
            "text/html": [
              "<div>\n",
              "<style scoped>\n",
              "    .dataframe tbody tr th:only-of-type {\n",
              "        vertical-align: middle;\n",
              "    }\n",
              "\n",
              "    .dataframe tbody tr th {\n",
              "        vertical-align: top;\n",
              "    }\n",
              "\n",
              "    .dataframe thead th {\n",
              "        text-align: right;\n",
              "    }\n",
              "</style>\n",
              "<table border=\"1\" class=\"dataframe\">\n",
              "  <thead>\n",
              "    <tr style=\"text-align: right;\">\n",
              "      <th></th>\n",
              "      <th>Voting Delegation</th>\n",
              "      <th>Count</th>\n",
              "    </tr>\n",
              "  </thead>\n",
              "  <tbody>\n",
              "    <tr>\n",
              "      <th>0</th>\n",
              "      <td>Open</td>\n",
              "      <td>11</td>\n",
              "    </tr>\n",
              "    <tr>\n",
              "      <th>1</th>\n",
              "      <td>None</td>\n",
              "      <td>79</td>\n",
              "    </tr>\n",
              "    <tr>\n",
              "      <th>2</th>\n",
              "      <td>With terms</td>\n",
              "      <td>0</td>\n",
              "    </tr>\n",
              "  </tbody>\n",
              "</table>\n",
              "</div>"
            ],
            "text/plain": [
              "  Voting Delegation  Count\n",
              "0              Open     11\n",
              "1              None     79\n",
              "2        With terms      0"
            ]
          },
          "metadata": {
            "tags": []
          },
          "execution_count": 113
        }
      ]
    },
    {
      "cell_type": "markdown",
      "metadata": {
        "id": "T3oQfdKmC1sT"
      },
      "source": [
        "### Specific Governance Roles"
      ]
    },
    {
      "cell_type": "code",
      "metadata": {
        "colab": {
          "base_uri": "https://localhost:8080/",
          "height": 111
        },
        "id": "CkPcRohRDTh1",
        "outputId": "ff494005-6eb9-40c3-f9b2-ce05714825a7"
      },
      "source": [
        "'''\n",
        "Our process should look as follows:\n",
        "1. Take a governance variable\n",
        "2. Find the counts of each corresponding entry\n",
        "3. Display the results as a table\n",
        "'''\n",
        "dummyListSix = list(data['Specific governance roles'])\n",
        "governanceRoles = []\n",
        "for item in list(dummyListSix):\n",
        "  if (type(item) == str):\n",
        "    governanceRoles.append(item)\n",
        "\n",
        "yes = 0\n",
        "no = 0\n",
        "\n",
        "for item in governanceRoles:\n",
        "  if item == 'Yes':\n",
        "    yes += 1\n",
        "  else:\n",
        "    if item == 'No':\n",
        "      no += 1\n",
        "\n",
        "\n",
        "governanceRoles = {\n",
        "    'Specific Governance Roles': \n",
        "                      ['Yes',\n",
        "                      'No'],\n",
        "    'Count': [yes,\n",
        "              no]\n",
        "}\n",
        "\n",
        "rolesDf = pd.DataFrame(data=governanceRoles)\n",
        "rolesDf\n"
      ],
      "execution_count": 116,
      "outputs": [
        {
          "output_type": "execute_result",
          "data": {
            "text/html": [
              "<div>\n",
              "<style scoped>\n",
              "    .dataframe tbody tr th:only-of-type {\n",
              "        vertical-align: middle;\n",
              "    }\n",
              "\n",
              "    .dataframe tbody tr th {\n",
              "        vertical-align: top;\n",
              "    }\n",
              "\n",
              "    .dataframe thead th {\n",
              "        text-align: right;\n",
              "    }\n",
              "</style>\n",
              "<table border=\"1\" class=\"dataframe\">\n",
              "  <thead>\n",
              "    <tr style=\"text-align: right;\">\n",
              "      <th></th>\n",
              "      <th>Specific Governance Roles</th>\n",
              "      <th>Count</th>\n",
              "    </tr>\n",
              "  </thead>\n",
              "  <tbody>\n",
              "    <tr>\n",
              "      <th>0</th>\n",
              "      <td>Yes</td>\n",
              "      <td>24</td>\n",
              "    </tr>\n",
              "    <tr>\n",
              "      <th>1</th>\n",
              "      <td>No</td>\n",
              "      <td>68</td>\n",
              "    </tr>\n",
              "  </tbody>\n",
              "</table>\n",
              "</div>"
            ],
            "text/plain": [
              "  Specific Governance Roles  Count\n",
              "0                       Yes     24\n",
              "1                        No     68"
            ]
          },
          "metadata": {
            "tags": []
          },
          "execution_count": 116
        }
      ]
    },
    {
      "cell_type": "markdown",
      "metadata": {
        "id": "V5sGsUDSDT1F"
      },
      "source": [
        "### Internal On-Chain Audit"
      ]
    },
    {
      "cell_type": "code",
      "metadata": {
        "colab": {
          "base_uri": "https://localhost:8080/",
          "height": 111
        },
        "id": "3_tTrtZ5DXRi",
        "outputId": "5f698d94-06a4-4b4c-a9a8-2c1ec8e8f51d"
      },
      "source": [
        "'''\n",
        "Our process should look as follows:\n",
        "1. Take a governance variable\n",
        "2. Find the counts of each corresponding entry\n",
        "3. Display the results as a table\n",
        "'''\n",
        "dummyListSeven = list(data['Internal on-chain audit'])\n",
        "onChainAudit = []\n",
        "for item in list(dummyListSeven):\n",
        "  if (type(item) == str):\n",
        "    onChainAudit.append(item)\n",
        "\n",
        "yes = 0\n",
        "no = 0\n",
        "\n",
        "for item in onChainAudit:\n",
        "  if item == 'Yes':\n",
        "    yes += 1\n",
        "  else:\n",
        "    if item == 'No':\n",
        "      no += 1\n",
        "\n",
        "auditData = {\n",
        "    'On-Chain Audit Data': \n",
        "                      [\n",
        "                      'Yes',\n",
        "                      'No'\n",
        "                      ],\n",
        "    'Count': [\n",
        "              yes,\n",
        "              no\n",
        "              ]\n",
        "}\n",
        "\n",
        "auditDf = pd.DataFrame(data=auditData)\n",
        "auditDf\n"
      ],
      "execution_count": 124,
      "outputs": [
        {
          "output_type": "execute_result",
          "data": {
            "text/html": [
              "<div>\n",
              "<style scoped>\n",
              "    .dataframe tbody tr th:only-of-type {\n",
              "        vertical-align: middle;\n",
              "    }\n",
              "\n",
              "    .dataframe tbody tr th {\n",
              "        vertical-align: top;\n",
              "    }\n",
              "\n",
              "    .dataframe thead th {\n",
              "        text-align: right;\n",
              "    }\n",
              "</style>\n",
              "<table border=\"1\" class=\"dataframe\">\n",
              "  <thead>\n",
              "    <tr style=\"text-align: right;\">\n",
              "      <th></th>\n",
              "      <th>On-Chain Audit Data</th>\n",
              "      <th>Count</th>\n",
              "    </tr>\n",
              "  </thead>\n",
              "  <tbody>\n",
              "    <tr>\n",
              "      <th>0</th>\n",
              "      <td>Yes</td>\n",
              "      <td>21</td>\n",
              "    </tr>\n",
              "    <tr>\n",
              "      <th>1</th>\n",
              "      <td>No</td>\n",
              "      <td>70</td>\n",
              "    </tr>\n",
              "  </tbody>\n",
              "</table>\n",
              "</div>"
            ],
            "text/plain": [
              "  On-Chain Audit Data  Count\n",
              "0                 Yes     21\n",
              "1                  No     70"
            ]
          },
          "metadata": {
            "tags": []
          },
          "execution_count": 124
        }
      ]
    },
    {
      "cell_type": "markdown",
      "metadata": {
        "id": "6kWg10DVDg_2"
      },
      "source": [
        "### Execution Quality KPI Accountability"
      ]
    },
    {
      "cell_type": "code",
      "metadata": {
        "colab": {
          "base_uri": "https://localhost:8080/",
          "height": 111
        },
        "id": "ZouHjNmWDlS5",
        "outputId": "fdde21c9-4b7a-4baf-a7b3-b62c800e280a"
      },
      "source": [
        "'''\n",
        "Our process should look as follows:\n",
        "1. Take a governance variable\n",
        "2. Find the counts of each corresponding entry\n",
        "3. Display the results as a table\n",
        "'''\n",
        "dummyListEight = list(data['Execution quality KPI accountablity'])\n",
        "qualityKPI = []\n",
        "for item in list(dummyListEight):\n",
        "  if (type(item) == str):\n",
        "    qualityKPI.append(item)\n",
        "\n",
        "yes = 0\n",
        "no = 0\n",
        "\n",
        "for item in qualityKPI:\n",
        "  if item == 'Yes':\n",
        "    yes += 1\n",
        "  else:\n",
        "    if item == 'No':\n",
        "      no += 1\n",
        "\n",
        "kpiData = {\n",
        "    'Execution Quality KPI Accountability': \n",
        "                      [\n",
        "                      'Yes',\n",
        "                      'No'\n",
        "                      ],\n",
        "    'Count': [\n",
        "              yes,\n",
        "              no\n",
        "              ]\n",
        "}\n",
        "\n",
        "kpiDf = pd.DataFrame(data=kpiData)\n",
        "kpiDf\n"
      ],
      "execution_count": 117,
      "outputs": [
        {
          "output_type": "execute_result",
          "data": {
            "text/html": [
              "<div>\n",
              "<style scoped>\n",
              "    .dataframe tbody tr th:only-of-type {\n",
              "        vertical-align: middle;\n",
              "    }\n",
              "\n",
              "    .dataframe tbody tr th {\n",
              "        vertical-align: top;\n",
              "    }\n",
              "\n",
              "    .dataframe thead th {\n",
              "        text-align: right;\n",
              "    }\n",
              "</style>\n",
              "<table border=\"1\" class=\"dataframe\">\n",
              "  <thead>\n",
              "    <tr style=\"text-align: right;\">\n",
              "      <th></th>\n",
              "      <th>Execution Quality KPI Accountability</th>\n",
              "      <th>Count</th>\n",
              "    </tr>\n",
              "  </thead>\n",
              "  <tbody>\n",
              "    <tr>\n",
              "      <th>0</th>\n",
              "      <td>Yes</td>\n",
              "      <td>33</td>\n",
              "    </tr>\n",
              "    <tr>\n",
              "      <th>1</th>\n",
              "      <td>No</td>\n",
              "      <td>59</td>\n",
              "    </tr>\n",
              "  </tbody>\n",
              "</table>\n",
              "</div>"
            ],
            "text/plain": [
              "  Execution Quality KPI Accountability  Count\n",
              "0                                  Yes     33\n",
              "1                                   No     59"
            ]
          },
          "metadata": {
            "tags": []
          },
          "execution_count": 117
        }
      ]
    },
    {
      "cell_type": "markdown",
      "metadata": {
        "id": "la3pTsmPDlwg"
      },
      "source": [
        "### Community co-creation of Projects"
      ]
    },
    {
      "cell_type": "code",
      "metadata": {
        "colab": {
          "base_uri": "https://localhost:8080/",
          "height": 111
        },
        "id": "gSx6Vcr_Dpg5",
        "outputId": "6f1c4faa-a0e9-47b7-82ba-a9366d19ac8b"
      },
      "source": [
        "'''\n",
        "Our process should look as follows:\n",
        "1. Take a governance variable\n",
        "2. Find the counts of each corresponding entry\n",
        "3. Display the results as a table\n",
        "'''\n",
        "dummyListNine = list(data['Community co-creation of projects'])\n",
        "communityCreation = []\n",
        "for item in list(dummyListNine):\n",
        "  if (type(item) == str):\n",
        "    communityCreation.append(item)\n",
        "\n",
        "yes = 0\n",
        "no = 0\n",
        "\n",
        "for item in communityCreation:\n",
        "  if item == 'Yes':\n",
        "    yes += 1\n",
        "  else:\n",
        "    if item == 'No':\n",
        "      no += 1\n",
        "\n",
        "creationData = {\n",
        "    'Community Co-Creation of Projects': \n",
        "                      [\n",
        "                      'Yes',\n",
        "                      'No'\n",
        "                      ],\n",
        "    'Count': [\n",
        "              yes,\n",
        "              no\n",
        "              ]\n",
        "}\n",
        "\n",
        "creationDf = pd.DataFrame(data=creationData)\n",
        "creationDf\n"
      ],
      "execution_count": 118,
      "outputs": [
        {
          "output_type": "execute_result",
          "data": {
            "text/html": [
              "<div>\n",
              "<style scoped>\n",
              "    .dataframe tbody tr th:only-of-type {\n",
              "        vertical-align: middle;\n",
              "    }\n",
              "\n",
              "    .dataframe tbody tr th {\n",
              "        vertical-align: top;\n",
              "    }\n",
              "\n",
              "    .dataframe thead th {\n",
              "        text-align: right;\n",
              "    }\n",
              "</style>\n",
              "<table border=\"1\" class=\"dataframe\">\n",
              "  <thead>\n",
              "    <tr style=\"text-align: right;\">\n",
              "      <th></th>\n",
              "      <th>Community Co-Creation of Projects</th>\n",
              "      <th>Count</th>\n",
              "    </tr>\n",
              "  </thead>\n",
              "  <tbody>\n",
              "    <tr>\n",
              "      <th>0</th>\n",
              "      <td>Yes</td>\n",
              "      <td>34</td>\n",
              "    </tr>\n",
              "    <tr>\n",
              "      <th>1</th>\n",
              "      <td>No</td>\n",
              "      <td>59</td>\n",
              "    </tr>\n",
              "  </tbody>\n",
              "</table>\n",
              "</div>"
            ],
            "text/plain": [
              "  Community Co-Creation of Projects  Count\n",
              "0                               Yes     34\n",
              "1                                No     59"
            ]
          },
          "metadata": {
            "tags": []
          },
          "execution_count": 118
        }
      ]
    },
    {
      "cell_type": "markdown",
      "metadata": {
        "id": "GpP9yqukDp5y"
      },
      "source": [
        "### Interface for Centralized Systems"
      ]
    },
    {
      "cell_type": "code",
      "metadata": {
        "colab": {
          "base_uri": "https://localhost:8080/",
          "height": 111
        },
        "id": "GJk7f9A1DsuX",
        "outputId": "4d91a472-e9b6-41db-f8cb-1c360eb26227"
      },
      "source": [
        "'''\n",
        "Our process should look as follows:\n",
        "1. Take a governance variable\n",
        "2. Find the counts of each corresponding entry\n",
        "3. Display the results as a table\n",
        "'''\n",
        "dummyListTen = list(data['Interface for centralized systems'])\n",
        "interface = []\n",
        "for item in list(dummyListTen):\n",
        "  if (type(item) == str):\n",
        "    interface.append(item)\n",
        "\n",
        "yes = 0\n",
        "no = 0\n",
        "\n",
        "for item in interface:\n",
        "  if item == 'Yes':\n",
        "    yes += 1\n",
        "  else:\n",
        "    if item == 'No':\n",
        "      no += 1\n",
        "\n",
        "interfaceData = {\n",
        "    'Interface for Centralized Systems': \n",
        "                      [\n",
        "                      'Yes',\n",
        "                      'No'\n",
        "                      ],\n",
        "    'Count': [\n",
        "              yes,\n",
        "              no\n",
        "              ]\n",
        "}\n",
        "\n",
        "interfaceDf = pd.DataFrame(data=interfaceData)\n",
        "interfaceDf\n"
      ],
      "execution_count": 119,
      "outputs": [
        {
          "output_type": "execute_result",
          "data": {
            "text/html": [
              "<div>\n",
              "<style scoped>\n",
              "    .dataframe tbody tr th:only-of-type {\n",
              "        vertical-align: middle;\n",
              "    }\n",
              "\n",
              "    .dataframe tbody tr th {\n",
              "        vertical-align: top;\n",
              "    }\n",
              "\n",
              "    .dataframe thead th {\n",
              "        text-align: right;\n",
              "    }\n",
              "</style>\n",
              "<table border=\"1\" class=\"dataframe\">\n",
              "  <thead>\n",
              "    <tr style=\"text-align: right;\">\n",
              "      <th></th>\n",
              "      <th>Interface for Centralized Systems</th>\n",
              "      <th>Count</th>\n",
              "    </tr>\n",
              "  </thead>\n",
              "  <tbody>\n",
              "    <tr>\n",
              "      <th>0</th>\n",
              "      <td>Yes</td>\n",
              "      <td>59</td>\n",
              "    </tr>\n",
              "    <tr>\n",
              "      <th>1</th>\n",
              "      <td>No</td>\n",
              "      <td>33</td>\n",
              "    </tr>\n",
              "  </tbody>\n",
              "</table>\n",
              "</div>"
            ],
            "text/plain": [
              "  Interface for Centralized Systems  Count\n",
              "0                               Yes     59\n",
              "1                                No     33"
            ]
          },
          "metadata": {
            "tags": []
          },
          "execution_count": 119
        }
      ]
    },
    {
      "cell_type": "markdown",
      "metadata": {
        "id": "ilLprHBQsg6y"
      },
      "source": [
        "# Visualize Data"
      ]
    },
    {
      "cell_type": "markdown",
      "metadata": {
        "id": "nSf_7jI3si9h"
      },
      "source": [
        "Our first task will be to visualize the data. To do so, we will build histograms for the following governance metrics:\n",
        "<ul>\n",
        "  <li>Transparency</li>\n",
        "  <li>Voting Eligibility</li>\n",
        "  <li>Voting Rights</li>\n",
        "  <li>Decision-Making Mechanism</li>\n",
        "  <li>Voting Delegation</li>\n",
        "  <li>Specific Governance Roles</li>\n",
        "  <li>Internal on-chain Audit</li>\n",
        "  <li>Execution Quality KPI Accountability</li>\n",
        "  <li>Community co-creation of Projects</li>\n",
        "  <li>Interface for Centralized Systems</li>\n",
        "</ul>"
      ]
    },
    {
      "cell_type": "markdown",
      "metadata": {
        "id": "wfy2f3LfBeN8"
      },
      "source": [
        "### Governance Transparency"
      ]
    },
    {
      "cell_type": "code",
      "metadata": {
        "id": "DYDnnylPJ6Cc"
      },
      "source": [
        "import matplotlib.pyplot as plt \n",
        "import seaborn as sns\n",
        "sns.set()"
      ],
      "execution_count": 78,
      "outputs": []
    },
    {
      "cell_type": "code",
      "metadata": {
        "colab": {
          "base_uri": "https://localhost:8080/",
          "height": 651
        },
        "id": "nxNgRO0BsH9h",
        "outputId": "f5b8511b-65d6-4f2f-c32e-09e73d329888"
      },
      "source": [
        "\n",
        "plt.figure(figsize=(15,9))\n",
        "plt.bar(x=list(govDf['Governance Transparency']), \n",
        "        height = list(govDf['Count']),\n",
        "        color='rgbymc')\n",
        "plt.xticks(rotation=45)\n",
        "plt.title('Governance Transparency', fontsize=24, fontweight='bold')\n"
      ],
      "execution_count": 91,
      "outputs": [
        {
          "output_type": "stream",
          "text": [
            "/usr/local/lib/python3.7/dist-packages/ipykernel_launcher.py:5: MatplotlibDeprecationWarning: Using a string of single character colors as a color sequence is deprecated. Use an explicit list instead.\n",
            "  \"\"\"\n"
          ],
          "name": "stderr"
        },
        {
          "output_type": "execute_result",
          "data": {
            "text/plain": [
              "Text(0.5, 1.0, 'Governance Transparency')"
            ]
          },
          "metadata": {
            "tags": []
          },
          "execution_count": 91
        },
        {
          "output_type": "display_data",
          "data": {
            "image/png": "[encoded data removed]",
            "text/plain": [
              "<Figure size 1080x648 with 1 Axes>"
            ]
          },
          "metadata": {
            "tags": []
          }
        }
      ]
    },
    {
      "cell_type": "markdown",
      "metadata": {
        "id": "Io9h0jhLBne_"
      },
      "source": [
        "### Voting Eligibility"
      ]
    },
    {
      "cell_type": "code",
      "metadata": {
        "id": "5dNHLTzvBqcc",
        "colab": {
          "base_uri": "https://localhost:8080/",
          "height": 731
        },
        "outputId": "d5adaf9b-0bdb-44de-9d41-a376ef962609"
      },
      "source": [
        "plt.figure(figsize=(15,9))\n",
        "plt.bar(x= list(eligibilityDf['Voting Eligibility']), \n",
        "        height= list(eligibilityDf['Count']),\n",
        "        color='rgbymc')\n",
        "plt.xticks(rotation=45)\n",
        "plt.title('Voting Eligibility', fontsize=24, fontweight='bold')\n"
      ],
      "execution_count": 90,
      "outputs": [
        {
          "output_type": "stream",
          "text": [
            "/usr/local/lib/python3.7/dist-packages/ipykernel_launcher.py:4: MatplotlibDeprecationWarning: Using a string of single character colors as a color sequence is deprecated. Use an explicit list instead.\n",
            "  after removing the cwd from sys.path.\n"
          ],
          "name": "stderr"
        },
        {
          "output_type": "execute_result",
          "data": {
            "text/plain": [
              "Text(0.5, 1.0, 'Voting Eligibility')"
            ]
          },
          "metadata": {
            "tags": []
          },
          "execution_count": 90
        },
        {
          "output_type": "display_data",
          "data": {
            "image/png": "[encoded data removed]",
            "text/plain": [
              "<Figure size 1080x648 with 1 Axes>"
            ]
          },
          "metadata": {
            "tags": []
          }
        }
      ]
    },
    {
      "cell_type": "markdown",
      "metadata": {
        "id": "XGR3sX95Bqyd"
      },
      "source": [
        "### Voting Rights"
      ]
    },
    {
      "cell_type": "code",
      "metadata": {
        "id": "Z_BVBz_VBzsz",
        "colab": {
          "base_uri": "https://localhost:8080/",
          "height": 680
        },
        "outputId": "41b557ee-26f2-4f76-9ffd-ecafee91b677"
      },
      "source": [
        "plt.figure(figsize=(15,9))\n",
        "plt.bar(x= list(rightsDf['Voting Rights']), \n",
        "        height= list(rightsDf['Count']),\n",
        "        color='rgbymc')\n",
        "plt.xticks(rotation=45)\n",
        "plt.title('Voting Rights', fontsize=24, fontweight='bold')"
      ],
      "execution_count": 100,
      "outputs": [
        {
          "output_type": "stream",
          "text": [
            "/usr/local/lib/python3.7/dist-packages/ipykernel_launcher.py:4: MatplotlibDeprecationWarning: Using a string of single character colors as a color sequence is deprecated. Use an explicit list instead.\n",
            "  after removing the cwd from sys.path.\n"
          ],
          "name": "stderr"
        },
        {
          "output_type": "execute_result",
          "data": {
            "text/plain": [
              "Text(0.5, 1.0, 'Voting Rights')"
            ]
          },
          "metadata": {
            "tags": []
          },
          "execution_count": 100
        },
        {
          "output_type": "display_data",
          "data": {
            "image/png": "[encoded data removed]",
            "text/plain": [
              "<Figure size 1080x648 with 1 Axes>"
            ]
          },
          "metadata": {
            "tags": []
          }
        }
      ]
    },
    {
      "cell_type": "markdown",
      "metadata": {
        "id": "SBXALVC6B0F8"
      },
      "source": [
        "### Decision-Making Mechanism"
      ]
    },
    {
      "cell_type": "code",
      "metadata": {
        "id": "e0lmwmkQB3Rc",
        "colab": {
          "base_uri": "https://localhost:8080/",
          "height": 722
        },
        "outputId": "c9632486-4fed-42b6-9c46-8bd8adc9b3c6"
      },
      "source": [
        "plt.figure(figsize=(15,9))\n",
        "plt.bar(x= list(majorityDf['Decision-Making Mechanism']), \n",
        "        height= list(majorityDf['Count']),\n",
        "        color='rgbymc')\n",
        "plt.xticks(rotation=45)\n",
        "plt.title('Decision-Making Mechanism', fontsize=24, fontweight='bold')"
      ],
      "execution_count": 112,
      "outputs": [
        {
          "output_type": "stream",
          "text": [
            "/usr/local/lib/python3.7/dist-packages/ipykernel_launcher.py:4: MatplotlibDeprecationWarning: Using a string of single character colors as a color sequence is deprecated. Use an explicit list instead.\n",
            "  after removing the cwd from sys.path.\n"
          ],
          "name": "stderr"
        },
        {
          "output_type": "execute_result",
          "data": {
            "text/plain": [
              "Text(0.5, 1.0, 'Decision-Making Mechanism')"
            ]
          },
          "metadata": {
            "tags": []
          },
          "execution_count": 112
        },
        {
          "output_type": "display_data",
          "data": {
            "image/png": "[encoded data removed]",
            "text/plain": [
              "<Figure size 1080x648 with 1 Axes>"
            ]
          },
          "metadata": {
            "tags": []
          }
        }
      ]
    },
    {
      "cell_type": "markdown",
      "metadata": {
        "id": "p0p4ffabB3wM"
      },
      "source": [
        "### Voting Delegation"
      ]
    },
    {
      "cell_type": "code",
      "metadata": {
        "id": "ctknmmOMB668",
        "colab": {
          "base_uri": "https://localhost:8080/",
          "height": 676
        },
        "outputId": "2dd271bb-a1ca-4989-b19f-54dd1c3f7f18"
      },
      "source": [
        "plt.figure(figsize=(15,9))\n",
        "plt.bar(x= list(delegationDf['Voting Delegation']), \n",
        "        height= list(delegationDf['Count']),\n",
        "        color='rgbymc')\n",
        "plt.xticks(rotation=45)\n",
        "plt.title('Voting Delegation', fontsize=24, fontweight='bold')"
      ],
      "execution_count": 114,
      "outputs": [
        {
          "output_type": "stream",
          "text": [
            "/usr/local/lib/python3.7/dist-packages/ipykernel_launcher.py:4: MatplotlibDeprecationWarning: Using a string of single character colors as a color sequence is deprecated. Use an explicit list instead.\n",
            "  after removing the cwd from sys.path.\n"
          ],
          "name": "stderr"
        },
        {
          "output_type": "execute_result",
          "data": {
            "text/plain": [
              "Text(0.5, 1.0, 'Voting Delegation')"
            ]
          },
          "metadata": {
            "tags": []
          },
          "execution_count": 114
        },
        {
          "output_type": "display_data",
          "data": {
            "image/png": "[encoded data removed]",
            "text/plain": [
              "<Figure size 1080x648 with 1 Axes>"
            ]
          },
          "metadata": {
            "tags": []
          }
        }
      ]
    },
    {
      "cell_type": "markdown",
      "metadata": {
        "id": "Ge-r49uEB55c"
      },
      "source": [
        "### Specific Governance Roles"
      ]
    },
    {
      "cell_type": "code",
      "metadata": {
        "id": "YTobsUT7B-V-",
        "colab": {
          "base_uri": "https://localhost:8080/",
          "height": 645
        },
        "outputId": "b9dd5c2c-691d-41ca-cc68-47f8c37c0dca"
      },
      "source": [
        "plt.figure(figsize=(15,9))\n",
        "plt.bar(x= list(rolesDf['Specific Governance Roles']), \n",
        "        height= list(rolesDf['Count']),\n",
        "        color='rgbymc')\n",
        "plt.xticks(rotation=45)\n",
        "plt.title('Specific Governance Roles', fontsize=24, fontweight='bold')"
      ],
      "execution_count": 126,
      "outputs": [
        {
          "output_type": "stream",
          "text": [
            "/usr/local/lib/python3.7/dist-packages/ipykernel_launcher.py:4: MatplotlibDeprecationWarning: Using a string of single character colors as a color sequence is deprecated. Use an explicit list instead.\n",
            "  after removing the cwd from sys.path.\n"
          ],
          "name": "stderr"
        },
        {
          "output_type": "execute_result",
          "data": {
            "text/plain": [
              "Text(0.5, 1.0, 'Specific Governance Roles')"
            ]
          },
          "metadata": {
            "tags": []
          },
          "execution_count": 126
        },
        {
          "output_type": "display_data",
          "data": {
            "image/png": "[encoded data removed]",
            "text/plain": [
              "<Figure size 1080x648 with 1 Axes>"
            ]
          },
          "metadata": {
            "tags": []
          }
        }
      ]
    },
    {
      "cell_type": "markdown",
      "metadata": {
        "id": "z5z3dAopB-1-"
      },
      "source": [
        "### Internal on-chain audit"
      ]
    },
    {
      "cell_type": "code",
      "metadata": {
        "id": "bwfSJhjSCCz_",
        "colab": {
          "base_uri": "https://localhost:8080/",
          "height": 645
        },
        "outputId": "f6718cf7-209b-40d3-e5c4-59f11c88a193"
      },
      "source": [
        "plt.figure(figsize=(15,9))\n",
        "plt.bar(x= list(auditDf['On-Chain Audit Data']), \n",
        "        height= list(auditDf['Count']),\n",
        "        color='rgbymc')\n",
        "plt.xticks(rotation=45)\n",
        "plt.title('On-Chain Audit Data', fontsize=24, fontweight='bold')"
      ],
      "execution_count": 125,
      "outputs": [
        {
          "output_type": "stream",
          "text": [
            "/usr/local/lib/python3.7/dist-packages/ipykernel_launcher.py:4: MatplotlibDeprecationWarning: Using a string of single character colors as a color sequence is deprecated. Use an explicit list instead.\n",
            "  after removing the cwd from sys.path.\n"
          ],
          "name": "stderr"
        },
        {
          "output_type": "execute_result",
          "data": {
            "text/plain": [
              "Text(0.5, 1.0, 'On-Chain Audit Data')"
            ]
          },
          "metadata": {
            "tags": []
          },
          "execution_count": 125
        },
        {
          "output_type": "display_data",
          "data": {
            "image/png": "[encoded data removed]",
            "text/plain": [
              "<Figure size 1080x648 with 1 Axes>"
            ]
          },
          "metadata": {
            "tags": []
          }
        }
      ]
    },
    {
      "cell_type": "markdown",
      "metadata": {
        "id": "snEWo4oxCDLH"
      },
      "source": [
        "### Execution Quality KPI Accountability"
      ]
    },
    {
      "cell_type": "code",
      "metadata": {
        "id": "VMV8dqKsCHRI",
        "colab": {
          "base_uri": "https://localhost:8080/",
          "height": 645
        },
        "outputId": "e36c10b5-807e-4a61-d83a-82d9434886f2"
      },
      "source": [
        "plt.figure(figsize=(15,9))\n",
        "plt.bar(x= list(kpiDf['Execution Quality KPI Accountability']), \n",
        "        height= list(kpiDf['Count']),\n",
        "        color='rgbymc')\n",
        "plt.xticks(rotation=45)\n",
        "plt.title('Execution Quality KPI Accountability', fontsize=24, fontweight='bold')"
      ],
      "execution_count": 122,
      "outputs": [
        {
          "output_type": "stream",
          "text": [
            "/usr/local/lib/python3.7/dist-packages/ipykernel_launcher.py:4: MatplotlibDeprecationWarning: Using a string of single character colors as a color sequence is deprecated. Use an explicit list instead.\n",
            "  after removing the cwd from sys.path.\n"
          ],
          "name": "stderr"
        },
        {
          "output_type": "execute_result",
          "data": {
            "text/plain": [
              "Text(0.5, 1.0, 'Execution Quality KPI Accountability')"
            ]
          },
          "metadata": {
            "tags": []
          },
          "execution_count": 122
        },
        {
          "output_type": "display_data",
          "data": {
            "image/png": "[encoded data removed]",
            "text/plain": [
              "<Figure size 1080x648 with 1 Axes>"
            ]
          },
          "metadata": {
            "tags": []
          }
        }
      ]
    },
    {
      "cell_type": "markdown",
      "metadata": {
        "id": "vXhMKQqaCHp3"
      },
      "source": [
        "### Community co-creation of Projects"
      ]
    },
    {
      "cell_type": "code",
      "metadata": {
        "id": "tRZUV8IkCNDZ",
        "colab": {
          "base_uri": "https://localhost:8080/",
          "height": 645
        },
        "outputId": "28e84ae4-6bb3-4589-bca2-93280a834a40"
      },
      "source": [
        "plt.figure(figsize=(15,9))\n",
        "plt.bar(x= list(creationDf['Community Co-Creation of Projects']), \n",
        "        height= list(creationDf['Count']),\n",
        "        color='rgbymc')\n",
        "plt.xticks(rotation=45)\n",
        "plt.title('Community Co-Creation of Projects', fontsize=24, fontweight='bold')"
      ],
      "execution_count": 121,
      "outputs": [
        {
          "output_type": "stream",
          "text": [
            "/usr/local/lib/python3.7/dist-packages/ipykernel_launcher.py:4: MatplotlibDeprecationWarning: Using a string of single character colors as a color sequence is deprecated. Use an explicit list instead.\n",
            "  after removing the cwd from sys.path.\n"
          ],
          "name": "stderr"
        },
        {
          "output_type": "execute_result",
          "data": {
            "text/plain": [
              "Text(0.5, 1.0, 'Community Co-Creation of Projects')"
            ]
          },
          "metadata": {
            "tags": []
          },
          "execution_count": 121
        },
        {
          "output_type": "display_data",
          "data": {
            "image/png": "[encoded data removed]",
            "text/plain": [
              "<Figure size 1080x648 with 1 Axes>"
            ]
          },
          "metadata": {
            "tags": []
          }
        }
      ]
    },
    {
      "cell_type": "markdown",
      "metadata": {
        "id": "JdtMCuaYCNXC"
      },
      "source": [
        "### Interface for Centralized Systems"
      ]
    },
    {
      "cell_type": "code",
      "metadata": {
        "id": "a7dEn2WJCQW-",
        "colab": {
          "base_uri": "https://localhost:8080/",
          "height": 645
        },
        "outputId": "00383a42-9735-464f-ad31-a233f84e4bf3"
      },
      "source": [
        "plt.figure(figsize=(15,9))\n",
        "plt.bar(x= list(interfaceDf['Interface for Centralized Systems']), \n",
        "        height= list(interfaceDf['Count']),\n",
        "        color='rgbymc')\n",
        "plt.xticks(rotation=45)\n",
        "plt.title('Interface for Centralized Systems', fontsize=24, fontweight='bold')"
      ],
      "execution_count": 120,
      "outputs": [
        {
          "output_type": "stream",
          "text": [
            "/usr/local/lib/python3.7/dist-packages/ipykernel_launcher.py:4: MatplotlibDeprecationWarning: Using a string of single character colors as a color sequence is deprecated. Use an explicit list instead.\n",
            "  after removing the cwd from sys.path.\n"
          ],
          "name": "stderr"
        },
        {
          "output_type": "execute_result",
          "data": {
            "text/plain": [
              "Text(0.5, 1.0, 'Interface for Centralized Systems')"
            ]
          },
          "metadata": {
            "tags": []
          },
          "execution_count": 120
        },
        {
          "output_type": "display_data",
          "data": {
            "image/png": "[encoded data removed]",
            "text/plain": [
              "<Figure size 1080x648 with 1 Axes>"
            ]
          },
          "metadata": {
            "tags": []
          }
        }
      ]
    },
    {
      "cell_type": "markdown",
      "metadata": {
        "id": "Itygdk0FnGTZ"
      },
      "source": [
        "# Value Creation and Potential Bias"
      ]
    },
    {
      "cell_type": "code",
      "metadata": {
        "colab": {
          "base_uri": "https://localhost:8080/",
          "height": 173
        },
        "id": "FesoyHotgtR5",
        "outputId": "e3106a92-87e5-43f2-993d-aada53f94782"
      },
      "source": [
        "sampleList = list(data['ValueCreationNorm'])\n",
        "valueCreation = []\n",
        "\n",
        "lowValue = 0\n",
        "moderateValue = 0\n",
        "highValue = 0\n",
        "extremelyHighValue = 0\n",
        "\n",
        "for item in sampleList:\n",
        "  if item == '1':\n",
        "    lowValue += 1\n",
        "  else:\n",
        "    if item == '2':\n",
        "      moderateValue += 1\n",
        "    else:\n",
        "      if item == '3':\n",
        "        highValue += 1\n",
        "      else:\n",
        "        if item == '4':\n",
        "          extremelyHighValue += 1\n",
        "\n",
        "\n",
        "valueData = {'Value Creation': [\n",
        "                                'Low Value', \n",
        "                                'Moderate Value',\n",
        "                                'High Value',\n",
        "                                'Extremely High Value'\n",
        "                                ],\n",
        "                   'Count': [\n",
        "                             lowValue, \n",
        "                             moderateValue,\n",
        "                             highValue,\n",
        "                             extremelyHighValue\n",
        "                             ]}\n",
        "valueDf = pd.DataFrame(data=valueData)\n",
        "valueDf\n",
        "\n"
      ],
      "execution_count": 149,
      "outputs": [
        {
          "output_type": "execute_result",
          "data": {
            "text/html": [
              "<div>\n",
              "<style scoped>\n",
              "    .dataframe tbody tr th:only-of-type {\n",
              "        vertical-align: middle;\n",
              "    }\n",
              "\n",
              "    .dataframe tbody tr th {\n",
              "        vertical-align: top;\n",
              "    }\n",
              "\n",
              "    .dataframe thead th {\n",
              "        text-align: right;\n",
              "    }\n",
              "</style>\n",
              "<table border=\"1\" class=\"dataframe\">\n",
              "  <thead>\n",
              "    <tr style=\"text-align: right;\">\n",
              "      <th></th>\n",
              "      <th>Value Creation</th>\n",
              "      <th>Count</th>\n",
              "    </tr>\n",
              "  </thead>\n",
              "  <tbody>\n",
              "    <tr>\n",
              "      <th>0</th>\n",
              "      <td>Low Value</td>\n",
              "      <td>619</td>\n",
              "    </tr>\n",
              "    <tr>\n",
              "      <th>1</th>\n",
              "      <td>Moderate Value</td>\n",
              "      <td>17</td>\n",
              "    </tr>\n",
              "    <tr>\n",
              "      <th>2</th>\n",
              "      <td>High Value</td>\n",
              "      <td>134</td>\n",
              "    </tr>\n",
              "    <tr>\n",
              "      <th>3</th>\n",
              "      <td>Extremely High Value</td>\n",
              "      <td>84</td>\n",
              "    </tr>\n",
              "  </tbody>\n",
              "</table>\n",
              "</div>"
            ],
            "text/plain": [
              "         Value Creation  Count\n",
              "0             Low Value    619\n",
              "1        Moderate Value     17\n",
              "2            High Value    134\n",
              "3  Extremely High Value     84"
            ]
          },
          "metadata": {
            "tags": []
          },
          "execution_count": 149
        }
      ]
    },
    {
      "cell_type": "code",
      "metadata": {
        "colab": {
          "base_uri": "https://localhost:8080/",
          "height": 717
        },
        "id": "vnUPLnhQhmEY",
        "outputId": "518eaf40-f79c-4ac1-d9f2-a7e3840657b0"
      },
      "source": [
        "plt.figure(figsize=(15,9))\n",
        "plt.bar(x= list(valueDf['Value Creation']), \n",
        "        height= list(valueDf['Count']),\n",
        "        color='rgbymc')\n",
        "plt.xticks(rotation=45)\n",
        "plt.title('Value Creation', fontsize=24, fontweight='bold')"
      ],
      "execution_count": 150,
      "outputs": [
        {
          "output_type": "stream",
          "text": [
            "/usr/local/lib/python3.7/dist-packages/ipykernel_launcher.py:4: MatplotlibDeprecationWarning: Using a string of single character colors as a color sequence is deprecated. Use an explicit list instead.\n",
            "  after removing the cwd from sys.path.\n"
          ],
          "name": "stderr"
        },
        {
          "output_type": "execute_result",
          "data": {
            "text/plain": [
              "Text(0.5, 1.0, 'Value Creation')"
            ]
          },
          "metadata": {
            "tags": []
          },
          "execution_count": 150
        },
        {
          "output_type": "display_data",
          "data": {
            "image/png": "[encoded data removed]",
            "text/plain": [
              "<Figure size 1080x648 with 1 Axes>"
            ]
          },
          "metadata": {
            "tags": []
          }
        }
      ]
    },
    {
      "cell_type": "markdown",
      "metadata": {
        "id": "4xcMLamNpfxC"
      },
      "source": [
        "We only gathered data for the first 122 values. We need to graph the value creation for the first 122 values to determine whether there was any significant skewness in the data."
      ]
    },
    {
      "cell_type": "code",
      "metadata": {
        "colab": {
          "base_uri": "https://localhost:8080/",
          "height": 173
        },
        "id": "5gpB9wHVoydu",
        "outputId": "ec196c4c-35b8-480e-92a4-709ff8f22a00"
      },
      "source": [
        "subList = list(data['ValueCreationNorm'])[:123]\n",
        "\n",
        "valueCreationSubset = []\n",
        "\n",
        "lowValueSubset = 0\n",
        "moderateValueSubset = 0\n",
        "highValueSubset = 0\n",
        "extremelyHighValueSubset = 0\n",
        "\n",
        "for item in subList:\n",
        "  if item == '1':\n",
        "    lowValueSubset += 1\n",
        "  else:\n",
        "    if item == '2':\n",
        "      moderateValueSubset += 1\n",
        "    else:\n",
        "      if item == '3':\n",
        "        highValueSubset += 1\n",
        "      else:\n",
        "        if item == '4':\n",
        "          extremelyHighValueSubset += 1\n",
        "\n",
        "\n",
        "valueDataSubset = {'Value Creation': [\n",
        "                                'Low Value', \n",
        "                                'Moderate Value',\n",
        "                                'High Value',\n",
        "                                'Extremely High Value'\n",
        "                                ],\n",
        "                   'Count': [\n",
        "                             lowValueSubset, \n",
        "                             moderateValueSubset,\n",
        "                             highValueSubset,\n",
        "                             extremelyHighValueSubset\n",
        "                             ]}\n",
        "valueSubsetDf = pd.DataFrame(data=valueDataSubset)\n",
        "valueSubsetDf"
      ],
      "execution_count": 154,
      "outputs": [
        {
          "output_type": "execute_result",
          "data": {
            "text/html": [
              "<div>\n",
              "<style scoped>\n",
              "    .dataframe tbody tr th:only-of-type {\n",
              "        vertical-align: middle;\n",
              "    }\n",
              "\n",
              "    .dataframe tbody tr th {\n",
              "        vertical-align: top;\n",
              "    }\n",
              "\n",
              "    .dataframe thead th {\n",
              "        text-align: right;\n",
              "    }\n",
              "</style>\n",
              "<table border=\"1\" class=\"dataframe\">\n",
              "  <thead>\n",
              "    <tr style=\"text-align: right;\">\n",
              "      <th></th>\n",
              "      <th>Value Creation</th>\n",
              "      <th>Count</th>\n",
              "    </tr>\n",
              "  </thead>\n",
              "  <tbody>\n",
              "    <tr>\n",
              "      <th>0</th>\n",
              "      <td>Low Value</td>\n",
              "      <td>68</td>\n",
              "    </tr>\n",
              "    <tr>\n",
              "      <th>1</th>\n",
              "      <td>Moderate Value</td>\n",
              "      <td>3</td>\n",
              "    </tr>\n",
              "    <tr>\n",
              "      <th>2</th>\n",
              "      <td>High Value</td>\n",
              "      <td>30</td>\n",
              "    </tr>\n",
              "    <tr>\n",
              "      <th>3</th>\n",
              "      <td>Extremely High Value</td>\n",
              "      <td>22</td>\n",
              "    </tr>\n",
              "  </tbody>\n",
              "</table>\n",
              "</div>"
            ],
            "text/plain": [
              "         Value Creation  Count\n",
              "0             Low Value     68\n",
              "1        Moderate Value      3\n",
              "2            High Value     30\n",
              "3  Extremely High Value     22"
            ]
          },
          "metadata": {
            "tags": []
          },
          "execution_count": 154
        }
      ]
    },
    {
      "cell_type": "code",
      "metadata": {
        "colab": {
          "base_uri": "https://localhost:8080/",
          "height": 717
        },
        "id": "q7M03N6TqOO3",
        "outputId": "ee86d486-0c35-4804-9242-d11df00f86fe"
      },
      "source": [
        "plt.figure(figsize=(15,9))\n",
        "plt.bar(x= list(valueSubsetDf['Value Creation']), \n",
        "        height= list(valueSubsetDf['Count']),\n",
        "        color='rgbymc')\n",
        "plt.xticks(rotation=45)\n",
        "plt.title('Value Creation Subset', fontsize=24, fontweight='bold')"
      ],
      "execution_count": 155,
      "outputs": [
        {
          "output_type": "stream",
          "text": [
            "/usr/local/lib/python3.7/dist-packages/ipykernel_launcher.py:4: MatplotlibDeprecationWarning: Using a string of single character colors as a color sequence is deprecated. Use an explicit list instead.\n",
            "  after removing the cwd from sys.path.\n"
          ],
          "name": "stderr"
        },
        {
          "output_type": "execute_result",
          "data": {
            "text/plain": [
              "Text(0.5, 1.0, 'Value Creation Subset')"
            ]
          },
          "metadata": {
            "tags": []
          },
          "execution_count": 155
        },
        {
          "output_type": "display_data",
          "data": {
            "image/png": "[encoded data removed]",
            "text/plain": [
              "<Figure size 1080x648 with 1 Axes>"
            ]
          },
          "metadata": {
            "tags": []
          }
        }
      ]
    },
    {
      "cell_type": "code",
      "metadata": {
        "id": "mi-4Oe5oq1QR"
      },
      "source": [
        ""
      ],
      "execution_count": null,
      "outputs": []
    }
  ]
}