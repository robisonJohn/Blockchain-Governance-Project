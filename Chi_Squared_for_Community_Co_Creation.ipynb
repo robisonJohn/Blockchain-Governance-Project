{
  "nbformat": 4,
  "nbformat_minor": 0,
  "metadata": {
    "colab": {
      "name": "Chi Squared for Community Co-Creation.ipynb",
      "provenance": [],
      "authorship_tag": "ABX9TyOu2CgT771PbZsUatxtCzAI",
      "include_colab_link": true
    },
    "kernelspec": {
      "name": "python3",
      "display_name": "Python 3"
    },
    "language_info": {
      "name": "python"
    }
  },
  "cells": [
    {
      "cell_type": "markdown",
      "metadata": {
        "id": "view-in-github",
        "colab_type": "text"
      },
      "source": [
        "<a href=\"https://colab.research.google.com/github/robisonJohn/Blockchain-Governance-Project/blob/main/Chi_Squared_for_Community_Co_Creation.ipynb\" target=\"_parent\"><img src=\"https://colab.research.google.com/assets/colab-badge.svg\" alt=\"Open In Colab\"/></a>"
      ]
    },
    {
      "cell_type": "code",
      "metadata": {
        "colab": {
          "base_uri": "https://localhost:8080/",
          "height": 111
        },
        "id": "m3KHw5Ej-L1o",
        "outputId": "9bba6ccc-f202-470a-e6f2-9c8f212e47cb"
      },
      "source": [
        "import pandas as pd\n",
        "from scipy.stats import chi2_contingency\n",
        "import numpy as np\n",
        "\n",
        "communityCreation = pd.DataFrame(\n",
        "    [\n",
        "     [6,1,12,15],\n",
        "     [34,2,17,6]\n",
        "    ],\n",
        "    index=[\n",
        "           \"Community co-creation of projects\", \n",
        "           \"Centralized creation of projects\"\n",
        "           ],\n",
        "    columns=['Low Value',\"Moderate Value\",\"High Value\",\"Extremely High Value\"]\n",
        ")\n",
        "communityCreation"
      ],
      "execution_count": 4,
      "outputs": [
        {
          "output_type": "execute_result",
          "data": {
            "text/html": [
              "<div>\n",
              "<style scoped>\n",
              "    .dataframe tbody tr th:only-of-type {\n",
              "        vertical-align: middle;\n",
              "    }\n",
              "\n",
              "    .dataframe tbody tr th {\n",
              "        vertical-align: top;\n",
              "    }\n",
              "\n",
              "    .dataframe thead th {\n",
              "        text-align: right;\n",
              "    }\n",
              "</style>\n",
              "<table border=\"1\" class=\"dataframe\">\n",
              "  <thead>\n",
              "    <tr style=\"text-align: right;\">\n",
              "      <th></th>\n",
              "      <th>Low Value</th>\n",
              "      <th>Moderate Value</th>\n",
              "      <th>High Value</th>\n",
              "      <th>Extremely High Value</th>\n",
              "    </tr>\n",
              "  </thead>\n",
              "  <tbody>\n",
              "    <tr>\n",
              "      <th>Community co-creation of projects</th>\n",
              "      <td>6</td>\n",
              "      <td>1</td>\n",
              "      <td>12</td>\n",
              "      <td>15</td>\n",
              "    </tr>\n",
              "    <tr>\n",
              "      <th>Centralized creation of projects</th>\n",
              "      <td>34</td>\n",
              "      <td>2</td>\n",
              "      <td>17</td>\n",
              "      <td>6</td>\n",
              "    </tr>\n",
              "  </tbody>\n",
              "</table>\n",
              "</div>"
            ],
            "text/plain": [
              "                                   Low Value  ...  Extremely High Value\n",
              "Community co-creation of projects          6  ...                    15\n",
              "Centralized creation of projects          34  ...                     6\n",
              "\n",
              "[2 rows x 4 columns]"
            ]
          },
          "metadata": {
            "tags": []
          },
          "execution_count": 4
        }
      ]
    },
    {
      "cell_type": "code",
      "metadata": {
        "colab": {
          "base_uri": "https://localhost:8080/",
          "height": 111
        },
        "id": "1I7eJBbR_Ct9",
        "outputId": "1033fb78-a741-4c7d-cf94-4657a613ca25"
      },
      "source": [
        "df=chi2_contingency(communityCreation)[3]\n",
        "\n",
        "pd.DataFrame(\n",
        "    data=df[:,:],\n",
        "    index=[\"Community co-creation of projects\", \n",
        "           \"Centralized creation of projects\"],\n",
        "    columns=['Low Value',\"Moderate Value\",\"High Value\",\"Extremely High Value\"]\n",
        ").round(2)"
      ],
      "execution_count": 5,
      "outputs": [
        {
          "output_type": "execute_result",
          "data": {
            "text/html": [
              "<div>\n",
              "<style scoped>\n",
              "    .dataframe tbody tr th:only-of-type {\n",
              "        vertical-align: middle;\n",
              "    }\n",
              "\n",
              "    .dataframe tbody tr th {\n",
              "        vertical-align: top;\n",
              "    }\n",
              "\n",
              "    .dataframe thead th {\n",
              "        text-align: right;\n",
              "    }\n",
              "</style>\n",
              "<table border=\"1\" class=\"dataframe\">\n",
              "  <thead>\n",
              "    <tr style=\"text-align: right;\">\n",
              "      <th></th>\n",
              "      <th>Low Value</th>\n",
              "      <th>Moderate Value</th>\n",
              "      <th>High Value</th>\n",
              "      <th>Extremely High Value</th>\n",
              "    </tr>\n",
              "  </thead>\n",
              "  <tbody>\n",
              "    <tr>\n",
              "      <th>Community co-creation of projects</th>\n",
              "      <td>14.62</td>\n",
              "      <td>1.1</td>\n",
              "      <td>10.6</td>\n",
              "      <td>7.68</td>\n",
              "    </tr>\n",
              "    <tr>\n",
              "      <th>Centralized creation of projects</th>\n",
              "      <td>25.38</td>\n",
              "      <td>1.9</td>\n",
              "      <td>18.4</td>\n",
              "      <td>13.32</td>\n",
              "    </tr>\n",
              "  </tbody>\n",
              "</table>\n",
              "</div>"
            ],
            "text/plain": [
              "                                   Low Value  ...  Extremely High Value\n",
              "Community co-creation of projects      14.62  ...                  7.68\n",
              "Centralized creation of projects       25.38  ...                 13.32\n",
              "\n",
              "[2 rows x 4 columns]"
            ]
          },
          "metadata": {
            "tags": []
          },
          "execution_count": 5
        }
      ]
    },
    {
      "cell_type": "code",
      "metadata": {
        "colab": {
          "base_uri": "https://localhost:8080/"
        },
        "id": "o484vMkr_VZC",
        "outputId": "09532773-e173-4d99-ac68-1cfd00d1ebb5"
      },
      "source": [
        "pvalue = chi2_contingency(communityCreation)[1]\n",
        "if pvalue < 0.05:\n",
        "  print('The result is statistically significant, so we reject the null hypothesis')\n",
        "else:\n",
        "  print('The result is not statistically significant, so we fail to reject the hypothesis')"
      ],
      "execution_count": 6,
      "outputs": [
        {
          "output_type": "stream",
          "text": [
            "The result is statistically significant, so we reject the null hypothesis\n"
          ],
          "name": "stdout"
        }
      ]
    },
    {
      "cell_type": "code",
      "metadata": {
        "colab": {
          "base_uri": "https://localhost:8080/"
        },
        "id": "JDygN3y-DZuf",
        "outputId": "d528989d-6dc0-43cc-9d5e-889c1b67e3e9"
      },
      "source": [
        "print(pvalue)"
      ],
      "execution_count": 7,
      "outputs": [
        {
          "output_type": "stream",
          "text": [
            "0.00023376045282882832\n"
          ],
          "name": "stdout"
        }
      ]
    },
    {
      "cell_type": "code",
      "metadata": {
        "id": "ERPVwF-s_aF6"
      },
      "source": [
        "successGivenCommunityCreation = communityCreation['Extremely High Value'][0] / (communityCreation['Low Value'][0] + communityCreation['Moderate Value'][0] + communityCreation['High Value'][0] + communityCreation['Extremely High Value'][0])"
      ],
      "execution_count": null,
      "outputs": []
    },
    {
      "cell_type": "code",
      "metadata": {
        "id": "59w1w5Hz_vHe"
      },
      "source": [
        "successGivenCentralizedCreation = communityCreation['Extremely High Value'][1] / (communityCreation['Low Value'][1] + communityCreation['Moderate Value'][1] + communityCreation['High Value'][1] + communityCreation['Extremely High Value'][1])"
      ],
      "execution_count": null,
      "outputs": []
    },
    {
      "cell_type": "code",
      "metadata": {
        "colab": {
          "base_uri": "https://localhost:8080/"
        },
        "id": "p7VrEPzD_0im",
        "outputId": "5e202009-5cfa-4a7d-a6ab-2a9a34f3e573"
      },
      "source": [
        "if successGivenCommunityCreation > successGivenCentralizedCreation:\n",
        "  print('Community co-creation has a positive impact')\n",
        "else:\n",
        "  print('Community co-creation has a negative impact')"
      ],
      "execution_count": null,
      "outputs": [
        {
          "output_type": "stream",
          "text": [
            "Community co-creation has a positive impact\n"
          ],
          "name": "stdout"
        }
      ]
    },
    {
      "cell_type": "code",
      "metadata": {
        "id": "Hb1LqnVoAMVS"
      },
      "source": [
        ""
      ],
      "execution_count": null,
      "outputs": []
    }
  ]
}