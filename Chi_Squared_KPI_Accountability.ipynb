{
  "nbformat": 4,
  "nbformat_minor": 0,
  "metadata": {
    "colab": {
      "name": "Chi Squared KPI Accountability.ipynb",
      "provenance": [],
      "authorship_tag": "ABX9TyNYMOwE8PUAMulRl8A8vvW/",
      "include_colab_link": true
    },
    "kernelspec": {
      "name": "python3",
      "display_name": "Python 3"
    },
    "language_info": {
      "name": "python"
    }
  },
  "cells": [
    {
      "cell_type": "markdown",
      "metadata": {
        "id": "view-in-github",
        "colab_type": "text"
      },
      "source": [
        "<a href=\"https://colab.research.google.com/github/robisonJohn/Blockchain-Governance-Project/blob/main/Chi_Squared_KPI_Accountability.ipynb\" target=\"_parent\"><img src=\"https://colab.research.google.com/assets/colab-badge.svg\" alt=\"Open In Colab\"/></a>"
      ]
    },
    {
      "cell_type": "code",
      "metadata": {
        "colab": {
          "base_uri": "https://localhost:8080/",
          "height": 111
        },
        "id": "ZU05P0L8AfUw",
        "outputId": "539c0c2c-38d9-4d7b-c364-5eab3960f591"
      },
      "source": [
        "import pandas as pd\n",
        "from scipy.stats import chi2_contingency\n",
        "import numpy as np\n",
        "\n",
        "kpi = pd.DataFrame(\n",
        "    [\n",
        "     [6,1,12,15],\n",
        "     [34,2,17,6]\n",
        "    ],\n",
        "    index=[\n",
        "           \"Execution quality KPI accountability\", \n",
        "           \"No built-in accountability\"\n",
        "           ],\n",
        "    columns=['Low Value',\"Moderate Value\",\"High Value\",\"Extremely High Value\"]\n",
        ")\n",
        "kpi"
      ],
      "execution_count": 1,
      "outputs": [
        {
          "output_type": "execute_result",
          "data": {
            "text/html": [
              "<div>\n",
              "<style scoped>\n",
              "    .dataframe tbody tr th:only-of-type {\n",
              "        vertical-align: middle;\n",
              "    }\n",
              "\n",
              "    .dataframe tbody tr th {\n",
              "        vertical-align: top;\n",
              "    }\n",
              "\n",
              "    .dataframe thead th {\n",
              "        text-align: right;\n",
              "    }\n",
              "</style>\n",
              "<table border=\"1\" class=\"dataframe\">\n",
              "  <thead>\n",
              "    <tr style=\"text-align: right;\">\n",
              "      <th></th>\n",
              "      <th>Low Value</th>\n",
              "      <th>Moderate Value</th>\n",
              "      <th>High Value</th>\n",
              "      <th>Extremely High Value</th>\n",
              "    </tr>\n",
              "  </thead>\n",
              "  <tbody>\n",
              "    <tr>\n",
              "      <th>Execution quality KPI accountability</th>\n",
              "      <td>6</td>\n",
              "      <td>1</td>\n",
              "      <td>12</td>\n",
              "      <td>15</td>\n",
              "    </tr>\n",
              "    <tr>\n",
              "      <th>No built-in accountability</th>\n",
              "      <td>34</td>\n",
              "      <td>2</td>\n",
              "      <td>17</td>\n",
              "      <td>6</td>\n",
              "    </tr>\n",
              "  </tbody>\n",
              "</table>\n",
              "</div>"
            ],
            "text/plain": [
              "                                      Low Value  ...  Extremely High Value\n",
              "Execution quality KPI accountability          6  ...                    15\n",
              "No built-in accountability                   34  ...                     6\n",
              "\n",
              "[2 rows x 4 columns]"
            ]
          },
          "metadata": {
            "tags": []
          },
          "execution_count": 1
        }
      ]
    },
    {
      "cell_type": "code",
      "metadata": {
        "colab": {
          "base_uri": "https://localhost:8080/",
          "height": 111
        },
        "id": "ygY2KtQ2BECc",
        "outputId": "ea7c7b49-ae6c-4828-f54d-0bc0331fd38f"
      },
      "source": [
        "df=chi2_contingency(kpi)[3]\n",
        "\n",
        "pd.DataFrame(\n",
        "    data=df[:,:],\n",
        "    index=[\"Excecution quality KPI accountability\", \n",
        "           \"No built-in accountability\"],\n",
        "    columns=['Low Value',\"Moderate Value\",\"High Value\",\"Extremely High Value\"]\n",
        ").round(2)"
      ],
      "execution_count": 2,
      "outputs": [
        {
          "output_type": "execute_result",
          "data": {
            "text/html": [
              "<div>\n",
              "<style scoped>\n",
              "    .dataframe tbody tr th:only-of-type {\n",
              "        vertical-align: middle;\n",
              "    }\n",
              "\n",
              "    .dataframe tbody tr th {\n",
              "        vertical-align: top;\n",
              "    }\n",
              "\n",
              "    .dataframe thead th {\n",
              "        text-align: right;\n",
              "    }\n",
              "</style>\n",
              "<table border=\"1\" class=\"dataframe\">\n",
              "  <thead>\n",
              "    <tr style=\"text-align: right;\">\n",
              "      <th></th>\n",
              "      <th>Low Value</th>\n",
              "      <th>Moderate Value</th>\n",
              "      <th>High Value</th>\n",
              "      <th>Extremely High Value</th>\n",
              "    </tr>\n",
              "  </thead>\n",
              "  <tbody>\n",
              "    <tr>\n",
              "      <th>Excecution quality KPI accountability</th>\n",
              "      <td>14.62</td>\n",
              "      <td>1.1</td>\n",
              "      <td>10.6</td>\n",
              "      <td>7.68</td>\n",
              "    </tr>\n",
              "    <tr>\n",
              "      <th>No built-in accountability</th>\n",
              "      <td>25.38</td>\n",
              "      <td>1.9</td>\n",
              "      <td>18.4</td>\n",
              "      <td>13.32</td>\n",
              "    </tr>\n",
              "  </tbody>\n",
              "</table>\n",
              "</div>"
            ],
            "text/plain": [
              "                                       Low Value  ...  Extremely High Value\n",
              "Excecution quality KPI accountability      14.62  ...                  7.68\n",
              "No built-in accountability                 25.38  ...                 13.32\n",
              "\n",
              "[2 rows x 4 columns]"
            ]
          },
          "metadata": {
            "tags": []
          },
          "execution_count": 2
        }
      ]
    },
    {
      "cell_type": "code",
      "metadata": {
        "colab": {
          "base_uri": "https://localhost:8080/"
        },
        "id": "UFGLuvCUBLF2",
        "outputId": "995a1085-6cdb-497b-e16b-5985e516ca34"
      },
      "source": [
        "pvalue = chi2_contingency(kpi)[1]\n",
        "if pvalue < 0.05:\n",
        "  print('The result is statistically significant, so we reject the null hypothesis')\n",
        "else:\n",
        "  print('The result is not statistically significant, so we fail to reject the hypothesis')"
      ],
      "execution_count": 3,
      "outputs": [
        {
          "output_type": "stream",
          "text": [
            "The result is statistically significant, so we reject the null hypothesis\n"
          ],
          "name": "stdout"
        }
      ]
    },
    {
      "cell_type": "code",
      "metadata": {
        "id": "w9UfRXqPBYRd"
      },
      "source": [
        "successGivenKPI = kpi['Extremely High Value'][0] / (kpi['Low Value'][0] + kpi['Moderate Value'][0] + kpi['High Value'][0] + kpi['Extremely High Value'][0])"
      ],
      "execution_count": 4,
      "outputs": []
    },
    {
      "cell_type": "code",
      "metadata": {
        "id": "PGgdJulHBfBb"
      },
      "source": [
        "successGivenNoKPI = kpi['Extremely High Value'][1] / (kpi['Low Value'][1] + kpi['Moderate Value'][1] + kpi['High Value'][1] + kpi['Extremely High Value'][1])"
      ],
      "execution_count": 5,
      "outputs": []
    },
    {
      "cell_type": "code",
      "metadata": {
        "colab": {
          "base_uri": "https://localhost:8080/"
        },
        "id": "jiZEduhDBgpl",
        "outputId": "1dc9211a-1c91-438e-99db-91619d86f0f4"
      },
      "source": [
        "if successGivenKPI > successGivenNoKPI:\n",
        "  print('KPIs have a positive impact')\n",
        "else:\n",
        "  print('KPIs have a negative impact')"
      ],
      "execution_count": 6,
      "outputs": [
        {
          "output_type": "stream",
          "text": [
            "KPIs have a positive impact\n"
          ],
          "name": "stdout"
        }
      ]
    },
    {
      "cell_type": "code",
      "metadata": {
        "id": "EneDFpPZB8TI"
      },
      "source": [
        ""
      ],
      "execution_count": null,
      "outputs": []
    }
  ]
}