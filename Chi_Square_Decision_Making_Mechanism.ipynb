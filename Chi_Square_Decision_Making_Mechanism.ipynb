{
  "nbformat": 4,
  "nbformat_minor": 0,
  "metadata": {
    "colab": {
      "name": "Chi Square Decision-Making Mechanism.ipynb",
      "provenance": [],
      "authorship_tag": "ABX9TyOwvdz4OJ2rwR5rjtJpr122",
      "include_colab_link": true
    },
    "kernelspec": {
      "name": "python3",
      "display_name": "Python 3"
    },
    "language_info": {
      "name": "python"
    }
  },
  "cells": [
    {
      "cell_type": "markdown",
      "metadata": {
        "id": "view-in-github",
        "colab_type": "text"
      },
      "source": [
        "<a href=\"https://colab.research.google.com/github/robisonJohn/Blockchain-Governance-Project/blob/main/Chi_Square_Decision_Making_Mechanism.ipynb\" target=\"_parent\"><img src=\"https://colab.research.google.com/assets/colab-badge.svg\" alt=\"Open In Colab\"/></a>"
      ]
    },
    {
      "cell_type": "code",
      "metadata": {
        "colab": {
          "base_uri": "https://localhost:8080/"
        },
        "id": "ds6gl5822npx",
        "outputId": "d9219c88-f942-401c-d30e-30c1e805599f"
      },
      "source": [
        "import pandas as pd\n",
        "from scipy.stats import chi2_contingency\n",
        "import numpy as np\n",
        "\n",
        "url = 'https://raw.githubusercontent.com/robisonJohn/Blockchain-Governance-Project/main/governance.csv';\n",
        "\n",
        "data = pd.read_csv(url);\n",
        "\n",
        "listOne = list(data['ValueCreationNorm'])\n",
        "listTwo = list(data['Decision-making mechanism'])\n",
        "\n",
        "listThree = []\n",
        "\n",
        "i = 0\n",
        "for i in range(len(listOne)):\n",
        "  if type(listTwo[i]) == str:\n",
        "    listThree.append((listOne[i], listTwo[i]))\n",
        "\n",
        "dictionary = {\n",
        "    ('1', 'Centralized'): 0,\n",
        "    ('1', 'Consortium majority'): 0,\n",
        "    ('1', 'Token amount majority'): 0,\n",
        "     ('1', 'Other'): 0,\n",
        "    ('2', 'Centralized'): 0,\n",
        "    ('2', 'Consortium majority'): 0,\n",
        "    ('2', 'Token amount majority'): 0,\n",
        "     ('2', 'Other'): 0,\n",
        "    ('3', 'Centralized'): 0,\n",
        "    ('3', 'Consortium majority'): 0,\n",
        "    ('3', 'Token amount majority'): 0,\n",
        "     ('3', 'Other'): 0,\n",
        "    ('4', 'Centralized'): 0,\n",
        "    ('4', 'Consortium majority'): 0,\n",
        "    ('4', 'Token amount majority'): 0,\n",
        "     ('4', 'Other'): 0,\n",
        "\n",
        "}\n",
        "\n",
        "for item in listThree:\n",
        "  if item in dictionary:\n",
        "    dictionary[item] += 1\n",
        "\n",
        "dictionary"
      ],
      "execution_count": 2,
      "outputs": [
        {
          "output_type": "execute_result",
          "data": {
            "text/plain": [
              "{('1', 'Centralized'): 30,\n",
              " ('1', 'Consortium majority'): 1,\n",
              " ('1', 'Other'): 3,\n",
              " ('1', 'Token amount majority'): 5,\n",
              " ('2', 'Centralized'): 1,\n",
              " ('2', 'Consortium majority'): 1,\n",
              " ('2', 'Other'): 1,\n",
              " ('2', 'Token amount majority'): 0,\n",
              " ('3', 'Centralized'): 12,\n",
              " ('3', 'Consortium majority'): 3,\n",
              " ('3', 'Other'): 2,\n",
              " ('3', 'Token amount majority'): 11,\n",
              " ('4', 'Centralized'): 8,\n",
              " ('4', 'Consortium majority'): 2,\n",
              " ('4', 'Other'): 2,\n",
              " ('4', 'Token amount majority'): 9}"
            ]
          },
          "metadata": {
            "tags": []
          },
          "execution_count": 2
        }
      ]
    },
    {
      "cell_type": "code",
      "metadata": {
        "colab": {
          "base_uri": "https://localhost:8080/",
          "height": 173
        },
        "id": "WcSIpk394U_i",
        "outputId": "b51e7813-148e-498c-e2ad-8d934dfc93ca"
      },
      "source": [
        "mechanism = pd.DataFrame(\n",
        "    [\n",
        "     [30,1,12,8],\n",
        "     [1,1,3,2],\n",
        "     [5,0,11,9],\n",
        "     [3,1,2,2]\n",
        "    ],\n",
        "    index=[\n",
        "           'Centralized',\n",
        "           'Consortium majority',\n",
        "           'Token amount majority',\n",
        "           'Other'\n",
        "           ],\n",
        "    columns = [\n",
        "               'Low Value',\n",
        "               \"Moderate Value\",\n",
        "               \"High Value\",\n",
        "               \"Extremely High Value\"\n",
        "               ]\n",
        ")\n",
        "mechanism"
      ],
      "execution_count": 3,
      "outputs": [
        {
          "output_type": "execute_result",
          "data": {
            "text/html": [
              "<div>\n",
              "<style scoped>\n",
              "    .dataframe tbody tr th:only-of-type {\n",
              "        vertical-align: middle;\n",
              "    }\n",
              "\n",
              "    .dataframe tbody tr th {\n",
              "        vertical-align: top;\n",
              "    }\n",
              "\n",
              "    .dataframe thead th {\n",
              "        text-align: right;\n",
              "    }\n",
              "</style>\n",
              "<table border=\"1\" class=\"dataframe\">\n",
              "  <thead>\n",
              "    <tr style=\"text-align: right;\">\n",
              "      <th></th>\n",
              "      <th>Low Value</th>\n",
              "      <th>Moderate Value</th>\n",
              "      <th>High Value</th>\n",
              "      <th>Extremely High Value</th>\n",
              "    </tr>\n",
              "  </thead>\n",
              "  <tbody>\n",
              "    <tr>\n",
              "      <th>Centralized</th>\n",
              "      <td>30</td>\n",
              "      <td>1</td>\n",
              "      <td>12</td>\n",
              "      <td>8</td>\n",
              "    </tr>\n",
              "    <tr>\n",
              "      <th>Consortium majority</th>\n",
              "      <td>1</td>\n",
              "      <td>1</td>\n",
              "      <td>3</td>\n",
              "      <td>2</td>\n",
              "    </tr>\n",
              "    <tr>\n",
              "      <th>Token amount majority</th>\n",
              "      <td>5</td>\n",
              "      <td>0</td>\n",
              "      <td>11</td>\n",
              "      <td>9</td>\n",
              "    </tr>\n",
              "    <tr>\n",
              "      <th>Other</th>\n",
              "      <td>3</td>\n",
              "      <td>1</td>\n",
              "      <td>2</td>\n",
              "      <td>2</td>\n",
              "    </tr>\n",
              "  </tbody>\n",
              "</table>\n",
              "</div>"
            ],
            "text/plain": [
              "                       Low Value  ...  Extremely High Value\n",
              "Centralized                   30  ...                     8\n",
              "Consortium majority            1  ...                     2\n",
              "Token amount majority          5  ...                     9\n",
              "Other                          3  ...                     2\n",
              "\n",
              "[4 rows x 4 columns]"
            ]
          },
          "metadata": {
            "tags": []
          },
          "execution_count": 3
        }
      ]
    },
    {
      "cell_type": "code",
      "metadata": {
        "colab": {
          "base_uri": "https://localhost:8080/",
          "height": 173
        },
        "id": "7CoaB0eX5Rsn",
        "outputId": "52b2fa2b-1d45-42a4-99ec-46f0ec71ce9e"
      },
      "source": [
        "# Expected values \n",
        "df = chi2_contingency(mechanism)[3]\n",
        "\n",
        "pd.DataFrame(\n",
        "    data=df[:,:],\n",
        "    index=[\n",
        "           'Centralized',\n",
        "           'Consortium majority',\n",
        "           'Token amount majority',\n",
        "           'Other'\n",
        "    ],\n",
        "    columns=[\n",
        "             'Low Value',\n",
        "              \"Moderate Value\",\n",
        "              \"High Value\",\n",
        "              \"Extremely High Value\"\n",
        "    ]\n",
        ").round(2)"
      ],
      "execution_count": 4,
      "outputs": [
        {
          "output_type": "execute_result",
          "data": {
            "text/html": [
              "<div>\n",
              "<style scoped>\n",
              "    .dataframe tbody tr th:only-of-type {\n",
              "        vertical-align: middle;\n",
              "    }\n",
              "\n",
              "    .dataframe tbody tr th {\n",
              "        vertical-align: top;\n",
              "    }\n",
              "\n",
              "    .dataframe thead th {\n",
              "        text-align: right;\n",
              "    }\n",
              "</style>\n",
              "<table border=\"1\" class=\"dataframe\">\n",
              "  <thead>\n",
              "    <tr style=\"text-align: right;\">\n",
              "      <th></th>\n",
              "      <th>Low Value</th>\n",
              "      <th>Moderate Value</th>\n",
              "      <th>High Value</th>\n",
              "      <th>Extremely High Value</th>\n",
              "    </tr>\n",
              "  </thead>\n",
              "  <tbody>\n",
              "    <tr>\n",
              "      <th>Centralized</th>\n",
              "      <td>21.86</td>\n",
              "      <td>1.68</td>\n",
              "      <td>15.69</td>\n",
              "      <td>11.77</td>\n",
              "    </tr>\n",
              "    <tr>\n",
              "      <th>Consortium majority</th>\n",
              "      <td>3.00</td>\n",
              "      <td>0.23</td>\n",
              "      <td>2.15</td>\n",
              "      <td>1.62</td>\n",
              "    </tr>\n",
              "    <tr>\n",
              "      <th>Token amount majority</th>\n",
              "      <td>10.71</td>\n",
              "      <td>0.82</td>\n",
              "      <td>7.69</td>\n",
              "      <td>5.77</td>\n",
              "    </tr>\n",
              "    <tr>\n",
              "      <th>Other</th>\n",
              "      <td>3.43</td>\n",
              "      <td>0.26</td>\n",
              "      <td>2.46</td>\n",
              "      <td>1.85</td>\n",
              "    </tr>\n",
              "  </tbody>\n",
              "</table>\n",
              "</div>"
            ],
            "text/plain": [
              "                       Low Value  ...  Extremely High Value\n",
              "Centralized                21.86  ...                 11.77\n",
              "Consortium majority         3.00  ...                  1.62\n",
              "Token amount majority      10.71  ...                  5.77\n",
              "Other                       3.43  ...                  1.85\n",
              "\n",
              "[4 rows x 4 columns]"
            ]
          },
          "metadata": {
            "tags": []
          },
          "execution_count": 4
        }
      ]
    },
    {
      "cell_type": "code",
      "metadata": {
        "colab": {
          "base_uri": "https://localhost:8080/"
        },
        "id": "kYBSFpH85deU",
        "outputId": "f8673c4c-e5e2-49b4-8a8b-3509afa79b3a"
      },
      "source": [
        "pvalue = chi2_contingency(mechanism)[1]\n",
        "if pvalue < 0.05:\n",
        "  print('The result is statistically significant, so we reject the null hypothesis')\n",
        "else:\n",
        "  print('The result is not statistically significant, so we fail to reject the hypothesis')"
      ],
      "execution_count": 5,
      "outputs": [
        {
          "output_type": "stream",
          "text": [
            "The result is statistically significant, so we reject the null hypothesis\n"
          ],
          "name": "stdout"
        }
      ]
    },
    {
      "cell_type": "code",
      "metadata": {
        "id": "w10DVheZ5ifz"
      },
      "source": [
        "successGivenCentralized = (mechanism['Extremely High Value'][0] + mechanism['High Value'][0]) / (mechanism['Low Value'][0] + mechanism['Moderate Value'][0] + mechanism['High Value'][0] + mechanism['Extremely High Value'][0])\n",
        "successGivenConsortium = (mechanism['Extremely High Value'][1] + mechanism['High Value'][1]) / (mechanism['Low Value'][1] + mechanism['Moderate Value'][1] + mechanism['High Value'][1] + mechanism['Extremely High Value'][1])\n",
        "successGivenToken = (mechanism['Extremely High Value'][2] + mechanism['High Value'][2]) / (mechanism['Low Value'][2] + mechanism['Moderate Value'][2] + mechanism['High Value'][2] + mechanism['Extremely High Value'][2])\n",
        "successGivenOther = (mechanism['Extremely High Value'][3] + mechanism['High Value'][3]) / (mechanism['Low Value'][3] + mechanism['Moderate Value'][3] + mechanism['High Value'][3] + mechanism['Extremely High Value'][3])\n",
        "\n"
      ],
      "execution_count": 19,
      "outputs": []
    },
    {
      "cell_type": "code",
      "metadata": {
        "colab": {
          "base_uri": "https://localhost:8080/"
        },
        "id": "RiWCCCvU51CB",
        "outputId": "f82cdf30-0cab-4d1d-a719-ed5c6086dcfa"
      },
      "source": [
        "successGivenCentralized * (mechanism['Low Value'][0] + mechanism['Moderate Value'][0] + mechanism['High Value'][0] + mechanism['Extremely High Value'][0])"
      ],
      "execution_count": 20,
      "outputs": [
        {
          "output_type": "execute_result",
          "data": {
            "text/plain": [
              "21.0"
            ]
          },
          "metadata": {
            "tags": []
          },
          "execution_count": 20
        }
      ]
    },
    {
      "cell_type": "code",
      "metadata": {
        "colab": {
          "base_uri": "https://localhost:8080/"
        },
        "id": "CXTzu3_V6TjV",
        "outputId": "51dbb5b6-8eaf-4f46-e85e-187ca1a29b9a"
      },
      "source": [
        "(mechanism['Low Value'][1] + mechanism['Moderate Value'][1] + mechanism['High Value'][1] + mechanism['Extremely High Value'][1]) * successGivenConsortium"
      ],
      "execution_count": 21,
      "outputs": [
        {
          "output_type": "execute_result",
          "data": {
            "text/plain": [
              "5.0"
            ]
          },
          "metadata": {
            "tags": []
          },
          "execution_count": 21
        }
      ]
    },
    {
      "cell_type": "code",
      "metadata": {
        "colab": {
          "base_uri": "https://localhost:8080/"
        },
        "id": "d5FrgAnA6Zrf",
        "outputId": "0a9ff170-cf93-4e29-b856-d401eb855a2a"
      },
      "source": [
        "(mechanism['Low Value'][2] + mechanism['Moderate Value'][2] + mechanism['High Value'][2] + mechanism['Extremely High Value'][2]) * successGivenToken"
      ],
      "execution_count": 22,
      "outputs": [
        {
          "output_type": "execute_result",
          "data": {
            "text/plain": [
              "20.0"
            ]
          },
          "metadata": {
            "tags": []
          },
          "execution_count": 22
        }
      ]
    },
    {
      "cell_type": "code",
      "metadata": {
        "colab": {
          "base_uri": "https://localhost:8080/"
        },
        "id": "_MopQxDL6cBl",
        "outputId": "bdb58103-6522-45ff-f560-f68a1ca87537"
      },
      "source": [
        "(mechanism['Low Value'][3] + mechanism['Moderate Value'][3] + mechanism['High Value'][3] + mechanism['Extremely High Value'][3]) * successGivenOther"
      ],
      "execution_count": 23,
      "outputs": [
        {
          "output_type": "execute_result",
          "data": {
            "text/plain": [
              "4.0"
            ]
          },
          "metadata": {
            "tags": []
          },
          "execution_count": 23
        }
      ]
    },
    {
      "cell_type": "code",
      "metadata": {
        "id": "ROx7Nisj6mLg"
      },
      "source": [
        ""
      ],
      "execution_count": null,
      "outputs": []
    }
  ]
}