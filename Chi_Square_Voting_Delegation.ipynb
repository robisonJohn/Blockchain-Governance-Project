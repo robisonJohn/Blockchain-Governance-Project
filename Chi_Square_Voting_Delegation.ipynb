{
  "nbformat": 4,
  "nbformat_minor": 0,
  "metadata": {
    "colab": {
      "name": "Chi Square Voting Delegation.ipynb",
      "provenance": [],
      "authorship_tag": "ABX9TyPIgcgNfmDECxnIcSIR0ESd",
      "include_colab_link": true
    },
    "kernelspec": {
      "name": "python3",
      "display_name": "Python 3"
    },
    "language_info": {
      "name": "python"
    }
  },
  "cells": [
    {
      "cell_type": "markdown",
      "metadata": {
        "id": "view-in-github",
        "colab_type": "text"
      },
      "source": [
        "<a href=\"https://colab.research.google.com/github/robisonJohn/Blockchain-Governance-Project/blob/main/Chi_Square_Voting_Delegation.ipynb\" target=\"_parent\"><img src=\"https://colab.research.google.com/assets/colab-badge.svg\" alt=\"Open In Colab\"/></a>"
      ]
    },
    {
      "cell_type": "code",
      "metadata": {
        "colab": {
          "base_uri": "https://localhost:8080/"
        },
        "id": "h6uoRQNe7Twz",
        "outputId": "d7253c3f-bf9e-4de9-d3cc-1737b6304274"
      },
      "source": [
        "import pandas as pd\n",
        "from scipy.stats import chi2_contingency\n",
        "import numpy as np\n",
        "\n",
        "url = 'https://raw.githubusercontent.com/robisonJohn/Blockchain-Governance-Project/main/governance.csv';\n",
        "\n",
        "data = pd.read_csv(url);\n",
        "\n",
        "listOne = list(data['ValueCreationNorm'])\n",
        "listTwo = list(data['Voting delegation'])\n",
        "\n",
        "listThree = []\n",
        "\n",
        "i = 0\n",
        "for i in range(len(listOne)):\n",
        "  if type(listTwo[i]) == str:\n",
        "    listThree.append((listOne[i], listTwo[i]))\n",
        "\n",
        "dictionary = {\n",
        "    ('1', 'Open'): 0,\n",
        "    ('1', 'None'): 0,\n",
        "    ('1', 'With terms'): 0,\n",
        "    ('2', 'Open'): 0,\n",
        "    ('2', 'None'): 0,\n",
        "    ('2', 'With terms'): 0,\n",
        "    ('3', 'Open'): 0,\n",
        "    ('3', 'None'): 0,\n",
        "    ('3', 'With terms'): 0,\n",
        "    ('4', 'Open'): 0,\n",
        "    ('4', 'None'): 0,\n",
        "    ('4', 'With terms'): 0,\n",
        "\n",
        "\n",
        "}\n",
        "\n",
        "for item in listThree:\n",
        "  if item in dictionary:\n",
        "    dictionary[item] += 1\n",
        "\n",
        "dictionary"
      ],
      "execution_count": null,
      "outputs": [
        {
          "output_type": "execute_result",
          "data": {
            "text/plain": [
              "{('1', 'None'): 35,\n",
              " ('1', 'Open'): 3,\n",
              " ('1', 'With terms'): 0,\n",
              " ('2', 'None'): 3,\n",
              " ('2', 'Open'): 0,\n",
              " ('2', 'With terms'): 0,\n",
              " ('3', 'None'): 22,\n",
              " ('3', 'Open'): 6,\n",
              " ('3', 'With terms'): 0,\n",
              " ('4', 'None'): 19,\n",
              " ('4', 'Open'): 2,\n",
              " ('4', 'With terms'): 0}"
            ]
          },
          "metadata": {
            "tags": []
          },
          "execution_count": 1
        }
      ]
    },
    {
      "cell_type": "code",
      "metadata": {
        "colab": {
          "base_uri": "https://localhost:8080/",
          "height": 111
        },
        "id": "RoqLnN068B2s",
        "outputId": "f377f451-a41b-459f-f2ee-6a4a56b68bc3"
      },
      "source": [
        "delegation = pd.DataFrame(\n",
        "    [\n",
        "     [35,3,22,19],\n",
        "     [3,0,6,2]\n",
        "    ],\n",
        "    index=[\n",
        "           'None',\n",
        "           'Open'\n",
        "           ],\n",
        "    columns = [\n",
        "               'Low Value',\n",
        "               \"Moderate Value\",\n",
        "               \"High Value\",\n",
        "               \"Extremely High Value\"\n",
        "               ]\n",
        ")\n",
        "delegation\n",
        "# With terms had zero entries so it was pointless to include"
      ],
      "execution_count": null,
      "outputs": [
        {
          "output_type": "execute_result",
          "data": {
            "text/html": [
              "<div>\n",
              "<style scoped>\n",
              "    .dataframe tbody tr th:only-of-type {\n",
              "        vertical-align: middle;\n",
              "    }\n",
              "\n",
              "    .dataframe tbody tr th {\n",
              "        vertical-align: top;\n",
              "    }\n",
              "\n",
              "    .dataframe thead th {\n",
              "        text-align: right;\n",
              "    }\n",
              "</style>\n",
              "<table border=\"1\" class=\"dataframe\">\n",
              "  <thead>\n",
              "    <tr style=\"text-align: right;\">\n",
              "      <th></th>\n",
              "      <th>Low Value</th>\n",
              "      <th>Moderate Value</th>\n",
              "      <th>High Value</th>\n",
              "      <th>Extremely High Value</th>\n",
              "    </tr>\n",
              "  </thead>\n",
              "  <tbody>\n",
              "    <tr>\n",
              "      <th>None</th>\n",
              "      <td>35</td>\n",
              "      <td>3</td>\n",
              "      <td>22</td>\n",
              "      <td>19</td>\n",
              "    </tr>\n",
              "    <tr>\n",
              "      <th>Open</th>\n",
              "      <td>3</td>\n",
              "      <td>0</td>\n",
              "      <td>6</td>\n",
              "      <td>2</td>\n",
              "    </tr>\n",
              "  </tbody>\n",
              "</table>\n",
              "</div>"
            ],
            "text/plain": [
              "      Low Value  Moderate Value  High Value  Extremely High Value\n",
              "None         35               3          22                    19\n",
              "Open          3               0           6                     2"
            ]
          },
          "metadata": {
            "tags": []
          },
          "execution_count": 8
        }
      ]
    },
    {
      "cell_type": "code",
      "metadata": {
        "colab": {
          "base_uri": "https://localhost:8080/",
          "height": 111
        },
        "id": "-uUHOugB8dUG",
        "outputId": "ce75cfd7-07eb-4e78-f721-7192744be177"
      },
      "source": [
        "# Expected values \n",
        "df = chi2_contingency(delegation)[3]\n",
        "\n",
        "pd.DataFrame(\n",
        "    data=df[:,:],\n",
        "    index=[\n",
        "           'None',\n",
        "           'Open'\n",
        "    ],\n",
        "    columns=[\n",
        "             'Low Value',\n",
        "              \"Moderate Value\",\n",
        "              \"High Value\",\n",
        "              \"Extremely High Value\"\n",
        "    ]\n",
        ").round(2)"
      ],
      "execution_count": null,
      "outputs": [
        {
          "output_type": "execute_result",
          "data": {
            "text/html": [
              "<div>\n",
              "<style scoped>\n",
              "    .dataframe tbody tr th:only-of-type {\n",
              "        vertical-align: middle;\n",
              "    }\n",
              "\n",
              "    .dataframe tbody tr th {\n",
              "        vertical-align: top;\n",
              "    }\n",
              "\n",
              "    .dataframe thead th {\n",
              "        text-align: right;\n",
              "    }\n",
              "</style>\n",
              "<table border=\"1\" class=\"dataframe\">\n",
              "  <thead>\n",
              "    <tr style=\"text-align: right;\">\n",
              "      <th></th>\n",
              "      <th>Low Value</th>\n",
              "      <th>Moderate Value</th>\n",
              "      <th>High Value</th>\n",
              "      <th>Extremely High Value</th>\n",
              "    </tr>\n",
              "  </thead>\n",
              "  <tbody>\n",
              "    <tr>\n",
              "      <th>None</th>\n",
              "      <td>33.36</td>\n",
              "      <td>2.63</td>\n",
              "      <td>24.58</td>\n",
              "      <td>18.43</td>\n",
              "    </tr>\n",
              "    <tr>\n",
              "      <th>Open</th>\n",
              "      <td>4.64</td>\n",
              "      <td>0.37</td>\n",
              "      <td>3.42</td>\n",
              "      <td>2.57</td>\n",
              "    </tr>\n",
              "  </tbody>\n",
              "</table>\n",
              "</div>"
            ],
            "text/plain": [
              "      Low Value  Moderate Value  High Value  Extremely High Value\n",
              "None      33.36            2.63       24.58                 18.43\n",
              "Open       4.64            0.37        3.42                  2.57"
            ]
          },
          "metadata": {
            "tags": []
          },
          "execution_count": 9
        }
      ]
    },
    {
      "cell_type": "code",
      "metadata": {
        "colab": {
          "base_uri": "https://localhost:8080/"
        },
        "id": "Oaqyuvns80dq",
        "outputId": "fe30ef17-5b72-461d-ef55-8b1aa8d76d75"
      },
      "source": [
        "pvalue = chi2_contingency(delegation)[1]\n",
        "if pvalue < 0.05:\n",
        "  print('The result is statistically significant, so we reject the null hypothesis')\n",
        "else:\n",
        "  print('The result is not statistically significant, so we fail to reject the hypothesis')"
      ],
      "execution_count": null,
      "outputs": [
        {
          "output_type": "stream",
          "text": [
            "The result is not statistically significant, so we fail to reject the hypothesis\n"
          ],
          "name": "stdout"
        }
      ]
    },
    {
      "cell_type": "code",
      "metadata": {
        "id": "BZ3uYhxA9tJJ",
        "outputId": "de705672-aac3-43aa-ed74-034fee022aa3",
        "colab": {
          "base_uri": "https://localhost:8080/"
        }
      },
      "source": [
        "print(pvalue)"
      ],
      "execution_count": 11,
      "outputs": [
        {
          "output_type": "stream",
          "text": [
            "0.32920693588896366\n"
          ],
          "name": "stdout"
        }
      ]
    },
    {
      "cell_type": "code",
      "metadata": {
        "id": "Et_ux51DASmB"
      },
      "source": [
        ""
      ],
      "execution_count": null,
      "outputs": []
    }
  ]
}